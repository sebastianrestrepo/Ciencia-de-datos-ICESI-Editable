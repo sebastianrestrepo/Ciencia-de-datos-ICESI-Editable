{
 "cells": [
  {
   "cell_type": "markdown",
   "metadata": {},
   "source": [
    "# Analítica de datos\n",
    "# Examen parcial 1\n",
    "# 2018-02\n",
    "# <font color='red'> NOMBRE APELLIDO, código </font>"
   ]
  },
  {
   "cell_type": "markdown",
   "metadata": {},
   "source": [
    "El dataset que deben analizar contiene los registros del histórico de las personas a las que se les ha otorgado un crédito financiero, indicando quienes pudieron pagarlo sin problemas y quienes no.\n",
    "\n",
    "La idea es poder predecir, utilizando un modelo de aprendizaje supervisado (KNN) y las variables independientes disponibles qué aspirantes a un crédito tienen mas o menos riesgo de pagar.\n",
    "\n",
    "Las variables de la hoja de datos son las siguientes:\n",
    "- ID: El ID del cliente en el banco. Numérico, debe ser positivo y único.\n",
    "- PudoPagar: Indica si el cliente ha podido pagar el crédito sin problemas (1) o no (0). Variable categórica binaria.\n",
    "- Estudiante: Indica si el cliente es estudiante (Si) o no lo es (No). Variable categórica binaria.\n",
    "- Deuda: Indica la cantidad del crédito que aún adeuda el cliente. Deben ser valores numéricos positivos o nulos.\n",
    "- Cuenta: Indica el dinero que tiene en la cuenta del banco. Deben ser valores numéricos."
   ]
  },
  {
   "cell_type": "markdown",
   "metadata": {},
   "source": [
    "## Entendimiento de los datos, limpieza"
   ]
  },
  {
   "cell_type": "markdown",
   "metadata": {},
   "source": [
    "El archivo \"creditos_examen.csv\" contiene el dataset que tienen que analizar.\n",
    "Se recomienda abrirlo primero en un lector de archivos planos para entender preliminarmente su formato y así poderlo cargar adecuadamente con Python.\n",
    "\n",
    "Teniendo en cuenta el tipo de problema en cuestión (clasificación o regresión), realice un análisis exploratorio de los datos estableciendo el baseline, verificando la calidad de los datos (tipos de las variables, valores inválidos, excepciones, valores faltantes, etc.), utilizando gráficos para poder entender las distribuciones de los datos e identificar posibles problemas."
   ]
  },
  {
   "cell_type": "markdown",
   "metadata": {},
   "source": [
    "#### Puntos a desarrollar\n",
    "\n",
    "- <font color='red'>Carguen el archivo en memoria y exploren los datos, tratando de identificar problemas e inconsistencias teniendo en cuenta el diccionario de datos y el contexto del problema. (0.7) </font>\n",
    "\n",
    "- <font color='red'>Obtengan el modelo de referencia (Baseline) y calculen sus métricas de evaluación. (0.3)</font>\n",
    "\n",
    "- <font color='red'>Limpien los datos arreglando los problemas, eliminando columnas, eliminando registros, o ignorándolos, justificando sus decisiones. \n",
    "Una vez resueltos los problemas encontrados, indique la siguiente información: ID del registro, Tipo de ProblemaResolución. (1.2)</font>"
   ]
  },
  {
   "cell_type": "markdown",
   "metadata": {},
   "source": [
    "## Modelamiento con K-NN"
   ]
  },
  {
   "cell_type": "markdown",
   "metadata": {},
   "source": [
    "#### Puntos a desarrollar:\n",
    "\n",
    "- <font color='red'>Escogiendo un valor de los parámetros al azar, construyan un modelo K-NN inicial sobre los datos limpios y calcule las métricas de accuracy, error, kappa, precision, recall, especifidad, y F-measure. Analice la calidad del modelo interpretando las métricas (1.0).</font>\n",
    "\n",
    "- <font color='red'>Teniendo en cuenta las métricas más adecuadas para el problema, y siguiendo un protocolo de evaluación adecuado, establezca el mejor valor de los parámetros del modelo. (1.5)</font>\n",
    "\n",
    "- <font color='red'>¿El valor de los parámetros inicialmente escogido estaba en una situación de overfitting o de underfitting? Explique su respuesta. (0.5)</font>"
   ]
  },
  {
   "cell_type": "markdown",
   "metadata": {},
   "source": [
    "# Desarrollo de los puntos"
   ]
  },
  {
   "cell_type": "code",
   "execution_count": 1,
   "metadata": {},
   "outputs": [],
   "source": [
    "import numpy as np #operaciones matriciales y con vectores\n",
    "import pandas as pd #tratamiento de datos\n",
    "import matplotlib.pyplot as plt #gráficos\n",
    "from sklearn.model_selection import train_test_split #metodo de particionamiento de datasets para evaluación\n",
    "from sklearn.model_selection import KFold, cross_val_score #protocolo de evaluación\n",
    "from sklearn import neighbors, datasets, metrics\n",
    "from sklearn import preprocessing \n",
    "import seaborn as sns"
   ]
  },
  {
   "cell_type": "markdown",
   "metadata": {},
   "source": [
    "Cargamos los datos en memoria y visualizamos los datos iniciales y resumidos."
   ]
  },
  {
   "cell_type": "code",
   "execution_count": 2,
   "metadata": {},
   "outputs": [
    {
     "data": {
      "text/html": [
       "<div>\n",
       "<style scoped>\n",
       "    .dataframe tbody tr th:only-of-type {\n",
       "        vertical-align: middle;\n",
       "    }\n",
       "\n",
       "    .dataframe tbody tr th {\n",
       "        vertical-align: top;\n",
       "    }\n",
       "\n",
       "    .dataframe thead th {\n",
       "        text-align: right;\n",
       "    }\n",
       "</style>\n",
       "<table border=\"1\" class=\"dataframe\">\n",
       "  <thead>\n",
       "    <tr style=\"text-align: right;\">\n",
       "      <th></th>\n",
       "      <th>PudoPagar</th>\n",
       "      <th>Estudiante</th>\n",
       "      <th>Ingresos</th>\n",
       "      <th>Cuenta</th>\n",
       "    </tr>\n",
       "    <tr>\n",
       "      <th>ID</th>\n",
       "      <th></th>\n",
       "      <th></th>\n",
       "      <th></th>\n",
       "      <th></th>\n",
       "    </tr>\n",
       "  </thead>\n",
       "  <tbody>\n",
       "    <tr>\n",
       "      <th>-1</th>\n",
       "      <td>0</td>\n",
       "      <td>No</td>\n",
       "      <td>3196574</td>\n",
       "      <td>358943</td>\n",
       "    </tr>\n",
       "    <tr>\n",
       "      <th>-1</th>\n",
       "      <td>0</td>\n",
       "      <td>No</td>\n",
       "      <td>4944040</td>\n",
       "      <td>3857756</td>\n",
       "    </tr>\n",
       "    <tr>\n",
       "      <th>1</th>\n",
       "      <td>0</td>\n",
       "      <td>No</td>\n",
       "      <td>4436163</td>\n",
       "      <td>3647632</td>\n",
       "    </tr>\n",
       "    <tr>\n",
       "      <th>2</th>\n",
       "      <td>0</td>\n",
       "      <td>Si</td>\n",
       "      <td>1210613</td>\n",
       "      <td>4085902</td>\n",
       "    </tr>\n",
       "    <tr>\n",
       "      <th>3</th>\n",
       "      <td>0</td>\n",
       "      <td>No</td>\n",
       "      <td>3176714</td>\n",
       "      <td>5367746</td>\n",
       "    </tr>\n",
       "  </tbody>\n",
       "</table>\n",
       "</div>"
      ],
      "text/plain": [
       "    PudoPagar Estudiante  Ingresos   Cuenta\n",
       "ID                                         \n",
       "-1          0         No   3196574   358943\n",
       "-1          0         No   4944040  3857756\n",
       " 1          0         No   4436163  3647632\n",
       " 2          0         Si   1210613  4085902\n",
       " 3          0         No   3176714  5367746"
      ]
     },
     "execution_count": 2,
     "metadata": {},
     "output_type": "execute_result"
    }
   ],
   "source": [
    "data = pd.read_csv('creditos_examen.csv', index_col=0, sep=\";\")\n",
    "data.head()"
   ]
  },
  {
   "cell_type": "code",
   "execution_count": 3,
   "metadata": {},
   "outputs": [
    {
     "name": "stdout",
     "output_type": "stream",
     "text": [
      "<class 'pandas.core.frame.DataFrame'>\n",
      "Int64Index: 10000 entries, -1 to 10000\n",
      "Data columns (total 4 columns):\n",
      "PudoPagar     10000 non-null int64\n",
      "Estudiante    9996 non-null object\n",
      "Ingresos      10000 non-null int64\n",
      "Cuenta        10000 non-null int64\n",
      "dtypes: int64(3), object(1)\n",
      "memory usage: 390.6+ KB\n"
     ]
    }
   ],
   "source": [
    "data.info()"
   ]
  },
  {
   "cell_type": "code",
   "execution_count": 4,
   "metadata": {},
   "outputs": [
    {
     "data": {
      "text/html": [
       "<div>\n",
       "<style scoped>\n",
       "    .dataframe tbody tr th:only-of-type {\n",
       "        vertical-align: middle;\n",
       "    }\n",
       "\n",
       "    .dataframe tbody tr th {\n",
       "        vertical-align: top;\n",
       "    }\n",
       "\n",
       "    .dataframe thead th {\n",
       "        text-align: right;\n",
       "    }\n",
       "</style>\n",
       "<table border=\"1\" class=\"dataframe\">\n",
       "  <thead>\n",
       "    <tr style=\"text-align: right;\">\n",
       "      <th></th>\n",
       "      <th>PudoPagar</th>\n",
       "      <th>Estudiante</th>\n",
       "      <th>Ingresos</th>\n",
       "      <th>Cuenta</th>\n",
       "    </tr>\n",
       "  </thead>\n",
       "  <tbody>\n",
       "    <tr>\n",
       "      <th>count</th>\n",
       "      <td>10000.000000</td>\n",
       "      <td>9996</td>\n",
       "      <td>1.000000e+04</td>\n",
       "      <td>1.000000e+04</td>\n",
       "    </tr>\n",
       "    <tr>\n",
       "      <th>unique</th>\n",
       "      <td>NaN</td>\n",
       "      <td>2</td>\n",
       "      <td>NaN</td>\n",
       "      <td>NaN</td>\n",
       "    </tr>\n",
       "    <tr>\n",
       "      <th>top</th>\n",
       "      <td>NaN</td>\n",
       "      <td>No</td>\n",
       "      <td>NaN</td>\n",
       "      <td>NaN</td>\n",
       "    </tr>\n",
       "    <tr>\n",
       "      <th>freq</th>\n",
       "      <td>NaN</td>\n",
       "      <td>7052</td>\n",
       "      <td>NaN</td>\n",
       "      <td>NaN</td>\n",
       "    </tr>\n",
       "    <tr>\n",
       "      <th>mean</th>\n",
       "      <td>0.033300</td>\n",
       "      <td>NaN</td>\n",
       "      <td>3.036625e+06</td>\n",
       "      <td>1.433952e+07</td>\n",
       "    </tr>\n",
       "    <tr>\n",
       "      <th>std</th>\n",
       "      <td>0.179428</td>\n",
       "      <td>NaN</td>\n",
       "      <td>7.028938e+07</td>\n",
       "      <td>1.016575e+09</td>\n",
       "    </tr>\n",
       "    <tr>\n",
       "      <th>min</th>\n",
       "      <td>0.000000</td>\n",
       "      <td>NaN</td>\n",
       "      <td>-4.288864e+09</td>\n",
       "      <td>-2.247063e+07</td>\n",
       "    </tr>\n",
       "    <tr>\n",
       "      <th>25%</th>\n",
       "      <td>0.000000</td>\n",
       "      <td>NaN</td>\n",
       "      <td>1.823537e+06</td>\n",
       "      <td>2.408656e+06</td>\n",
       "    </tr>\n",
       "    <tr>\n",
       "      <th>50%</th>\n",
       "      <td>0.000000</td>\n",
       "      <td>NaN</td>\n",
       "      <td>3.209805e+06</td>\n",
       "      <td>4.118185e+06</td>\n",
       "    </tr>\n",
       "    <tr>\n",
       "      <th>75%</th>\n",
       "      <td>0.000000</td>\n",
       "      <td>NaN</td>\n",
       "      <td>4.281578e+06</td>\n",
       "      <td>5.831542e+06</td>\n",
       "    </tr>\n",
       "    <tr>\n",
       "      <th>max</th>\n",
       "      <td>1.000000</td>\n",
       "      <td>NaN</td>\n",
       "      <td>4.299358e+09</td>\n",
       "      <td>1.016613e+11</td>\n",
       "    </tr>\n",
       "  </tbody>\n",
       "</table>\n",
       "</div>"
      ],
      "text/plain": [
       "           PudoPagar Estudiante      Ingresos        Cuenta\n",
       "count   10000.000000       9996  1.000000e+04  1.000000e+04\n",
       "unique           NaN          2           NaN           NaN\n",
       "top              NaN         No           NaN           NaN\n",
       "freq             NaN       7052           NaN           NaN\n",
       "mean        0.033300        NaN  3.036625e+06  1.433952e+07\n",
       "std         0.179428        NaN  7.028938e+07  1.016575e+09\n",
       "min         0.000000        NaN -4.288864e+09 -2.247063e+07\n",
       "25%         0.000000        NaN  1.823537e+06  2.408656e+06\n",
       "50%         0.000000        NaN  3.209805e+06  4.118185e+06\n",
       "75%         0.000000        NaN  4.281578e+06  5.831542e+06\n",
       "max         1.000000        NaN  4.299358e+09  1.016613e+11"
      ]
     },
     "execution_count": 4,
     "metadata": {},
     "output_type": "execute_result"
    }
   ],
   "source": [
    "data.describe(include=\"all\")"
   ]
  },
  {
   "cell_type": "markdown",
   "metadata": {},
   "source": [
    "Podemos identificar varios problemas que podemos tratar inmediatamente"
   ]
  },
  {
   "cell_type": "code",
   "execution_count": 5,
   "metadata": {},
   "outputs": [
    {
     "data": {
      "text/plain": [
       "PudoPagar      int64\n",
       "Estudiante    object\n",
       "Ingresos       int64\n",
       "Cuenta         int64\n",
       "dtype: object"
      ]
     },
     "execution_count": 5,
     "metadata": {},
     "output_type": "execute_result"
    }
   ],
   "source": [
    "data.dtypes"
   ]
  },
  {
   "cell_type": "markdown",
   "metadata": {},
   "source": [
    "### Limpieza: IDs negativos\n",
    "Así estos IDs no sean validos, la columna IDs no debe tenerse en cuenta, no se va a considerar como una variable independiente y no tendrá incidencia en la predicción"
   ]
  },
  {
   "cell_type": "markdown",
   "metadata": {},
   "source": [
    "### Limpieza: tipo de columna dependiente\n",
    "Nos damos cuenta que la variable dependiente \"PudoPagar\" tiene tipo entero. Hay que cambiarla a caracter, para que sea categórica, ya que se trata de un problema de clasificación."
   ]
  },
  {
   "cell_type": "code",
   "execution_count": 6,
   "metadata": {},
   "outputs": [
    {
     "name": "stdout",
     "output_type": "stream",
     "text": [
      "<class 'pandas.core.frame.DataFrame'>\n",
      "Int64Index: 10000 entries, -1 to 10000\n",
      "Data columns (total 4 columns):\n",
      "PudoPagar     10000 non-null object\n",
      "Estudiante    9996 non-null object\n",
      "Ingresos      10000 non-null int64\n",
      "Cuenta        10000 non-null int64\n",
      "dtypes: int64(2), object(2)\n",
      "memory usage: 390.6+ KB\n"
     ]
    }
   ],
   "source": [
    "data.PudoPagar = data.PudoPagar.astype(str)\n",
    "data.info()"
   ]
  },
  {
   "cell_type": "markdown",
   "metadata": {},
   "source": [
    "### Baseline"
   ]
  },
  {
   "cell_type": "code",
   "execution_count": 7,
   "metadata": {},
   "outputs": [
    {
     "data": {
      "image/png": "[encoded data removed]",
      "text/plain": [
       "<Figure size 432x288 with 1 Axes>"
      ]
     },
     "metadata": {
      "needs_background": "light"
     },
     "output_type": "display_data"
    }
   ],
   "source": [
    "ax = sns.countplot(x=\"PudoPagar\", data=data)"
   ]
  },
  {
   "cell_type": "code",
   "execution_count": 8,
   "metadata": {},
   "outputs": [
    {
     "data": {
      "text/plain": [
       "9667"
      ]
     },
     "execution_count": 8,
     "metadata": {},
     "output_type": "execute_result"
    }
   ],
   "source": [
    "data.PudoPagar[data.PudoPagar==\"0\"].aggregate('count')"
   ]
  },
  {
   "cell_type": "code",
   "execution_count": 9,
   "metadata": {},
   "outputs": [
    {
     "data": {
      "text/plain": [
       "PudoPagar    0.000000e+00\n",
       "Ingresos     3.054568e+06\n",
       "Cuenta       4.017162e+06\n",
       "dtype: float64"
      ]
     },
     "execution_count": 9,
     "metadata": {},
     "output_type": "execute_result"
    }
   ],
   "source": [
    "data[data.PudoPagar==\"0\"].aggregate('mean')"
   ]
  },
  {
   "cell_type": "code",
   "execution_count": 10,
   "metadata": {},
   "outputs": [
    {
     "data": {
      "text/plain": [
       "10000"
      ]
     },
     "execution_count": 10,
     "metadata": {},
     "output_type": "execute_result"
    }
   ],
   "source": [
    "data.shape[0]"
   ]
  },
  {
   "cell_type": "code",
   "execution_count": 11,
   "metadata": {},
   "outputs": [
    {
     "data": {
      "text/plain": [
       "96.67"
      ]
     },
     "execution_count": 11,
     "metadata": {},
     "output_type": "execute_result"
    }
   ],
   "source": [
    "data.PudoPagar[data.PudoPagar==\"0\"].aggregate('count') / data.shape[0] * 100"
   ]
  },
  {
   "cell_type": "markdown",
   "metadata": {},
   "source": [
    "Tenemos que el baseline es un modelo que clasifica a todos los registros en \"No pudo pagar\", con una exactitud de 98.67%"
   ]
  },
  {
   "cell_type": "markdown",
   "metadata": {},
   "source": [
    "### Limpieza: Estudiante tiene valores faltantes"
   ]
  },
  {
   "cell_type": "markdown",
   "metadata": {},
   "source": [
    "También encontramos que Estudiante tiene 4 registros faltantes. Cómo se trata de solo 4 registros de 10000, los podemos eliminar sin que esto tenga mayor incidencia en el modelado final. "
   ]
  },
  {
   "cell_type": "code",
   "execution_count": 12,
   "metadata": {},
   "outputs": [
    {
     "data": {
      "text/html": [
       "<div>\n",
       "<style scoped>\n",
       "    .dataframe tbody tr th:only-of-type {\n",
       "        vertical-align: middle;\n",
       "    }\n",
       "\n",
       "    .dataframe tbody tr th {\n",
       "        vertical-align: top;\n",
       "    }\n",
       "\n",
       "    .dataframe thead th {\n",
       "        text-align: right;\n",
       "    }\n",
       "</style>\n",
       "<table border=\"1\" class=\"dataframe\">\n",
       "  <thead>\n",
       "    <tr style=\"text-align: right;\">\n",
       "      <th></th>\n",
       "      <th>PudoPagar</th>\n",
       "      <th>Estudiante</th>\n",
       "      <th>Ingresos</th>\n",
       "      <th>Cuenta</th>\n",
       "    </tr>\n",
       "    <tr>\n",
       "      <th>ID</th>\n",
       "      <th></th>\n",
       "      <th></th>\n",
       "      <th></th>\n",
       "      <th></th>\n",
       "    </tr>\n",
       "  </thead>\n",
       "  <tbody>\n",
       "    <tr>\n",
       "      <th>760</th>\n",
       "      <td>0</td>\n",
       "      <td>NaN</td>\n",
       "      <td>2538070</td>\n",
       "      <td>1924989</td>\n",
       "    </tr>\n",
       "    <tr>\n",
       "      <th>780</th>\n",
       "      <td>0</td>\n",
       "      <td>NaN</td>\n",
       "      <td>4119537</td>\n",
       "      <td>5096245</td>\n",
       "    </tr>\n",
       "    <tr>\n",
       "      <th>800</th>\n",
       "      <td>0</td>\n",
       "      <td>NaN</td>\n",
       "      <td>3377683</td>\n",
       "      <td>50944</td>\n",
       "    </tr>\n",
       "    <tr>\n",
       "      <th>820</th>\n",
       "      <td>0</td>\n",
       "      <td>NaN</td>\n",
       "      <td>2721295</td>\n",
       "      <td>474662</td>\n",
       "    </tr>\n",
       "  </tbody>\n",
       "</table>\n",
       "</div>"
      ],
      "text/plain": [
       "    PudoPagar Estudiante  Ingresos   Cuenta\n",
       "ID                                         \n",
       "760         0        NaN   2538070  1924989\n",
       "780         0        NaN   4119537  5096245\n",
       "800         0        NaN   3377683    50944\n",
       "820         0        NaN   2721295   474662"
      ]
     },
     "execution_count": 12,
     "metadata": {},
     "output_type": "execute_result"
    }
   ],
   "source": [
    "data[data.Estudiante.isna()]\n",
    "data.dropna()\n",
    "data[data.Estudiante.isna()]"
   ]
  },
  {
   "cell_type": "code",
   "execution_count": 13,
   "metadata": {},
   "outputs": [
    {
     "name": "stdout",
     "output_type": "stream",
     "text": [
      "<class 'pandas.core.frame.DataFrame'>\n",
      "Int64Index: 9996 entries, -1 to 10000\n",
      "Data columns (total 4 columns):\n",
      "PudoPagar     9996 non-null object\n",
      "Estudiante    9996 non-null object\n",
      "Ingresos      9996 non-null int64\n",
      "Cuenta        9996 non-null int64\n",
      "dtypes: int64(2), object(2)\n",
      "memory usage: 390.5+ KB\n"
     ]
    }
   ],
   "source": [
    "data = data.dropna()\n",
    "data.info()"
   ]
  },
  {
   "cell_type": "markdown",
   "metadata": {},
   "source": [
    "### Limpieza: Valores negativos en Deuda"
   ]
  },
  {
   "cell_type": "code",
   "execution_count": 14,
   "metadata": {},
   "outputs": [
    {
     "name": "stdout",
     "output_type": "stream",
     "text": [
      "(999, 4)\n"
     ]
    },
    {
     "data": {
      "text/html": [
       "<div>\n",
       "<style scoped>\n",
       "    .dataframe tbody tr th:only-of-type {\n",
       "        vertical-align: middle;\n",
       "    }\n",
       "\n",
       "    .dataframe tbody tr th {\n",
       "        vertical-align: top;\n",
       "    }\n",
       "\n",
       "    .dataframe thead th {\n",
       "        text-align: right;\n",
       "    }\n",
       "</style>\n",
       "<table border=\"1\" class=\"dataframe\">\n",
       "  <thead>\n",
       "    <tr style=\"text-align: right;\">\n",
       "      <th></th>\n",
       "      <th>PudoPagar</th>\n",
       "      <th>Estudiante</th>\n",
       "      <th>Ingresos</th>\n",
       "      <th>Cuenta</th>\n",
       "    </tr>\n",
       "    <tr>\n",
       "      <th>ID</th>\n",
       "      <th></th>\n",
       "      <th></th>\n",
       "      <th></th>\n",
       "      <th></th>\n",
       "    </tr>\n",
       "  </thead>\n",
       "  <tbody>\n",
       "    <tr>\n",
       "      <th>1501</th>\n",
       "      <td>0</td>\n",
       "      <td>No</td>\n",
       "      <td>-6954195</td>\n",
       "      <td>632793</td>\n",
       "    </tr>\n",
       "    <tr>\n",
       "      <th>1502</th>\n",
       "      <td>0</td>\n",
       "      <td>No</td>\n",
       "      <td>-2424394</td>\n",
       "      <td>1936181</td>\n",
       "    </tr>\n",
       "    <tr>\n",
       "      <th>1503</th>\n",
       "      <td>1</td>\n",
       "      <td>Si</td>\n",
       "      <td>-1177023</td>\n",
       "      <td>11664391</td>\n",
       "    </tr>\n",
       "    <tr>\n",
       "      <th>1504</th>\n",
       "      <td>0</td>\n",
       "      <td>No</td>\n",
       "      <td>-2441113</td>\n",
       "      <td>6797192</td>\n",
       "    </tr>\n",
       "    <tr>\n",
       "      <th>1505</th>\n",
       "      <td>0</td>\n",
       "      <td>No</td>\n",
       "      <td>-5836039</td>\n",
       "      <td>2346659</td>\n",
       "    </tr>\n",
       "    <tr>\n",
       "      <th>1506</th>\n",
       "      <td>0</td>\n",
       "      <td>No</td>\n",
       "      <td>-4008669</td>\n",
       "      <td>556475</td>\n",
       "    </tr>\n",
       "    <tr>\n",
       "      <th>1507</th>\n",
       "      <td>0</td>\n",
       "      <td>No</td>\n",
       "      <td>-5435573</td>\n",
       "      <td>7219376</td>\n",
       "    </tr>\n",
       "    <tr>\n",
       "      <th>1508</th>\n",
       "      <td>0</td>\n",
       "      <td>No</td>\n",
       "      <td>-5156003</td>\n",
       "      <td>1984102</td>\n",
       "    </tr>\n",
       "    <tr>\n",
       "      <th>1509</th>\n",
       "      <td>0</td>\n",
       "      <td>Si</td>\n",
       "      <td>-1516049</td>\n",
       "      <td>730756</td>\n",
       "    </tr>\n",
       "    <tr>\n",
       "      <th>1510</th>\n",
       "      <td>0</td>\n",
       "      <td>No</td>\n",
       "      <td>-3661583</td>\n",
       "      <td>3036000</td>\n",
       "    </tr>\n",
       "    <tr>\n",
       "      <th>1511</th>\n",
       "      <td>0</td>\n",
       "      <td>No</td>\n",
       "      <td>-4641695</td>\n",
       "      <td>8540750</td>\n",
       "    </tr>\n",
       "    <tr>\n",
       "      <th>1512</th>\n",
       "      <td>0</td>\n",
       "      <td>No</td>\n",
       "      <td>-5370254</td>\n",
       "      <td>4782667</td>\n",
       "    </tr>\n",
       "    <tr>\n",
       "      <th>1513</th>\n",
       "      <td>0</td>\n",
       "      <td>Si</td>\n",
       "      <td>-1614819</td>\n",
       "      <td>3383066</td>\n",
       "    </tr>\n",
       "    <tr>\n",
       "      <th>1514</th>\n",
       "      <td>0</td>\n",
       "      <td>Si</td>\n",
       "      <td>-1719415</td>\n",
       "      <td>1191591</td>\n",
       "    </tr>\n",
       "    <tr>\n",
       "      <th>1515</th>\n",
       "      <td>0</td>\n",
       "      <td>Si</td>\n",
       "      <td>-1596761</td>\n",
       "      <td>0</td>\n",
       "    </tr>\n",
       "    <tr>\n",
       "      <th>1516</th>\n",
       "      <td>0</td>\n",
       "      <td>Si</td>\n",
       "      <td>-1306557</td>\n",
       "      <td>3703690</td>\n",
       "    </tr>\n",
       "    <tr>\n",
       "      <th>1517</th>\n",
       "      <td>0</td>\n",
       "      <td>Si</td>\n",
       "      <td>-1181055</td>\n",
       "      <td>4668558</td>\n",
       "    </tr>\n",
       "    <tr>\n",
       "      <th>1518</th>\n",
       "      <td>0</td>\n",
       "      <td>No</td>\n",
       "      <td>-3374070</td>\n",
       "      <td>4300172</td>\n",
       "    </tr>\n",
       "    <tr>\n",
       "      <th>1519</th>\n",
       "      <td>0</td>\n",
       "      <td>No</td>\n",
       "      <td>-3115214</td>\n",
       "      <td>5164704</td>\n",
       "    </tr>\n",
       "    <tr>\n",
       "      <th>1520</th>\n",
       "      <td>0</td>\n",
       "      <td>No</td>\n",
       "      <td>-3694995</td>\n",
       "      <td>0</td>\n",
       "    </tr>\n",
       "    <tr>\n",
       "      <th>1521</th>\n",
       "      <td>0</td>\n",
       "      <td>No</td>\n",
       "      <td>-5147114</td>\n",
       "      <td>4176367</td>\n",
       "    </tr>\n",
       "    <tr>\n",
       "      <th>1522</th>\n",
       "      <td>0</td>\n",
       "      <td>No</td>\n",
       "      <td>-3507351</td>\n",
       "      <td>942044</td>\n",
       "    </tr>\n",
       "    <tr>\n",
       "      <th>1523</th>\n",
       "      <td>0</td>\n",
       "      <td>No</td>\n",
       "      <td>-4363130</td>\n",
       "      <td>2531625</td>\n",
       "    </tr>\n",
       "    <tr>\n",
       "      <th>1524</th>\n",
       "      <td>0</td>\n",
       "      <td>No</td>\n",
       "      <td>-3595564</td>\n",
       "      <td>2483759</td>\n",
       "    </tr>\n",
       "    <tr>\n",
       "      <th>1525</th>\n",
       "      <td>0</td>\n",
       "      <td>Si</td>\n",
       "      <td>-1581973</td>\n",
       "      <td>3695897</td>\n",
       "    </tr>\n",
       "    <tr>\n",
       "      <th>1526</th>\n",
       "      <td>0</td>\n",
       "      <td>Si</td>\n",
       "      <td>-2013092</td>\n",
       "      <td>4582685</td>\n",
       "    </tr>\n",
       "    <tr>\n",
       "      <th>1527</th>\n",
       "      <td>0</td>\n",
       "      <td>No</td>\n",
       "      <td>-3722727</td>\n",
       "      <td>7798761</td>\n",
       "    </tr>\n",
       "    <tr>\n",
       "      <th>1528</th>\n",
       "      <td>0</td>\n",
       "      <td>No</td>\n",
       "      <td>-4498320</td>\n",
       "      <td>1961198</td>\n",
       "    </tr>\n",
       "    <tr>\n",
       "      <th>1529</th>\n",
       "      <td>0</td>\n",
       "      <td>No</td>\n",
       "      <td>-3971895</td>\n",
       "      <td>5329128</td>\n",
       "    </tr>\n",
       "    <tr>\n",
       "      <th>1530</th>\n",
       "      <td>0</td>\n",
       "      <td>No</td>\n",
       "      <td>-4809174</td>\n",
       "      <td>2618544</td>\n",
       "    </tr>\n",
       "    <tr>\n",
       "      <th>...</th>\n",
       "      <td>...</td>\n",
       "      <td>...</td>\n",
       "      <td>...</td>\n",
       "      <td>...</td>\n",
       "    </tr>\n",
       "    <tr>\n",
       "      <th>2470</th>\n",
       "      <td>0</td>\n",
       "      <td>No</td>\n",
       "      <td>-3811103</td>\n",
       "      <td>4306364</td>\n",
       "    </tr>\n",
       "    <tr>\n",
       "      <th>2471</th>\n",
       "      <td>0</td>\n",
       "      <td>No</td>\n",
       "      <td>-2788516</td>\n",
       "      <td>8009390</td>\n",
       "    </tr>\n",
       "    <tr>\n",
       "      <th>2472</th>\n",
       "      <td>0</td>\n",
       "      <td>No</td>\n",
       "      <td>-1083672</td>\n",
       "      <td>4779635</td>\n",
       "    </tr>\n",
       "    <tr>\n",
       "      <th>2473</th>\n",
       "      <td>0</td>\n",
       "      <td>Si</td>\n",
       "      <td>-1821761</td>\n",
       "      <td>4389399</td>\n",
       "    </tr>\n",
       "    <tr>\n",
       "      <th>2474</th>\n",
       "      <td>0</td>\n",
       "      <td>No</td>\n",
       "      <td>-3152369</td>\n",
       "      <td>5218791</td>\n",
       "    </tr>\n",
       "    <tr>\n",
       "      <th>2475</th>\n",
       "      <td>0</td>\n",
       "      <td>Si</td>\n",
       "      <td>-1123953</td>\n",
       "      <td>5400358</td>\n",
       "    </tr>\n",
       "    <tr>\n",
       "      <th>2476</th>\n",
       "      <td>0</td>\n",
       "      <td>No</td>\n",
       "      <td>-4772217</td>\n",
       "      <td>2946089</td>\n",
       "    </tr>\n",
       "    <tr>\n",
       "      <th>2477</th>\n",
       "      <td>0</td>\n",
       "      <td>Si</td>\n",
       "      <td>-2304854</td>\n",
       "      <td>3847656</td>\n",
       "    </tr>\n",
       "    <tr>\n",
       "      <th>2478</th>\n",
       "      <td>0</td>\n",
       "      <td>No</td>\n",
       "      <td>-3332659</td>\n",
       "      <td>4755238</td>\n",
       "    </tr>\n",
       "    <tr>\n",
       "      <th>2479</th>\n",
       "      <td>0</td>\n",
       "      <td>No</td>\n",
       "      <td>-3622387</td>\n",
       "      <td>5945795</td>\n",
       "    </tr>\n",
       "    <tr>\n",
       "      <th>2480</th>\n",
       "      <td>0</td>\n",
       "      <td>No</td>\n",
       "      <td>-3529052</td>\n",
       "      <td>8546721</td>\n",
       "    </tr>\n",
       "    <tr>\n",
       "      <th>2481</th>\n",
       "      <td>0</td>\n",
       "      <td>Si</td>\n",
       "      <td>-1660756</td>\n",
       "      <td>7012770</td>\n",
       "    </tr>\n",
       "    <tr>\n",
       "      <th>2482</th>\n",
       "      <td>0</td>\n",
       "      <td>No</td>\n",
       "      <td>-5166223</td>\n",
       "      <td>1254398</td>\n",
       "    </tr>\n",
       "    <tr>\n",
       "      <th>2483</th>\n",
       "      <td>0</td>\n",
       "      <td>No</td>\n",
       "      <td>-2642623</td>\n",
       "      <td>3407088</td>\n",
       "    </tr>\n",
       "    <tr>\n",
       "      <th>2484</th>\n",
       "      <td>0</td>\n",
       "      <td>No</td>\n",
       "      <td>-3919666</td>\n",
       "      <td>6666243</td>\n",
       "    </tr>\n",
       "    <tr>\n",
       "      <th>2485</th>\n",
       "      <td>0</td>\n",
       "      <td>No</td>\n",
       "      <td>-2915034</td>\n",
       "      <td>4293806</td>\n",
       "    </tr>\n",
       "    <tr>\n",
       "      <th>2486</th>\n",
       "      <td>0</td>\n",
       "      <td>Si</td>\n",
       "      <td>-1420467</td>\n",
       "      <td>4963881</td>\n",
       "    </tr>\n",
       "    <tr>\n",
       "      <th>2487</th>\n",
       "      <td>0</td>\n",
       "      <td>No</td>\n",
       "      <td>-3227646</td>\n",
       "      <td>1326511</td>\n",
       "    </tr>\n",
       "    <tr>\n",
       "      <th>2488</th>\n",
       "      <td>0</td>\n",
       "      <td>No</td>\n",
       "      <td>-3159220</td>\n",
       "      <td>3772388</td>\n",
       "    </tr>\n",
       "    <tr>\n",
       "      <th>2489</th>\n",
       "      <td>0</td>\n",
       "      <td>Si</td>\n",
       "      <td>-2444002</td>\n",
       "      <td>2920406</td>\n",
       "    </tr>\n",
       "    <tr>\n",
       "      <th>2490</th>\n",
       "      <td>0</td>\n",
       "      <td>No</td>\n",
       "      <td>-4768446</td>\n",
       "      <td>5876167</td>\n",
       "    </tr>\n",
       "    <tr>\n",
       "      <th>2491</th>\n",
       "      <td>0</td>\n",
       "      <td>No</td>\n",
       "      <td>-3102155</td>\n",
       "      <td>6943321</td>\n",
       "    </tr>\n",
       "    <tr>\n",
       "      <th>2492</th>\n",
       "      <td>0</td>\n",
       "      <td>No</td>\n",
       "      <td>-3732846</td>\n",
       "      <td>2050496</td>\n",
       "    </tr>\n",
       "    <tr>\n",
       "      <th>2493</th>\n",
       "      <td>0</td>\n",
       "      <td>No</td>\n",
       "      <td>-3416224</td>\n",
       "      <td>295662</td>\n",
       "    </tr>\n",
       "    <tr>\n",
       "      <th>2494</th>\n",
       "      <td>0</td>\n",
       "      <td>Si</td>\n",
       "      <td>-1383699</td>\n",
       "      <td>9698562</td>\n",
       "    </tr>\n",
       "    <tr>\n",
       "      <th>2495</th>\n",
       "      <td>0</td>\n",
       "      <td>No</td>\n",
       "      <td>-2446613</td>\n",
       "      <td>4430745</td>\n",
       "    </tr>\n",
       "    <tr>\n",
       "      <th>2496</th>\n",
       "      <td>0</td>\n",
       "      <td>No</td>\n",
       "      <td>-4099062</td>\n",
       "      <td>3854997</td>\n",
       "    </tr>\n",
       "    <tr>\n",
       "      <th>2497</th>\n",
       "      <td>0</td>\n",
       "      <td>Si</td>\n",
       "      <td>-1359419</td>\n",
       "      <td>1532055</td>\n",
       "    </tr>\n",
       "    <tr>\n",
       "      <th>2498</th>\n",
       "      <td>0</td>\n",
       "      <td>No</td>\n",
       "      <td>-3709522</td>\n",
       "      <td>5110508</td>\n",
       "    </tr>\n",
       "    <tr>\n",
       "      <th>2499</th>\n",
       "      <td>0</td>\n",
       "      <td>No</td>\n",
       "      <td>-2495053</td>\n",
       "      <td>4239920</td>\n",
       "    </tr>\n",
       "  </tbody>\n",
       "</table>\n",
       "<p>999 rows × 4 columns</p>\n",
       "</div>"
      ],
      "text/plain": [
       "     PudoPagar Estudiante  Ingresos    Cuenta\n",
       "ID                                           \n",
       "1501         0         No  -6954195    632793\n",
       "1502         0         No  -2424394   1936181\n",
       "1503         1         Si  -1177023  11664391\n",
       "1504         0         No  -2441113   6797192\n",
       "1505         0         No  -5836039   2346659\n",
       "1506         0         No  -4008669    556475\n",
       "1507         0         No  -5435573   7219376\n",
       "1508         0         No  -5156003   1984102\n",
       "1509         0         Si  -1516049    730756\n",
       "1510         0         No  -3661583   3036000\n",
       "1511         0         No  -4641695   8540750\n",
       "1512         0         No  -5370254   4782667\n",
       "1513         0         Si  -1614819   3383066\n",
       "1514         0         Si  -1719415   1191591\n",
       "1515         0         Si  -1596761         0\n",
       "1516         0         Si  -1306557   3703690\n",
       "1517         0         Si  -1181055   4668558\n",
       "1518         0         No  -3374070   4300172\n",
       "1519         0         No  -3115214   5164704\n",
       "1520         0         No  -3694995         0\n",
       "1521         0         No  -5147114   4176367\n",
       "1522         0         No  -3507351    942044\n",
       "1523         0         No  -4363130   2531625\n",
       "1524         0         No  -3595564   2483759\n",
       "1525         0         Si  -1581973   3695897\n",
       "1526         0         Si  -2013092   4582685\n",
       "1527         0         No  -3722727   7798761\n",
       "1528         0         No  -4498320   1961198\n",
       "1529         0         No  -3971895   5329128\n",
       "1530         0         No  -4809174   2618544\n",
       "...        ...        ...       ...       ...\n",
       "2470         0         No  -3811103   4306364\n",
       "2471         0         No  -2788516   8009390\n",
       "2472         0         No  -1083672   4779635\n",
       "2473         0         Si  -1821761   4389399\n",
       "2474         0         No  -3152369   5218791\n",
       "2475         0         Si  -1123953   5400358\n",
       "2476         0         No  -4772217   2946089\n",
       "2477         0         Si  -2304854   3847656\n",
       "2478         0         No  -3332659   4755238\n",
       "2479         0         No  -3622387   5945795\n",
       "2480         0         No  -3529052   8546721\n",
       "2481         0         Si  -1660756   7012770\n",
       "2482         0         No  -5166223   1254398\n",
       "2483         0         No  -2642623   3407088\n",
       "2484         0         No  -3919666   6666243\n",
       "2485         0         No  -2915034   4293806\n",
       "2486         0         Si  -1420467   4963881\n",
       "2487         0         No  -3227646   1326511\n",
       "2488         0         No  -3159220   3772388\n",
       "2489         0         Si  -2444002   2920406\n",
       "2490         0         No  -4768446   5876167\n",
       "2491         0         No  -3102155   6943321\n",
       "2492         0         No  -3732846   2050496\n",
       "2493         0         No  -3416224    295662\n",
       "2494         0         Si  -1383699   9698562\n",
       "2495         0         No  -2446613   4430745\n",
       "2496         0         No  -4099062   3854997\n",
       "2497         0         Si  -1359419   1532055\n",
       "2498         0         No  -3709522   5110508\n",
       "2499         0         No  -2495053   4239920\n",
       "\n",
       "[999 rows x 4 columns]"
      ]
     },
     "execution_count": 14,
     "metadata": {},
     "output_type": "execute_result"
    }
   ],
   "source": [
    "print(data[data.Ingresos <0].shape)\n",
    "data[data.Ingresos <0] "
   ]
  },
  {
   "cell_type": "markdown",
   "metadata": {},
   "source": [
    "Hay 999 registros con ingresos negativos, lo cual no tiene sentido según la definición del diccionario de datos.\n",
    "\n",
    "Al analizarlos un poco más en detalle, encontramos que corresponden a los registros empezando en 1501 y finalizando en 2499, lo cual no parece una casualidad. Parece que hubo un problema en el sistema y se han grabado valores negativos sistemáticamente en esos índices.\n",
    "\n",
    "Cómo el número de registros es importante (mas del 10% de los datos), y considerando lo anterior, se puede estimar que esos valores que ahí se encuentran son los correctos, con el signo al revés. Es por esto que arreglamos los registros también de manera sistemática. "
   ]
  },
  {
   "cell_type": "code",
   "execution_count": 15,
   "metadata": {},
   "outputs": [
    {
     "data": {
      "text/plain": [
       "ID\n",
       "1501   -6954195\n",
       "1502   -2424394\n",
       "1503   -1177023\n",
       "1504   -2441113\n",
       "1505   -5836039\n",
       "Name: Ingresos, dtype: int64"
      ]
     },
     "execution_count": 15,
     "metadata": {},
     "output_type": "execute_result"
    }
   ],
   "source": [
    "data.Ingresos[data.Ingresos <0].head()"
   ]
  },
  {
   "cell_type": "code",
   "execution_count": 16,
   "metadata": {},
   "outputs": [],
   "source": [
    "data.Ingresos = data.Ingresos.abs()"
   ]
  },
  {
   "cell_type": "code",
   "execution_count": 17,
   "metadata": {},
   "outputs": [
    {
     "data": {
      "text/html": [
       "<div>\n",
       "<style scoped>\n",
       "    .dataframe tbody tr th:only-of-type {\n",
       "        vertical-align: middle;\n",
       "    }\n",
       "\n",
       "    .dataframe tbody tr th {\n",
       "        vertical-align: top;\n",
       "    }\n",
       "\n",
       "    .dataframe thead th {\n",
       "        text-align: right;\n",
       "    }\n",
       "</style>\n",
       "<table border=\"1\" class=\"dataframe\">\n",
       "  <thead>\n",
       "    <tr style=\"text-align: right;\">\n",
       "      <th></th>\n",
       "      <th>PudoPagar</th>\n",
       "      <th>Estudiante</th>\n",
       "      <th>Ingresos</th>\n",
       "      <th>Cuenta</th>\n",
       "    </tr>\n",
       "  </thead>\n",
       "  <tbody>\n",
       "    <tr>\n",
       "      <th>count</th>\n",
       "      <td>9996</td>\n",
       "      <td>9996</td>\n",
       "      <td>9.996000e+03</td>\n",
       "      <td>9.996000e+03</td>\n",
       "    </tr>\n",
       "    <tr>\n",
       "      <th>unique</th>\n",
       "      <td>2</td>\n",
       "      <td>2</td>\n",
       "      <td>NaN</td>\n",
       "      <td>NaN</td>\n",
       "    </tr>\n",
       "    <tr>\n",
       "      <th>top</th>\n",
       "      <td>0</td>\n",
       "      <td>No</td>\n",
       "      <td>NaN</td>\n",
       "      <td>NaN</td>\n",
       "    </tr>\n",
       "    <tr>\n",
       "      <th>freq</th>\n",
       "      <td>9663</td>\n",
       "      <td>7052</td>\n",
       "      <td>NaN</td>\n",
       "      <td>NaN</td>\n",
       "    </tr>\n",
       "    <tr>\n",
       "      <th>mean</th>\n",
       "      <td>NaN</td>\n",
       "      <td>NaN</td>\n",
       "      <td>4.563190e+06</td>\n",
       "      <td>1.434450e+07</td>\n",
       "    </tr>\n",
       "    <tr>\n",
       "      <th>std</th>\n",
       "      <td>NaN</td>\n",
       "      <td>NaN</td>\n",
       "      <td>7.022087e+07</td>\n",
       "      <td>1.016778e+09</td>\n",
       "    </tr>\n",
       "    <tr>\n",
       "      <th>min</th>\n",
       "      <td>NaN</td>\n",
       "      <td>NaN</td>\n",
       "      <td>7.719700e+04</td>\n",
       "      <td>-2.247063e+07</td>\n",
       "    </tr>\n",
       "    <tr>\n",
       "      <th>25%</th>\n",
       "      <td>NaN</td>\n",
       "      <td>NaN</td>\n",
       "      <td>2.133550e+06</td>\n",
       "      <td>2.409284e+06</td>\n",
       "    </tr>\n",
       "    <tr>\n",
       "      <th>50%</th>\n",
       "      <td>NaN</td>\n",
       "      <td>NaN</td>\n",
       "      <td>3.455722e+06</td>\n",
       "      <td>4.118502e+06</td>\n",
       "    </tr>\n",
       "    <tr>\n",
       "      <th>75%</th>\n",
       "      <td>NaN</td>\n",
       "      <td>NaN</td>\n",
       "      <td>4.381843e+06</td>\n",
       "      <td>5.833031e+06</td>\n",
       "    </tr>\n",
       "    <tr>\n",
       "      <th>max</th>\n",
       "      <td>NaN</td>\n",
       "      <td>NaN</td>\n",
       "      <td>4.299358e+09</td>\n",
       "      <td>1.016613e+11</td>\n",
       "    </tr>\n",
       "  </tbody>\n",
       "</table>\n",
       "</div>"
      ],
      "text/plain": [
       "       PudoPagar Estudiante      Ingresos        Cuenta\n",
       "count       9996       9996  9.996000e+03  9.996000e+03\n",
       "unique         2          2           NaN           NaN\n",
       "top            0         No           NaN           NaN\n",
       "freq        9663       7052           NaN           NaN\n",
       "mean         NaN        NaN  4.563190e+06  1.434450e+07\n",
       "std          NaN        NaN  7.022087e+07  1.016778e+09\n",
       "min          NaN        NaN  7.719700e+04 -2.247063e+07\n",
       "25%          NaN        NaN  2.133550e+06  2.409284e+06\n",
       "50%          NaN        NaN  3.455722e+06  4.118502e+06\n",
       "75%          NaN        NaN  4.381843e+06  5.833031e+06\n",
       "max          NaN        NaN  4.299358e+09  1.016613e+11"
      ]
     },
     "execution_count": 17,
     "metadata": {},
     "output_type": "execute_result"
    }
   ],
   "source": [
    "data.describe(include=\"all\")"
   ]
  },
  {
   "cell_type": "code",
   "execution_count": 18,
   "metadata": {},
   "outputs": [
    {
     "data": {
      "text/html": [
       "<div>\n",
       "<style scoped>\n",
       "    .dataframe tbody tr th:only-of-type {\n",
       "        vertical-align: middle;\n",
       "    }\n",
       "\n",
       "    .dataframe tbody tr th {\n",
       "        vertical-align: top;\n",
       "    }\n",
       "\n",
       "    .dataframe thead th {\n",
       "        text-align: right;\n",
       "    }\n",
       "</style>\n",
       "<table border=\"1\" class=\"dataframe\">\n",
       "  <thead>\n",
       "    <tr style=\"text-align: right;\">\n",
       "      <th></th>\n",
       "      <th>PudoPagar</th>\n",
       "      <th>Estudiante</th>\n",
       "      <th>Ingresos</th>\n",
       "      <th>Cuenta</th>\n",
       "    </tr>\n",
       "    <tr>\n",
       "      <th>ID</th>\n",
       "      <th></th>\n",
       "      <th></th>\n",
       "      <th></th>\n",
       "      <th></th>\n",
       "    </tr>\n",
       "  </thead>\n",
       "  <tbody>\n",
       "    <tr>\n",
       "      <th>-1</th>\n",
       "      <td>0</td>\n",
       "      <td>No</td>\n",
       "      <td>3196574</td>\n",
       "      <td>358943</td>\n",
       "    </tr>\n",
       "    <tr>\n",
       "      <th>-1</th>\n",
       "      <td>0</td>\n",
       "      <td>No</td>\n",
       "      <td>4944040</td>\n",
       "      <td>3857756</td>\n",
       "    </tr>\n",
       "    <tr>\n",
       "      <th>1</th>\n",
       "      <td>0</td>\n",
       "      <td>No</td>\n",
       "      <td>4436163</td>\n",
       "      <td>3647632</td>\n",
       "    </tr>\n",
       "    <tr>\n",
       "      <th>2</th>\n",
       "      <td>0</td>\n",
       "      <td>Si</td>\n",
       "      <td>1210613</td>\n",
       "      <td>4085902</td>\n",
       "    </tr>\n",
       "    <tr>\n",
       "      <th>3</th>\n",
       "      <td>0</td>\n",
       "      <td>No</td>\n",
       "      <td>3176714</td>\n",
       "      <td>5367746</td>\n",
       "    </tr>\n",
       "  </tbody>\n",
       "</table>\n",
       "</div>"
      ],
      "text/plain": [
       "   PudoPagar Estudiante  Ingresos   Cuenta\n",
       "ID                                        \n",
       "-1         0         No   3196574   358943\n",
       "-1         0         No   4944040  3857756\n",
       " 1         0         No   4436163  3647632\n",
       " 2         0         Si   1210613  4085902\n",
       " 3         0         No   3176714  5367746"
      ]
     },
     "execution_count": 18,
     "metadata": {},
     "output_type": "execute_result"
    }
   ],
   "source": [
    "data.head()"
   ]
  },
  {
   "cell_type": "code",
   "execution_count": 19,
   "metadata": {},
   "outputs": [
    {
     "data": {
      "text/plain": [
       "<matplotlib.axes._subplots.AxesSubplot at 0x1f78da5db00>"
      ]
     },
     "execution_count": 19,
     "metadata": {},
     "output_type": "execute_result"
    },
    {
     "data": {
      "image/png": "[encoded data removed]",
      "text/plain": [
       "<Figure size 1296x360 with 2 Axes>"
      ]
     },
     "metadata": {
      "needs_background": "light"
     },
     "output_type": "display_data"
    }
   ],
   "source": [
    "plt.figure(figsize=(18,5))\n",
    "plt.subplot(1,2,1)\n",
    "sns.boxplot(x=\"PudoPagar\", y=\"Cuenta\", data=data)\n",
    "plt.subplot(1,2,2)\n",
    "sns.boxplot(x=\"PudoPagar\", y=\"Ingresos\", data=data)"
   ]
  },
  {
   "cell_type": "markdown",
   "metadata": {},
   "source": [
    "Vemos que las variables Cuenta e Ingresos tienen una distribución donde la mayoría de los datos están muy cerca entre ellos, y existen valores positivos muy por encima del resto que pueden considerarse excepciones.\n",
    "\n",
    "Vamos a identificarlos, eliminarlos y volver a intentar una visualización."
   ]
  },
  {
   "cell_type": "code",
   "execution_count": 20,
   "metadata": {},
   "outputs": [
    {
     "data": {
      "text/plain": [
       "count    9.996000e+03\n",
       "mean     4.563190e+06\n",
       "std      7.022087e+07\n",
       "min      7.719700e+04\n",
       "25%      2.133550e+06\n",
       "50%      3.455722e+06\n",
       "75%      4.381843e+06\n",
       "max      4.299358e+09\n",
       "Name: Ingresos, dtype: float64"
      ]
     },
     "execution_count": 20,
     "metadata": {},
     "output_type": "execute_result"
    }
   ],
   "source": [
    "data.Ingresos.describe()"
   ]
  },
  {
   "cell_type": "code",
   "execution_count": 21,
   "metadata": {},
   "outputs": [
    {
     "data": {
      "text/html": [
       "<div>\n",
       "<style scoped>\n",
       "    .dataframe tbody tr th:only-of-type {\n",
       "        vertical-align: middle;\n",
       "    }\n",
       "\n",
       "    .dataframe tbody tr th {\n",
       "        vertical-align: top;\n",
       "    }\n",
       "\n",
       "    .dataframe thead th {\n",
       "        text-align: right;\n",
       "    }\n",
       "</style>\n",
       "<table border=\"1\" class=\"dataframe\">\n",
       "  <thead>\n",
       "    <tr style=\"text-align: right;\">\n",
       "      <th></th>\n",
       "      <th>PudoPagar</th>\n",
       "      <th>Estudiante</th>\n",
       "      <th>Ingresos</th>\n",
       "      <th>Cuenta</th>\n",
       "    </tr>\n",
       "    <tr>\n",
       "      <th>ID</th>\n",
       "      <th></th>\n",
       "      <th></th>\n",
       "      <th></th>\n",
       "      <th></th>\n",
       "    </tr>\n",
       "  </thead>\n",
       "  <tbody>\n",
       "    <tr>\n",
       "      <th>2400</th>\n",
       "      <td>0</td>\n",
       "      <td>No</td>\n",
       "      <td>4288864105</td>\n",
       "      <td>7669586</td>\n",
       "    </tr>\n",
       "    <tr>\n",
       "      <th>2500</th>\n",
       "      <td>0</td>\n",
       "      <td>No</td>\n",
       "      <td>4299357653</td>\n",
       "      <td>7981139</td>\n",
       "    </tr>\n",
       "    <tr>\n",
       "      <th>2599</th>\n",
       "      <td>0</td>\n",
       "      <td>No</td>\n",
       "      <td>3533318222</td>\n",
       "      <td>2532130</td>\n",
       "    </tr>\n",
       "  </tbody>\n",
       "</table>\n",
       "</div>"
      ],
      "text/plain": [
       "     PudoPagar Estudiante    Ingresos   Cuenta\n",
       "ID                                            \n",
       "2400         0         No  4288864105  7669586\n",
       "2500         0         No  4299357653  7981139\n",
       "2599         0         No  3533318222  2532130"
      ]
     },
     "execution_count": 21,
     "metadata": {},
     "output_type": "execute_result"
    }
   ],
   "source": [
    "data[data.Ingresos>1e+07]"
   ]
  },
  {
   "cell_type": "code",
   "execution_count": 22,
   "metadata": {},
   "outputs": [],
   "source": [
    "data = data[data.Ingresos<1e+07]"
   ]
  },
  {
   "cell_type": "code",
   "execution_count": 23,
   "metadata": {},
   "outputs": [
    {
     "data": {
      "text/plain": [
       "count    9.993000e+03\n",
       "mean     1.434699e+07\n",
       "std      1.016931e+09\n",
       "min     -2.247063e+07\n",
       "25%      2.409205e+06\n",
       "50%      4.118321e+06\n",
       "75%      5.831066e+06\n",
       "max      1.016613e+11\n",
       "Name: Cuenta, dtype: float64"
      ]
     },
     "execution_count": 23,
     "metadata": {},
     "output_type": "execute_result"
    }
   ],
   "source": [
    "data.Cuenta.describe()"
   ]
  },
  {
   "cell_type": "code",
   "execution_count": 24,
   "metadata": {},
   "outputs": [
    {
     "data": {
      "text/html": [
       "<div>\n",
       "<style scoped>\n",
       "    .dataframe tbody tr th:only-of-type {\n",
       "        vertical-align: middle;\n",
       "    }\n",
       "\n",
       "    .dataframe tbody tr th {\n",
       "        vertical-align: top;\n",
       "    }\n",
       "\n",
       "    .dataframe thead th {\n",
       "        text-align: right;\n",
       "    }\n",
       "</style>\n",
       "<table border=\"1\" class=\"dataframe\">\n",
       "  <thead>\n",
       "    <tr style=\"text-align: right;\">\n",
       "      <th></th>\n",
       "      <th>PudoPagar</th>\n",
       "      <th>Estudiante</th>\n",
       "      <th>Ingresos</th>\n",
       "      <th>Cuenta</th>\n",
       "    </tr>\n",
       "    <tr>\n",
       "      <th>ID</th>\n",
       "      <th></th>\n",
       "      <th></th>\n",
       "      <th></th>\n",
       "      <th></th>\n",
       "    </tr>\n",
       "  </thead>\n",
       "  <tbody>\n",
       "    <tr>\n",
       "      <th>174</th>\n",
       "      <td>1</td>\n",
       "      <td>Si</td>\n",
       "      <td>1427149</td>\n",
       "      <td>11028998</td>\n",
       "    </tr>\n",
       "    <tr>\n",
       "      <th>310</th>\n",
       "      <td>0</td>\n",
       "      <td>Si</td>\n",
       "      <td>1833674</td>\n",
       "      <td>10113373</td>\n",
       "    </tr>\n",
       "    <tr>\n",
       "      <th>735</th>\n",
       "      <td>0</td>\n",
       "      <td>Si</td>\n",
       "      <td>2713654</td>\n",
       "      <td>10023638</td>\n",
       "    </tr>\n",
       "    <tr>\n",
       "      <th>934</th>\n",
       "      <td>0</td>\n",
       "      <td>No</td>\n",
       "      <td>3474776</td>\n",
       "      <td>10565095</td>\n",
       "    </tr>\n",
       "    <tr>\n",
       "      <th>1000</th>\n",
       "      <td>1</td>\n",
       "      <td>No</td>\n",
       "      <td>4499829</td>\n",
       "      <td>101661341341</td>\n",
       "    </tr>\n",
       "    <tr>\n",
       "      <th>1099</th>\n",
       "      <td>1</td>\n",
       "      <td>No</td>\n",
       "      <td>5150887</td>\n",
       "      <td>10120525</td>\n",
       "    </tr>\n",
       "    <tr>\n",
       "      <th>1137</th>\n",
       "      <td>1</td>\n",
       "      <td>No</td>\n",
       "      <td>5150429</td>\n",
       "      <td>12495084</td>\n",
       "    </tr>\n",
       "    <tr>\n",
       "      <th>1161</th>\n",
       "      <td>1</td>\n",
       "      <td>Si</td>\n",
       "      <td>1494752</td>\n",
       "      <td>12513425</td>\n",
       "    </tr>\n",
       "    <tr>\n",
       "      <th>1256</th>\n",
       "      <td>1</td>\n",
       "      <td>Si</td>\n",
       "      <td>2383646</td>\n",
       "      <td>10616846</td>\n",
       "    </tr>\n",
       "    <tr>\n",
       "      <th>1360</th>\n",
       "      <td>1</td>\n",
       "      <td>No</td>\n",
       "      <td>4072510</td>\n",
       "      <td>11104831</td>\n",
       "    </tr>\n",
       "    <tr>\n",
       "      <th>1497</th>\n",
       "      <td>1</td>\n",
       "      <td>No</td>\n",
       "      <td>3898886</td>\n",
       "      <td>10374038</td>\n",
       "    </tr>\n",
       "    <tr>\n",
       "      <th>1503</th>\n",
       "      <td>1</td>\n",
       "      <td>Si</td>\n",
       "      <td>1177023</td>\n",
       "      <td>11664391</td>\n",
       "    </tr>\n",
       "    <tr>\n",
       "      <th>1610</th>\n",
       "      <td>1</td>\n",
       "      <td>Si</td>\n",
       "      <td>1802111</td>\n",
       "      <td>11349735</td>\n",
       "    </tr>\n",
       "    <tr>\n",
       "      <th>1710</th>\n",
       "      <td>1</td>\n",
       "      <td>Si</td>\n",
       "      <td>2569450</td>\n",
       "      <td>10048429</td>\n",
       "    </tr>\n",
       "    <tr>\n",
       "      <th>2003</th>\n",
       "      <td>1</td>\n",
       "      <td>No</td>\n",
       "      <td>3663601</td>\n",
       "      <td>10027876</td>\n",
       "    </tr>\n",
       "    <tr>\n",
       "      <th>2097</th>\n",
       "      <td>1</td>\n",
       "      <td>Si</td>\n",
       "      <td>2003017</td>\n",
       "      <td>11309241</td>\n",
       "    </tr>\n",
       "    <tr>\n",
       "      <th>2141</th>\n",
       "      <td>0</td>\n",
       "      <td>Si</td>\n",
       "      <td>1911027</td>\n",
       "      <td>11544466</td>\n",
       "    </tr>\n",
       "    <tr>\n",
       "      <th>2284</th>\n",
       "      <td>1</td>\n",
       "      <td>No</td>\n",
       "      <td>3209463</td>\n",
       "      <td>10118668</td>\n",
       "    </tr>\n",
       "    <tr>\n",
       "      <th>2355</th>\n",
       "      <td>1</td>\n",
       "      <td>Si</td>\n",
       "      <td>2033086</td>\n",
       "      <td>10674672</td>\n",
       "    </tr>\n",
       "    <tr>\n",
       "      <th>2449</th>\n",
       "      <td>1</td>\n",
       "      <td>No</td>\n",
       "      <td>2823788</td>\n",
       "      <td>10667321</td>\n",
       "    </tr>\n",
       "    <tr>\n",
       "      <th>2461</th>\n",
       "      <td>1</td>\n",
       "      <td>Si</td>\n",
       "      <td>1934510</td>\n",
       "      <td>10552784</td>\n",
       "    </tr>\n",
       "    <tr>\n",
       "      <th>2465</th>\n",
       "      <td>0</td>\n",
       "      <td>Si</td>\n",
       "      <td>2046993</td>\n",
       "      <td>10134318</td>\n",
       "    </tr>\n",
       "    <tr>\n",
       "      <th>2507</th>\n",
       "      <td>0</td>\n",
       "      <td>Si</td>\n",
       "      <td>1313065</td>\n",
       "      <td>10260667</td>\n",
       "    </tr>\n",
       "    <tr>\n",
       "      <th>2520</th>\n",
       "      <td>0</td>\n",
       "      <td>Si</td>\n",
       "      <td>1789765</td>\n",
       "      <td>10670078</td>\n",
       "    </tr>\n",
       "    <tr>\n",
       "      <th>2801</th>\n",
       "      <td>1</td>\n",
       "      <td>Si</td>\n",
       "      <td>1443584</td>\n",
       "      <td>10179308</td>\n",
       "    </tr>\n",
       "    <tr>\n",
       "      <th>2890</th>\n",
       "      <td>1</td>\n",
       "      <td>No</td>\n",
       "      <td>3565723</td>\n",
       "      <td>10427935</td>\n",
       "    </tr>\n",
       "    <tr>\n",
       "      <th>2930</th>\n",
       "      <td>1</td>\n",
       "      <td>Si</td>\n",
       "      <td>2829691</td>\n",
       "      <td>11936574</td>\n",
       "    </tr>\n",
       "    <tr>\n",
       "      <th>3124</th>\n",
       "      <td>1</td>\n",
       "      <td>Si</td>\n",
       "      <td>1819527</td>\n",
       "      <td>10845981</td>\n",
       "    </tr>\n",
       "    <tr>\n",
       "      <th>3163</th>\n",
       "      <td>1</td>\n",
       "      <td>Si</td>\n",
       "      <td>1742950</td>\n",
       "      <td>12076585</td>\n",
       "    </tr>\n",
       "    <tr>\n",
       "      <th>3190</th>\n",
       "      <td>1</td>\n",
       "      <td>No</td>\n",
       "      <td>2743835</td>\n",
       "      <td>11142361</td>\n",
       "    </tr>\n",
       "    <tr>\n",
       "      <th>...</th>\n",
       "      <td>...</td>\n",
       "      <td>...</td>\n",
       "      <td>...</td>\n",
       "      <td>...</td>\n",
       "    </tr>\n",
       "    <tr>\n",
       "      <th>7490</th>\n",
       "      <td>1</td>\n",
       "      <td>Si</td>\n",
       "      <td>1214347</td>\n",
       "      <td>10585603</td>\n",
       "    </tr>\n",
       "    <tr>\n",
       "      <th>7710</th>\n",
       "      <td>0</td>\n",
       "      <td>No</td>\n",
       "      <td>5502155</td>\n",
       "      <td>10293924</td>\n",
       "    </tr>\n",
       "    <tr>\n",
       "      <th>7785</th>\n",
       "      <td>1</td>\n",
       "      <td>No</td>\n",
       "      <td>5093091</td>\n",
       "      <td>10202951</td>\n",
       "    </tr>\n",
       "    <tr>\n",
       "      <th>7799</th>\n",
       "      <td>1</td>\n",
       "      <td>No</td>\n",
       "      <td>5860649</td>\n",
       "      <td>10194459</td>\n",
       "    </tr>\n",
       "    <tr>\n",
       "      <th>7812</th>\n",
       "      <td>1</td>\n",
       "      <td>No</td>\n",
       "      <td>6413543</td>\n",
       "      <td>10124101</td>\n",
       "    </tr>\n",
       "    <tr>\n",
       "      <th>7816</th>\n",
       "      <td>1</td>\n",
       "      <td>Si</td>\n",
       "      <td>2570665</td>\n",
       "      <td>12892345</td>\n",
       "    </tr>\n",
       "    <tr>\n",
       "      <th>7828</th>\n",
       "      <td>1</td>\n",
       "      <td>Si</td>\n",
       "      <td>2010360</td>\n",
       "      <td>10416142</td>\n",
       "    </tr>\n",
       "    <tr>\n",
       "      <th>8121</th>\n",
       "      <td>1</td>\n",
       "      <td>Si</td>\n",
       "      <td>1218190</td>\n",
       "      <td>10192716</td>\n",
       "    </tr>\n",
       "    <tr>\n",
       "      <th>8265</th>\n",
       "      <td>1</td>\n",
       "      <td>No</td>\n",
       "      <td>3711388</td>\n",
       "      <td>11183821</td>\n",
       "    </tr>\n",
       "    <tr>\n",
       "      <th>8343</th>\n",
       "      <td>1</td>\n",
       "      <td>Si</td>\n",
       "      <td>1713397</td>\n",
       "      <td>10173374</td>\n",
       "    </tr>\n",
       "    <tr>\n",
       "      <th>8400</th>\n",
       "      <td>1</td>\n",
       "      <td>No</td>\n",
       "      <td>3478725</td>\n",
       "      <td>10776445</td>\n",
       "    </tr>\n",
       "    <tr>\n",
       "      <th>8428</th>\n",
       "      <td>1</td>\n",
       "      <td>Si</td>\n",
       "      <td>966379</td>\n",
       "      <td>10123301</td>\n",
       "    </tr>\n",
       "    <tr>\n",
       "      <th>8460</th>\n",
       "      <td>1</td>\n",
       "      <td>No</td>\n",
       "      <td>3737276</td>\n",
       "      <td>10317860</td>\n",
       "    </tr>\n",
       "    <tr>\n",
       "      <th>8496</th>\n",
       "      <td>1</td>\n",
       "      <td>Si</td>\n",
       "      <td>2193039</td>\n",
       "      <td>13271613</td>\n",
       "    </tr>\n",
       "    <tr>\n",
       "      <th>8698</th>\n",
       "      <td>0</td>\n",
       "      <td>Si</td>\n",
       "      <td>1967551</td>\n",
       "      <td>10668727</td>\n",
       "    </tr>\n",
       "    <tr>\n",
       "      <th>8706</th>\n",
       "      <td>1</td>\n",
       "      <td>No</td>\n",
       "      <td>3083918</td>\n",
       "      <td>10314353</td>\n",
       "    </tr>\n",
       "    <tr>\n",
       "      <th>8782</th>\n",
       "      <td>0</td>\n",
       "      <td>Si</td>\n",
       "      <td>1509383</td>\n",
       "      <td>10746684</td>\n",
       "    </tr>\n",
       "    <tr>\n",
       "      <th>8793</th>\n",
       "      <td>1</td>\n",
       "      <td>No</td>\n",
       "      <td>5256891</td>\n",
       "      <td>10245149</td>\n",
       "    </tr>\n",
       "    <tr>\n",
       "      <th>8833</th>\n",
       "      <td>1</td>\n",
       "      <td>Si</td>\n",
       "      <td>1978076</td>\n",
       "      <td>11037995</td>\n",
       "    </tr>\n",
       "    <tr>\n",
       "      <th>8846</th>\n",
       "      <td>0</td>\n",
       "      <td>Si</td>\n",
       "      <td>1572894</td>\n",
       "      <td>10072488</td>\n",
       "    </tr>\n",
       "    <tr>\n",
       "      <th>8920</th>\n",
       "      <td>1</td>\n",
       "      <td>No</td>\n",
       "      <td>5003353</td>\n",
       "      <td>10034931</td>\n",
       "    </tr>\n",
       "    <tr>\n",
       "      <th>8993</th>\n",
       "      <td>1</td>\n",
       "      <td>Si</td>\n",
       "      <td>2406755</td>\n",
       "      <td>11760275</td>\n",
       "    </tr>\n",
       "    <tr>\n",
       "      <th>9296</th>\n",
       "      <td>1</td>\n",
       "      <td>No</td>\n",
       "      <td>4464759</td>\n",
       "      <td>10475574</td>\n",
       "    </tr>\n",
       "    <tr>\n",
       "      <th>9433</th>\n",
       "      <td>1</td>\n",
       "      <td>No</td>\n",
       "      <td>5233555</td>\n",
       "      <td>10368914</td>\n",
       "    </tr>\n",
       "    <tr>\n",
       "      <th>9501</th>\n",
       "      <td>1</td>\n",
       "      <td>Si</td>\n",
       "      <td>1791063</td>\n",
       "      <td>10233198</td>\n",
       "    </tr>\n",
       "    <tr>\n",
       "      <th>9655</th>\n",
       "      <td>1</td>\n",
       "      <td>No</td>\n",
       "      <td>4209650</td>\n",
       "      <td>10643980</td>\n",
       "    </tr>\n",
       "    <tr>\n",
       "      <th>9874</th>\n",
       "      <td>0</td>\n",
       "      <td>No</td>\n",
       "      <td>5030291</td>\n",
       "      <td>11955039</td>\n",
       "    </tr>\n",
       "    <tr>\n",
       "      <th>9894</th>\n",
       "      <td>1</td>\n",
       "      <td>No</td>\n",
       "      <td>5204357</td>\n",
       "      <td>11442040</td>\n",
       "    </tr>\n",
       "    <tr>\n",
       "      <th>9913</th>\n",
       "      <td>1</td>\n",
       "      <td>No</td>\n",
       "      <td>4430992</td>\n",
       "      <td>10744492</td>\n",
       "    </tr>\n",
       "    <tr>\n",
       "      <th>9979</th>\n",
       "      <td>1</td>\n",
       "      <td>No</td>\n",
       "      <td>4728726</td>\n",
       "      <td>11012312</td>\n",
       "    </tr>\n",
       "  </tbody>\n",
       "</table>\n",
       "<p>106 rows × 4 columns</p>\n",
       "</div>"
      ],
      "text/plain": [
       "     PudoPagar Estudiante  Ingresos        Cuenta\n",
       "ID                                               \n",
       "174          1         Si   1427149      11028998\n",
       "310          0         Si   1833674      10113373\n",
       "735          0         Si   2713654      10023638\n",
       "934          0         No   3474776      10565095\n",
       "1000         1         No   4499829  101661341341\n",
       "1099         1         No   5150887      10120525\n",
       "1137         1         No   5150429      12495084\n",
       "1161         1         Si   1494752      12513425\n",
       "1256         1         Si   2383646      10616846\n",
       "1360         1         No   4072510      11104831\n",
       "1497         1         No   3898886      10374038\n",
       "1503         1         Si   1177023      11664391\n",
       "1610         1         Si   1802111      11349735\n",
       "1710         1         Si   2569450      10048429\n",
       "2003         1         No   3663601      10027876\n",
       "2097         1         Si   2003017      11309241\n",
       "2141         0         Si   1911027      11544466\n",
       "2284         1         No   3209463      10118668\n",
       "2355         1         Si   2033086      10674672\n",
       "2449         1         No   2823788      10667321\n",
       "2461         1         Si   1934510      10552784\n",
       "2465         0         Si   2046993      10134318\n",
       "2507         0         Si   1313065      10260667\n",
       "2520         0         Si   1789765      10670078\n",
       "2801         1         Si   1443584      10179308\n",
       "2890         1         No   3565723      10427935\n",
       "2930         1         Si   2829691      11936574\n",
       "3124         1         Si   1819527      10845981\n",
       "3163         1         Si   1742950      12076585\n",
       "3190         1         No   2743835      11142361\n",
       "...        ...        ...       ...           ...\n",
       "7490         1         Si   1214347      10585603\n",
       "7710         0         No   5502155      10293924\n",
       "7785         1         No   5093091      10202951\n",
       "7799         1         No   5860649      10194459\n",
       "7812         1         No   6413543      10124101\n",
       "7816         1         Si   2570665      12892345\n",
       "7828         1         Si   2010360      10416142\n",
       "8121         1         Si   1218190      10192716\n",
       "8265         1         No   3711388      11183821\n",
       "8343         1         Si   1713397      10173374\n",
       "8400         1         No   3478725      10776445\n",
       "8428         1         Si    966379      10123301\n",
       "8460         1         No   3737276      10317860\n",
       "8496         1         Si   2193039      13271613\n",
       "8698         0         Si   1967551      10668727\n",
       "8706         1         No   3083918      10314353\n",
       "8782         0         Si   1509383      10746684\n",
       "8793         1         No   5256891      10245149\n",
       "8833         1         Si   1978076      11037995\n",
       "8846         0         Si   1572894      10072488\n",
       "8920         1         No   5003353      10034931\n",
       "8993         1         Si   2406755      11760275\n",
       "9296         1         No   4464759      10475574\n",
       "9433         1         No   5233555      10368914\n",
       "9501         1         Si   1791063      10233198\n",
       "9655         1         No   4209650      10643980\n",
       "9874         0         No   5030291      11955039\n",
       "9894         1         No   5204357      11442040\n",
       "9913         1         No   4430992      10744492\n",
       "9979         1         No   4728726      11012312\n",
       "\n",
       "[106 rows x 4 columns]"
      ]
     },
     "execution_count": 24,
     "metadata": {},
     "output_type": "execute_result"
    }
   ],
   "source": [
    "data[data.Cuenta>1e+07]"
   ]
  },
  {
   "cell_type": "code",
   "execution_count": 25,
   "metadata": {},
   "outputs": [],
   "source": [
    "data = data[data.Cuenta<1e+08]"
   ]
  },
  {
   "cell_type": "code",
   "execution_count": 26,
   "metadata": {},
   "outputs": [
    {
     "data": {
      "text/plain": [
       "count    9.992000e+03\n",
       "mean     4.174152e+06\n",
       "std      2.432012e+06\n",
       "min     -2.247063e+07\n",
       "25%      2.409126e+06\n",
       "50%      4.118185e+06\n",
       "75%      5.830642e+06\n",
       "max      1.327161e+07\n",
       "Name: Cuenta, dtype: float64"
      ]
     },
     "execution_count": 26,
     "metadata": {},
     "output_type": "execute_result"
    }
   ],
   "source": [
    "data.Cuenta.describe()"
   ]
  },
  {
   "cell_type": "markdown",
   "metadata": {},
   "source": [
    "Vemos también que Cuenta tiene valores muy negativos, vamos a identificarlos"
   ]
  },
  {
   "cell_type": "code",
   "execution_count": 27,
   "metadata": {},
   "outputs": [
    {
     "data": {
      "text/html": [
       "<div>\n",
       "<style scoped>\n",
       "    .dataframe tbody tr th:only-of-type {\n",
       "        vertical-align: middle;\n",
       "    }\n",
       "\n",
       "    .dataframe tbody tr th {\n",
       "        vertical-align: top;\n",
       "    }\n",
       "\n",
       "    .dataframe thead th {\n",
       "        text-align: right;\n",
       "    }\n",
       "</style>\n",
       "<table border=\"1\" class=\"dataframe\">\n",
       "  <thead>\n",
       "    <tr style=\"text-align: right;\">\n",
       "      <th></th>\n",
       "      <th>PudoPagar</th>\n",
       "      <th>Estudiante</th>\n",
       "      <th>Ingresos</th>\n",
       "      <th>Cuenta</th>\n",
       "    </tr>\n",
       "    <tr>\n",
       "      <th>ID</th>\n",
       "      <th></th>\n",
       "      <th></th>\n",
       "      <th></th>\n",
       "      <th></th>\n",
       "    </tr>\n",
       "  </thead>\n",
       "  <tbody>\n",
       "    <tr>\n",
       "      <th>1500</th>\n",
       "      <td>0</td>\n",
       "      <td>No</td>\n",
       "      <td>5289225</td>\n",
       "      <td>-22470634</td>\n",
       "    </tr>\n",
       "  </tbody>\n",
       "</table>\n",
       "</div>"
      ],
      "text/plain": [
       "     PudoPagar Estudiante  Ingresos    Cuenta\n",
       "ID                                           \n",
       "1500         0         No   5289225 -22470634"
      ]
     },
     "execution_count": 27,
     "metadata": {},
     "output_type": "execute_result"
    }
   ],
   "source": [
    "data[data.Cuenta<0]"
   ]
  },
  {
   "cell_type": "markdown",
   "metadata": {},
   "source": [
    "Lo eliminamos al ser solo un registro."
   ]
  },
  {
   "cell_type": "code",
   "execution_count": 28,
   "metadata": {},
   "outputs": [],
   "source": [
    "data = data[data.Cuenta>=0]"
   ]
  },
  {
   "cell_type": "code",
   "execution_count": 30,
   "metadata": {},
   "outputs": [
    {
     "data": {
      "text/plain": [
       "<matplotlib.axes._subplots.AxesSubplot at 0x1f78dcb85f8>"
      ]
     },
     "execution_count": 30,
     "metadata": {},
     "output_type": "execute_result"
    },
    {
     "data": {
      "image/png": "[encoded data removed]",
      "text/plain": [
       "<Figure size 1296x360 with 2 Axes>"
      ]
     },
     "metadata": {
      "needs_background": "light"
     },
     "output_type": "display_data"
    }
   ],
   "source": [
    "plt.figure(figsize=(18,5))\n",
    "plt.subplot(1,2,1)\n",
    "sns.boxplot(x=\"PudoPagar\", y=\"Cuenta\", data=data)\n",
    "plt.subplot(1,2,2)\n",
    "sns.boxplot(x=\"PudoPagar\", y=\"Ingresos\", data=data)"
   ]
  },
  {
   "cell_type": "code",
   "execution_count": 31,
   "metadata": {},
   "outputs": [],
   "source": [
    "import warnings\n",
    "warnings.filterwarnings(\"ignore\")"
   ]
  },
  {
   "cell_type": "code",
   "execution_count": 32,
   "metadata": {
    "scrolled": true
   },
   "outputs": [
    {
     "data": {
      "image/png": "[encoded data removed]",
      "text/plain": [
       "<Figure size 601.5x540 with 12 Axes>"
      ]
     },
     "metadata": {
      "needs_background": "light"
     },
     "output_type": "display_data"
    },
    {
     "data": {
      "text/plain": [
       "<Figure size 1296x1296 with 0 Axes>"
      ]
     },
     "metadata": {},
     "output_type": "display_data"
    }
   ],
   "source": [
    "sns.pairplot(data, hue=\"PudoPagar\")\n",
    "plt.figure(figsize=(18,18))\n",
    "plt.tight_layout()"
   ]
  },
  {
   "cell_type": "markdown",
   "metadata": {},
   "source": [
    "Vemos que para valores bajos de cuenta tenemos es más probable que los clientes no paguen. Cuenta es una variable bastante discriminante.\n",
    "\n",
    "Vemos también que los que tienen salarios altos, contra intuitivamente son mas propensos a no pagar. "
   ]
  },
  {
   "cell_type": "markdown",
   "metadata": {},
   "source": [
    "## Modelamiento con K-NN"
   ]
  },
  {
   "cell_type": "markdown",
   "metadata": {},
   "source": [
    "Al utilizar un modelo de K-NN, solo se pueden considerar las variables numéricas, por lo que no vamos a considerar la variable Estudiante como variables independiente.\n",
    "\n",
    "Además de hacer un solo modelo para todos los clientes independientemete de si son o no estudiantes, otra manera de tener en cuenta esta información es creando dos modelos, uno para los estudiantes y otro para los que no lo son.\n",
    "\n",
    "Vamos a construir estos modelos, para lo que vamos a preparar los datasets correspondientes."
   ]
  },
  {
   "cell_type": "code",
   "execution_count": 33,
   "metadata": {},
   "outputs": [
    {
     "name": "stdout",
     "output_type": "stream",
     "text": [
      "(9991, 2)\n"
     ]
    },
    {
     "data": {
      "text/html": [
       "<div>\n",
       "<style scoped>\n",
       "    .dataframe tbody tr th:only-of-type {\n",
       "        vertical-align: middle;\n",
       "    }\n",
       "\n",
       "    .dataframe tbody tr th {\n",
       "        vertical-align: top;\n",
       "    }\n",
       "\n",
       "    .dataframe thead th {\n",
       "        text-align: right;\n",
       "    }\n",
       "</style>\n",
       "<table border=\"1\" class=\"dataframe\">\n",
       "  <thead>\n",
       "    <tr style=\"text-align: right;\">\n",
       "      <th></th>\n",
       "      <th>Cuenta</th>\n",
       "      <th>Ingresos</th>\n",
       "    </tr>\n",
       "    <tr>\n",
       "      <th>ID</th>\n",
       "      <th></th>\n",
       "      <th></th>\n",
       "    </tr>\n",
       "  </thead>\n",
       "  <tbody>\n",
       "    <tr>\n",
       "      <th>-1</th>\n",
       "      <td>358943</td>\n",
       "      <td>3196574</td>\n",
       "    </tr>\n",
       "    <tr>\n",
       "      <th>-1</th>\n",
       "      <td>3857756</td>\n",
       "      <td>4944040</td>\n",
       "    </tr>\n",
       "    <tr>\n",
       "      <th>1</th>\n",
       "      <td>3647632</td>\n",
       "      <td>4436163</td>\n",
       "    </tr>\n",
       "    <tr>\n",
       "      <th>2</th>\n",
       "      <td>4085902</td>\n",
       "      <td>1210613</td>\n",
       "    </tr>\n",
       "    <tr>\n",
       "      <th>3</th>\n",
       "      <td>5367746</td>\n",
       "      <td>3176714</td>\n",
       "    </tr>\n",
       "  </tbody>\n",
       "</table>\n",
       "</div>"
      ],
      "text/plain": [
       "     Cuenta  Ingresos\n",
       "ID                   \n",
       "-1   358943   3196574\n",
       "-1  3857756   4944040\n",
       " 1  3647632   4436163\n",
       " 2  4085902   1210613\n",
       " 3  5367746   3176714"
      ]
     },
     "execution_count": 33,
     "metadata": {},
     "output_type": "execute_result"
    }
   ],
   "source": [
    "X = data.loc[:,['Cuenta', 'Ingresos']]\n",
    "print(X.shape)\n",
    "X.head()"
   ]
  },
  {
   "cell_type": "code",
   "execution_count": 34,
   "metadata": {},
   "outputs": [
    {
     "name": "stdout",
     "output_type": "stream",
     "text": [
      "(9991, 1)\n"
     ]
    },
    {
     "data": {
      "text/html": [
       "<div>\n",
       "<style scoped>\n",
       "    .dataframe tbody tr th:only-of-type {\n",
       "        vertical-align: middle;\n",
       "    }\n",
       "\n",
       "    .dataframe tbody tr th {\n",
       "        vertical-align: top;\n",
       "    }\n",
       "\n",
       "    .dataframe thead th {\n",
       "        text-align: right;\n",
       "    }\n",
       "</style>\n",
       "<table border=\"1\" class=\"dataframe\">\n",
       "  <thead>\n",
       "    <tr style=\"text-align: right;\">\n",
       "      <th></th>\n",
       "      <th>PudoPagar</th>\n",
       "    </tr>\n",
       "    <tr>\n",
       "      <th>ID</th>\n",
       "      <th></th>\n",
       "    </tr>\n",
       "  </thead>\n",
       "  <tbody>\n",
       "    <tr>\n",
       "      <th>-1</th>\n",
       "      <td>0</td>\n",
       "    </tr>\n",
       "    <tr>\n",
       "      <th>-1</th>\n",
       "      <td>0</td>\n",
       "    </tr>\n",
       "    <tr>\n",
       "      <th>1</th>\n",
       "      <td>0</td>\n",
       "    </tr>\n",
       "    <tr>\n",
       "      <th>2</th>\n",
       "      <td>0</td>\n",
       "    </tr>\n",
       "    <tr>\n",
       "      <th>3</th>\n",
       "      <td>0</td>\n",
       "    </tr>\n",
       "  </tbody>\n",
       "</table>\n",
       "</div>"
      ],
      "text/plain": [
       "   PudoPagar\n",
       "ID          \n",
       "-1         0\n",
       "-1         0\n",
       " 1         0\n",
       " 2         0\n",
       " 3         0"
      ]
     },
     "execution_count": 34,
     "metadata": {},
     "output_type": "execute_result"
    }
   ],
   "source": [
    "y = data.loc[:,['PudoPagar']]\n",
    "print(y.shape)\n",
    "y.head()"
   ]
  },
  {
   "cell_type": "markdown",
   "metadata": {},
   "source": [
    "## Holdout, un sólo modelo"
   ]
  },
  {
   "cell_type": "code",
   "execution_count": 35,
   "metadata": {},
   "outputs": [],
   "source": [
    "X_train, X_test, y_train, y_test = train_test_split(X, y, test_size=0.3, random_state=12345, stratify=y)"
   ]
  },
  {
   "cell_type": "markdown",
   "metadata": {},
   "source": [
    "Vamos a normalizar las dos variables numéricas para que tengan la misma importancia en el modelo de KNN, dado que este se basa en la distancia las diferencias de escalas son importantes."
   ]
  },
  {
   "cell_type": "code",
   "execution_count": 36,
   "metadata": {},
   "outputs": [],
   "source": [
    "# Crear un normalizador Min-Max\n",
    "min_max_scaler = preprocessing.MinMaxScaler()\n",
    "\n",
    "# Aprender sus parámetros con el set de entrenamiento y transformar los dos datasets\n",
    "X_train_scaled = min_max_scaler.fit_transform(X_train)\n",
    "X_test_scaled = min_max_scaler.transform(X_test)"
   ]
  },
  {
   "cell_type": "code",
   "execution_count": 37,
   "metadata": {},
   "outputs": [],
   "source": [
    "y_train = np.squeeze(y_train)\n",
    "y_test = np.squeeze(y_test)"
   ]
  },
  {
   "cell_type": "code",
   "execution_count": 38,
   "metadata": {},
   "outputs": [
    {
     "data": {
      "text/plain": [
       "ID\n",
       "8712    0\n",
       "1752    0\n",
       "7853    0\n",
       "9229    0\n",
       "312     0\n",
       "4549    0\n",
       "3817    0\n",
       "59      0\n",
       "6744    0\n",
       "9798    0\n",
       "227     0\n",
       "3008    0\n",
       "4629    0\n",
       "9029    0\n",
       "4535    0\n",
       "8248    0\n",
       "6168    0\n",
       "8834    0\n",
       "2231    0\n",
       "3233    0\n",
       "6451    0\n",
       "903     0\n",
       "5142    0\n",
       "8288    0\n",
       "5848    0\n",
       "8392    0\n",
       "6553    0\n",
       "4482    0\n",
       "6797    0\n",
       "8434    0\n",
       "       ..\n",
       "2738    0\n",
       "6923    0\n",
       "9712    0\n",
       "1287    0\n",
       "5370    0\n",
       "3191    0\n",
       "3920    0\n",
       "1012    0\n",
       "8931    0\n",
       "8890    0\n",
       "6055    0\n",
       "1302    0\n",
       "2415    0\n",
       "6180    0\n",
       "5797    0\n",
       "3738    0\n",
       "4492    0\n",
       "179     0\n",
       "182     0\n",
       "261     0\n",
       "3386    1\n",
       "3547    0\n",
       "3696    0\n",
       "9353    0\n",
       "5301    0\n",
       "2042    0\n",
       "859     0\n",
       "6543    0\n",
       "664     0\n",
       "1821    0\n",
       "Name: PudoPagar, Length: 6993, dtype: object"
      ]
     },
     "execution_count": 38,
     "metadata": {},
     "output_type": "execute_result"
    }
   ],
   "source": [
    "y_train"
   ]
  },
  {
   "cell_type": "raw",
   "metadata": {},
   "source": []
  },
  {
   "cell_type": "code",
   "execution_count": 39,
   "metadata": {},
   "outputs": [],
   "source": [
    "acc_train_vec=[]\n",
    "acc_test_vec=[]\n",
    "kappa_train_vec=[]\n",
    "kappa_test_vec=[]\n",
    "k_vec= np.arange(1,201,2)\n",
    "for k in k_vec:\n",
    "    knn = neighbors.KNeighborsClassifier(n_neighbors=k)\n",
    "    knn.fit(X_train_scaled, y_train)\n",
    "    y_pred = knn.predict(X_train_scaled)\n",
    "    acc_train_vec.append(metrics.accuracy_score(y_train, y_pred))\n",
    "    kappa_train_vec.append(metrics.cohen_kappa_score(y_train, y_pred))\n",
    "    y_pred = knn.predict(X_test_scaled)\n",
    "    acc_test_vec.append(metrics.accuracy_score(y_test, y_pred))\n",
    "    kappa_test_vec.append(metrics.cohen_kappa_score(y_test, y_pred))\n"
   ]
  },
  {
   "cell_type": "code",
   "execution_count": 40,
   "metadata": {},
   "outputs": [
    {
     "data": {
      "text/plain": [
       "<matplotlib.legend.Legend at 0x1f78ed37198>"
      ]
     },
     "execution_count": 40,
     "metadata": {},
     "output_type": "execute_result"
    },
    {
     "data": {
      "image/png": "[encoded data removed]",
      "text/plain": [
       "<Figure size 1296x360 with 2 Axes>"
      ]
     },
     "metadata": {
      "needs_background": "light"
     },
     "output_type": "display_data"
    }
   ],
   "source": [
    "fig = plt.figure(figsize=(18,5))\n",
    "\n",
    "fig.add_subplot(1, 2, 1)\n",
    "ax = plt.gca() # get current axis\n",
    "plt.plot(k_vec, acc_train_vec)\n",
    "plt.plot(k_vec, acc_test_vec)\n",
    "ax.set_xlim(ax.get_xlim()[::-1])  # reverse axis\n",
    "plt.axis('tight')\n",
    "plt.xlabel('k')\n",
    "plt.ylabel('accuracy')\n",
    "plt.title('Evolución de la exactitud vs complejidad del modelo k-nn (valor de k más pequeño)')\n",
    "plt.legend(['train', 'test'])\n",
    "\n",
    "fig.add_subplot(1, 2, 2)\n",
    "ax = plt.gca() # get current axis\n",
    "plt.plot(k_vec, kappa_train_vec)\n",
    "plt.plot(k_vec, kappa_test_vec)\n",
    "ax.set_xlim(ax.get_xlim()[::-1])  # reverse axis\n",
    "plt.axis('tight')\n",
    "plt.xlabel('k')\n",
    "plt.ylabel('kappa')\n",
    "plt.title('Evolución del kappa vs complejidad del modelo k-nn (valor de k más pequeño)')\n",
    "plt.legend(['train', 'test'])\n"
   ]
  },
  {
   "cell_type": "code",
   "execution_count": 41,
   "metadata": {},
   "outputs": [
    {
     "name": "stdout",
     "output_type": "stream",
     "text": [
      "El óptimo se obtiene con K=15, que produce un 97.26% de exactitud\n",
      "El óptimo se obtiene con K=7, que produce un 40.92% de kappa\n"
     ]
    }
   ],
   "source": [
    "k_optimo = k_vec[np.argmax(acc_test_vec)]\n",
    "acc_optima= max(acc_test_vec)\n",
    "print(\"El óptimo se obtiene con K=%d, que produce un %.2f%% de exactitud\" %(k_optimo, 100*acc_optima))\n",
    "\n",
    "k_optimo = k_vec[np.argmax(kappa_test_vec)]\n",
    "kappa_optima= max(kappa_test_vec)\n",
    "print(\"El óptimo se obtiene con K=%d, que produce un %.2f%% de kappa\" %(k_optimo, 100*kappa_optima))"
   ]
  },
  {
   "cell_type": "code",
   "execution_count": 42,
   "metadata": {},
   "outputs": [],
   "source": [
    "knn = neighbors.KNeighborsClassifier(n_neighbors=k_optimo)\n",
    "knn.fit(X_train_scaled, y_train)\n",
    "y_pred = knn.predict(X_test_scaled)\n",
    "acc_test_vec.append(metrics.accuracy_score(y_test, y_pred))"
   ]
  },
  {
   "cell_type": "code",
   "execution_count": 43,
   "metadata": {},
   "outputs": [
    {
     "name": "stdout",
     "output_type": "stream",
     "text": [
      "Exactitud:  0.9716477651767845\n",
      "Kappa    :  0.409166577789319\n",
      "Precisión     :  0.9766180955608268\n",
      "Recall        :  0.9944789510006902\n"
     ]
    }
   ],
   "source": [
    "print(\"Exactitud: \", metrics.accuracy_score(y_test, y_pred))\n",
    "print(\"Kappa    : \", metrics.cohen_kappa_score(y_test, y_pred))\n",
    "print(\"Precisión     : \", metrics.precision_score(y_test, y_pred, \"0\", average='macro'))\n",
    "print(\"Recall        : \", metrics.recall_score(y_test, y_pred, \"0\", average='macro'))"
   ]
  },
  {
   "cell_type": "markdown",
   "metadata": {},
   "source": [
    "## K-Fold Cross-Validation"
   ]
  },
  {
   "cell_type": "markdown",
   "metadata": {},
   "source": [
    "No necesitamos dividir los datos, pues internamente el protocolo se encargará de hacerlo K veces."
   ]
  },
  {
   "cell_type": "code",
   "execution_count": 44,
   "metadata": {},
   "outputs": [],
   "source": [
    "# Crear un normalizador Min-Max\n",
    "min_max_scaler = preprocessing.MinMaxScaler()\n",
    "\n",
    "# Aprender sus parámetros con el set de entrenamiento y transformar los dos datasets\n",
    "X_scaled = min_max_scaler.fit_transform(X)\n",
    "\n",
    "acc_mean_vec=[]\n",
    "k_vec= np.arange(1,101,2)\n",
    "for k in k_vec:\n",
    "    knn = neighbors.KNeighborsClassifier(n_neighbors=k)\n",
    "    acc_vec_fold = cross_val_score(knn, X_scaled, np.squeeze(y), cv=10, scoring='accuracy')\n",
    "    acc_mean_vec.append(acc_vec_fold.mean())\n",
    "    \n",
    "\n",
    "#print(acc_mean_vec)\n",
    "#print(k_vec)"
   ]
  },
  {
   "cell_type": "code",
   "execution_count": 45,
   "metadata": {},
   "outputs": [
    {
     "data": {
      "text/plain": [
       "Text(0.5, 1.0, 'Evolución de le exactitud vs complejidad del modelo k-nn (valor de k más pequeño)')"
      ]
     },
     "execution_count": 45,
     "metadata": {},
     "output_type": "execute_result"
    },
    {
     "data": {
      "image/png": "[encoded data removed]",
      "text/plain": [
       "<Figure size 720x360 with 1 Axes>"
      ]
     },
     "metadata": {
      "needs_background": "light"
     },
     "output_type": "display_data"
    }
   ],
   "source": [
    "plt.figure(figsize=(10,5))\n",
    "ax = plt.gca() # get current axis\n",
    "plt.plot(k_vec, acc_mean_vec)\n",
    "ax.set_xlim(ax.get_xlim()[::-1])  # reverse axis\n",
    "plt.axis('tight')\n",
    "plt.xlabel('k')\n",
    "plt.ylabel('accuracy')\n",
    "plt.title('Evolución de le exactitud vs complejidad del modelo k-nn (valor de k más pequeño)')"
   ]
  },
  {
   "cell_type": "code",
   "execution_count": 46,
   "metadata": {},
   "outputs": [
    {
     "name": "stdout",
     "output_type": "stream",
     "text": [
      "El óptimo se obtiene con K=13, que produce un 97.30% de exactitud\n"
     ]
    }
   ],
   "source": [
    "k_optimo = k_vec[np.argmax(acc_mean_vec)]\n",
    "acc_optima= max(acc_mean_vec)\n",
    "print(\"El óptimo se obtiene con K=%d, que produce un %.2f%% de exactitud\" %(k_optimo, 100*acc_optima))"
   ]
  },
  {
   "cell_type": "markdown",
   "metadata": {},
   "source": [
    "# Holdout, dos modelos"
   ]
  },
  {
   "cell_type": "markdown",
   "metadata": {},
   "source": [
    "Hacemos un modelo para los estudiantes y otro para los no estudiantes, partimos entonces los datos en dos datasets independientes."
   ]
  },
  {
   "cell_type": "code",
   "execution_count": 47,
   "metadata": {},
   "outputs": [
    {
     "name": "stdout",
     "output_type": "stream",
     "text": [
      "tenemos 7047 no estudiantes y 2944 estudiantes\n"
     ]
    }
   ],
   "source": [
    "dataNoEstudiante = data[data.Estudiante==\"No\"]\n",
    "dataSiEstudiante = data[data.Estudiante==\"Si\"]\n",
    "print(\"tenemos %d no estudiantes y %d estudiantes\" % (dataNoEstudiante.shape[0], dataSiEstudiante.shape[0]))"
   ]
  },
  {
   "cell_type": "markdown",
   "metadata": {},
   "source": [
    "## Modelo para los no estudiantes"
   ]
  },
  {
   "cell_type": "code",
   "execution_count": 48,
   "metadata": {},
   "outputs": [],
   "source": [
    "X = dataNoEstudiante.loc[:,['Cuenta', 'Ingresos']]\n",
    "y = dataNoEstudiante.loc[:,['PudoPagar']]"
   ]
  },
  {
   "cell_type": "code",
   "execution_count": 49,
   "metadata": {},
   "outputs": [],
   "source": [
    "X_train, X_test, y_train, y_test = train_test_split(X, y, test_size=0.3, random_state=12345, stratify=y)"
   ]
  },
  {
   "cell_type": "markdown",
   "metadata": {},
   "source": [
    "Vamos a normalizar las dos variables numéricas para que tengan la misma importancia en el modelo de KNN, dado que este se basa en la distancia las diferencias de escalas son importantes."
   ]
  },
  {
   "cell_type": "code",
   "execution_count": 50,
   "metadata": {},
   "outputs": [],
   "source": [
    "# Crear un normalizador Min-Max\n",
    "min_max_scaler = preprocessing.MinMaxScaler()\n",
    "\n",
    "# Aprender sus parámetros con el set de entrenamiento y transformar los dos datasets\n",
    "X_train_scaled = min_max_scaler.fit_transform(X_train)\n",
    "X_test_scaled = min_max_scaler.transform(X_test)"
   ]
  },
  {
   "cell_type": "code",
   "execution_count": 51,
   "metadata": {},
   "outputs": [],
   "source": [
    "y_train = np.squeeze(y_train)\n",
    "y_test = np.squeeze(y_test)"
   ]
  },
  {
   "cell_type": "code",
   "execution_count": 52,
   "metadata": {},
   "outputs": [],
   "source": [
    "acc_train_vec=[]\n",
    "acc_test_vec=[]\n",
    "kappa_train_vec=[]\n",
    "kappa_test_vec=[]\n",
    "k_vec= np.arange(1,201,2)\n",
    "for k in k_vec:\n",
    "    knn = neighbors.KNeighborsClassifier(n_neighbors=k)\n",
    "    knn.fit(X_train_scaled, y_train)\n",
    "    y_pred = knn.predict(X_train_scaled)\n",
    "    acc_train_vec.append(metrics.accuracy_score(y_train, y_pred))\n",
    "    kappa_train_vec.append(metrics.cohen_kappa_score(y_train, y_pred))\n",
    "    y_pred = knn.predict(X_test_scaled)\n",
    "    acc_test_vec.append(metrics.accuracy_score(y_test, y_pred))\n",
    "    kappa_test_vec.append(metrics.cohen_kappa_score(y_test, y_pred))\n"
   ]
  },
  {
   "cell_type": "code",
   "execution_count": 53,
   "metadata": {},
   "outputs": [
    {
     "data": {
      "text/plain": [
       "<matplotlib.legend.Legend at 0x1f78ee9b860>"
      ]
     },
     "execution_count": 53,
     "metadata": {},
     "output_type": "execute_result"
    },
    {
     "data": {
      "image/png": "[encoded data removed]",
      "text/plain": [
       "<Figure size 1296x360 with 2 Axes>"
      ]
     },
     "metadata": {
      "needs_background": "light"
     },
     "output_type": "display_data"
    }
   ],
   "source": [
    "fig = plt.figure(figsize=(18,5))\n",
    "\n",
    "fig.add_subplot(1, 2, 1)\n",
    "ax = plt.gca() # get current axis\n",
    "plt.plot(k_vec, acc_train_vec)\n",
    "plt.plot(k_vec, acc_test_vec)\n",
    "ax.set_xlim(ax.get_xlim()[::-1])  # reverse axis\n",
    "plt.axis('tight')\n",
    "plt.xlabel('k')\n",
    "plt.ylabel('accuracy')\n",
    "plt.title('Evolución de la exactitud vs complejidad del modelo k-nn (valor de k más pequeño)')\n",
    "plt.legend(['train', 'test'])\n",
    "\n",
    "fig.add_subplot(1, 2, 2)\n",
    "ax = plt.gca() # get current axis\n",
    "plt.plot(k_vec, kappa_train_vec)\n",
    "plt.plot(k_vec, kappa_test_vec)\n",
    "ax.set_xlim(ax.get_xlim()[::-1])  # reverse axis\n",
    "plt.axis('tight')\n",
    "plt.xlabel('k')\n",
    "plt.ylabel('kappa')\n",
    "plt.title('Evolución del kappa vs complejidad del modelo k-nn (valor de k más pequeño)')\n",
    "plt.legend(['train', 'test'])\n"
   ]
  },
  {
   "cell_type": "code",
   "execution_count": 54,
   "metadata": {},
   "outputs": [
    {
     "name": "stdout",
     "output_type": "stream",
     "text": [
      "El óptimo se obtiene con K=27, que produce un 97.83% de exactitud\n",
      "El óptimo se obtiene con K=27, que produce un 43.09% de kappa\n"
     ]
    }
   ],
   "source": [
    "k_optimo = k_vec[np.argmax(acc_test_vec)]\n",
    "acc_optima= max(acc_test_vec)\n",
    "print(\"El óptimo se obtiene con K=%d, que produce un %.2f%% de exactitud\" %(k_optimo, 100*acc_optima))\n",
    "\n",
    "k_optimo = k_vec[np.argmax(kappa_test_vec)]\n",
    "kappa_optima= max(kappa_test_vec)\n",
    "print(\"El óptimo se obtiene con K=%d, que produce un %.2f%% de kappa\" %(k_optimo, 100*kappa_optima))"
   ]
  },
  {
   "cell_type": "code",
   "execution_count": 55,
   "metadata": {},
   "outputs": [],
   "source": [
    "knn = neighbors.KNeighborsClassifier(n_neighbors=k_optimo)\n",
    "knn.fit(X_train_scaled, y_train)\n",
    "y_pred = knn.predict(X_test_scaled)\n",
    "acc_test_vec.append(metrics.accuracy_score(y_test, y_pred))"
   ]
  },
  {
   "cell_type": "code",
   "execution_count": 56,
   "metadata": {},
   "outputs": [
    {
     "name": "stdout",
     "output_type": "stream",
     "text": [
      "Exactitud:  0.9782505910165484\n",
      "Kappa    :  0.4308862240421175\n",
      "Precisión     :  0.9789976133651551\n",
      "Recall        :  0.9990258158792011\n"
     ]
    }
   ],
   "source": [
    "print(\"Exactitud: \", metrics.accuracy_score(y_test, y_pred))\n",
    "print(\"Kappa    : \", metrics.cohen_kappa_score(y_test, y_pred))\n",
    "print(\"Precisión     : \", metrics.precision_score(y_test, y_pred, \"0\", average='macro'))\n",
    "print(\"Recall        : \", metrics.recall_score(y_test, y_pred, \"0\", average='macro'))"
   ]
  },
  {
   "cell_type": "markdown",
   "metadata": {},
   "source": [
    "## Modelo para los estudiantes"
   ]
  },
  {
   "cell_type": "code",
   "execution_count": 66,
   "metadata": {},
   "outputs": [],
   "source": [
    "X = dataSiEstudiante.loc[:,['Cuenta', 'Ingresos']]\n",
    "y = dataSiEstudiante.loc[:,['PudoPagar']]"
   ]
  },
  {
   "cell_type": "code",
   "execution_count": 67,
   "metadata": {},
   "outputs": [],
   "source": [
    "X_train, X_test, y_train, y_test = train_test_split(X, y, test_size=0.3, random_state=12345, stratify=y)"
   ]
  },
  {
   "cell_type": "markdown",
   "metadata": {},
   "source": [
    "Vamos a normalizar las dos variables numéricas para que tengan la misma importancia en el modelo de KNN, dado que este se basa en la distancia las diferencias de escalas son importantes."
   ]
  },
  {
   "cell_type": "code",
   "execution_count": 68,
   "metadata": {},
   "outputs": [],
   "source": [
    "# Crear un normalizador Min-Max\n",
    "min_max_scaler = preprocessing.MinMaxScaler()\n",
    "\n",
    "# Aprender sus parámetros con el set de entrenamiento y transformar los dos datasets\n",
    "X_train_scaled = min_max_scaler.fit_transform(X_train)\n",
    "X_test_scaled = min_max_scaler.transform(X_test)"
   ]
  },
  {
   "cell_type": "code",
   "execution_count": 69,
   "metadata": {},
   "outputs": [],
   "source": [
    "y_train = np.squeeze(y_train)\n",
    "y_test = np.squeeze(y_test)"
   ]
  },
  {
   "cell_type": "code",
   "execution_count": 70,
   "metadata": {},
   "outputs": [],
   "source": [
    "acc_train_vec=[]\n",
    "acc_test_vec=[]\n",
    "kappa_train_vec=[]\n",
    "kappa_test_vec=[]\n",
    "k_vec= np.arange(1,201,2)\n",
    "for k in k_vec:\n",
    "    knn = neighbors.KNeighborsClassifier(n_neighbors=k)\n",
    "    knn.fit(X_train_scaled, y_train)\n",
    "    y_pred = knn.predict(X_train_scaled)\n",
    "    acc_train_vec.append(metrics.accuracy_score(y_train, y_pred))\n",
    "    kappa_train_vec.append(metrics.cohen_kappa_score(y_train, y_pred))\n",
    "    y_pred = knn.predict(X_test_scaled)\n",
    "    acc_test_vec.append(metrics.accuracy_score(y_test, y_pred))\n",
    "    kappa_test_vec.append(metrics.cohen_kappa_score(y_test, y_pred))\n"
   ]
  },
  {
   "cell_type": "code",
   "execution_count": 71,
   "metadata": {},
   "outputs": [
    {
     "data": {
      "text/plain": [
       "<matplotlib.legend.Legend at 0x1f78e21af28>"
      ]
     },
     "execution_count": 71,
     "metadata": {},
     "output_type": "execute_result"
    },
    {
     "data": {
      "image/png": "[encoded data removed]",
      "text/plain": [
       "<Figure size 1296x360 with 2 Axes>"
      ]
     },
     "metadata": {
      "needs_background": "light"
     },
     "output_type": "display_data"
    }
   ],
   "source": [
    "fig = plt.figure(figsize=(18,5))\n",
    "\n",
    "fig.add_subplot(1, 2, 1)\n",
    "ax = plt.gca() # get current axis\n",
    "plt.plot(k_vec, acc_train_vec)\n",
    "plt.plot(k_vec, acc_test_vec)\n",
    "ax.set_xlim(ax.get_xlim()[::-1])  # reverse axis\n",
    "plt.axis('tight')\n",
    "plt.xlabel('k')\n",
    "plt.ylabel('accuracy')\n",
    "plt.title('Evolución de la exactitud vs complejidad del modelo k-nn (valor de k más pequeño)')\n",
    "plt.legend(['train', 'test'])\n",
    "\n",
    "fig.add_subplot(1, 2, 2)\n",
    "ax = plt.gca() # get current axis\n",
    "plt.plot(k_vec, kappa_train_vec)\n",
    "plt.plot(k_vec, kappa_test_vec)\n",
    "ax.set_xlim(ax.get_xlim()[::-1])  # reverse axis\n",
    "plt.axis('tight')\n",
    "plt.xlabel('k')\n",
    "plt.ylabel('kappa')\n",
    "plt.title('Evolución del kappa vs complejidad del modelo k-nn (valor de k más pequeño)')\n",
    "plt.legend(['train', 'test'])\n"
   ]
  },
  {
   "cell_type": "code",
   "execution_count": 72,
   "metadata": {},
   "outputs": [
    {
     "name": "stdout",
     "output_type": "stream",
     "text": [
      "El óptimo se obtiene con K=11, que produce un 96.49% de exactitud\n",
      "El óptimo se obtiene con K=11, que produce un 45.80% de kappa\n"
     ]
    }
   ],
   "source": [
    "k_optimo = k_vec[np.argmax(acc_test_vec)]\n",
    "acc_optima= max(acc_test_vec)\n",
    "print(\"El óptimo se obtiene con K=%d, que produce un %.2f%% de exactitud\" %(k_optimo, 100*acc_optima))\n",
    "\n",
    "k_optimo = k_vec[np.argmax(kappa_test_vec)]\n",
    "kappa_optima= max(kappa_test_vec)\n",
    "print(\"El óptimo se obtiene con K=%d, que produce un %.2f%% de kappa\" %(k_optimo, 100*kappa_optima))"
   ]
  },
  {
   "cell_type": "code",
   "execution_count": 73,
   "metadata": {},
   "outputs": [],
   "source": [
    "knn = neighbors.KNeighborsClassifier(n_neighbors=k_optimo)\n",
    "knn.fit(X_train_scaled, y_train)\n",
    "y_pred = knn.predict(X_test_scaled)\n",
    "acc_test_vec.append(metrics.accuracy_score(y_test, y_pred))"
   ]
  },
  {
   "cell_type": "code",
   "execution_count": 74,
   "metadata": {},
   "outputs": [
    {
     "name": "stdout",
     "output_type": "stream",
     "text": [
      "Exactitud:  0.9649321266968326\n",
      "Kappa    :  0.45799050632911387\n",
      "Precisión     :  0.9721900347624566\n",
      "Recall        :  0.991725768321513\n"
     ]
    }
   ],
   "source": [
    "print(\"Exactitud: \", metrics.accuracy_score(y_test, y_pred))\n",
    "print(\"Kappa    : \", metrics.cohen_kappa_score(y_test, y_pred))\n",
    "print(\"Precisión     : \", metrics.precision_score(y_test, y_pred, \"0\", average='macro'))\n",
    "print(\"Recall        : \", metrics.recall_score(y_test, y_pred, \"0\", average='macro'))"
   ]
  },
  {
   "cell_type": "code",
   "execution_count": null,
   "metadata": {},
   "outputs": [],
   "source": []
  }
 ],
 "metadata": {
  "kernelspec": {
   "display_name": "Python 3",
   "language": "python",
   "name": "python3"
  },
  "language_info": {
   "codemirror_mode": {
    "name": "ipython",
    "version": 3
   },
   "file_extension": ".py",
   "mimetype": "text/x-python",
   "name": "python",
   "nbconvert_exporter": "python",
   "pygments_lexer": "ipython3",
   "version": "3.7.1"
  }
 },
 "nbformat": 4,
 "nbformat_minor": 2
}
