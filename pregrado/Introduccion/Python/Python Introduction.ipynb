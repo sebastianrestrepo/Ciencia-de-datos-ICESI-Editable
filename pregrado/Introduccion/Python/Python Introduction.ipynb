{
 "cells": [
  {
   "cell_type": "markdown",
   "metadata": {},
   "source": [
    "\n",
    "<img src=\"https://github.com/urcuqui/Data-Science/blob/master/Utilities/python-logo-master-v3-TM.png?raw=true\">\n",
    "\n",
    "**Author: Christian Urcuqui**\n",
    "\n",
    "**Date: 31 July 2018**\n",
    "\n",
    "\n",
    "This nootebok allows us to introduce in the Python world, this is the content for this notebook:\n",
    "- [Introduction](#Introduction)\n",
    "- [Integrated Development Environment](#Integrated-Development-Environment)\n",
    "- [Variables](#Variables)\n",
    "- [Introspection](#Introspection)\n",
    "- [Operations](#Operations)\n",
    "- [Functions](#Functions)\n",
    "- [Loops](#Loops)\n",
    "- [Exceptions](#Exceptions)\n",
    "- [Imports](#Imports)\n",
    "- [IPython-Magic-Commands](#IPython-Magic-Commands)\n",
    "- [Latex-formulas](#Latex-formulas)\n",
    "- [R and Python together](#R-and-Python-together)\n",
    "- [Read and Write](#Read-and-Write)\n",
    "- [References](#References)"
   ]
  },
  {
   "cell_type": "markdown",
   "metadata": {},
   "source": [
    "## Introduction\n",
    "\n",
    "Python was proposed by Guido van Rossum in 1991, it is an open source language and interpreted, specifically, it can run a program by executing one statement at a time.\n",
    "\n",
    "We could use it to develop standalone programs (it does not load any external module, library function or program) and scritps to be used in different context or problems. \n",
    "\n",
    "It is not a fast technology, other languages are most useful like C and C++, but, a lot of communities have been working in different packages due it is really comprehensible than others.\n",
    "\n",
    "<img src=https://fatemasaifee.files.wordpress.com/2014/08/2-2.png width=\"500\">\n",
    "                \n",
    "In the previous figure we can see the Python's cycle life, your code will change to a bytecode in order to be understandable to a machine.\n",
    "\n",
    "Nowadays, Python is the most popular language to program, in the study made by IEEE we can see its importance in the industry. \n",
    "\n",
    "<img src=https://spectrum.ieee.org/image/MzEwMDE1Nw.png width=\"500\">\n",
    "\n",
    "Python has a lot of applications, for example:\n",
    "+ **Interfaces for operative systems**, Python has a standard library  to use the mechanisms of POSIX (Portable Operating System Interface), specifically, we can develop a program to interact with the operative system and the user. \n",
    "+ **GUI**, Python has an interface oriented to objects, it is the API Tk GUI (called Tkinter), this allows us to make programs with a portable GUI (Graphical User Interface) with an aspect and behaviour native. \n",
    "+ **Internet Scripting**, a lot of libraries are available to make network tools in a client or a server environments, such as, the communication through sockets to send TCP and UDP packages. \n",
    "+ **Numeric programming**, Numpy is a special science package that it includes numerical operations, such as task with arrays in N dimensions, lineal operations, and fourier transformation.\n",
    "+ **Games, AI, XML, and more...** due its impact in different communities, people have been working with this language in order to provide special packages to other people (these codes are __open source__), the most important think is that these people are experts in their domains. two examples of these important packages are: Scikit learn is a special library to use machine learning algorithms, and Pyshark to make analysis in the network traffic (it is an interface of Wireshark) \n",
    "\n",
    "One important think is to be careful with the different packages, due Python is open source language, some of them are not updated to the last Python's version, so pay attention to the incompatibilities generated between the dependencies in the packages. \n",
    "\n",
    "For the next sections we will use Python 3.x. This is the official webpage to download Python https://www.python.org/downloads\n",
    "\n",
    "Everything in Python is an object, since a variable until a class. Each object has an associated type (for example string or function) and internal data.\n"
   ]
  },
  {
   "cell_type": "markdown",
   "metadata": {},
   "source": [
    "## Integrated Development Environment"
   ]
  },
  {
   "cell_type": "markdown",
   "metadata": {},
   "source": [
    "We can start to code in Python in different environments, since the console of our operative system until a special IDE.\n",
    "For example, if we would like to make a clasical \"hello world\" through a .txt file do the next steps:\n",
    "1. Create a .txt file and write the next lines of codes, they have different type of variables assigned and the final lines will print the results in console\n",
    "\n",
    "![image](../Utilities/hello_world.png)\n",
    "\n",
    "2. Once you save the file you have to change the format .txt to .py \n",
    "3. Open a console and call the previous file with the command \"python\"\n",
    "\n",
    "![image](../Utilities/cmd.png)\n",
    "\n",
    "\n",
    "Now let's print the outputs of the script in a new file through the next command in console\n",
    "\n",
    "```python hello_world.py > output.txt ```\n",
    "\n",
    "\n",
    "\n",
    "Other utilities (like Pycharm IDE) are good choices if you want to develop projects to be in production.\n",
    "But, other tools are good options if you want to have a good description of the code and a good environment to execute the code and visualizations, some examples of them are Jupyter Notebooks, Wolfram Mathematica and Matlab.  \n",
    "\n",
    "\n",
    "<table>\n",
    "    <tr>\n",
    "        <td>\n",
    "            <img src=\"https://encrypted-tbn0.gstatic.com/images?q=tbn:ANd9GcTmMY76zLpmciQi6ThYNpHhYkaxiymTtBflKfFfmT632tkcsZb2lg\" width=\"150\" height=\"150\">\n",
    "        </td>\n",
    "        <td>\n",
    "            <img src=\"http://jupyter.org/assets/try/jupyter.png\" width=\"150\" height=\"150\">\n",
    "        </td>\n",
    "        <td>\n",
    "            <img src=\"https://encrypted-tbn0.gstatic.com/images?q=tbn:ANd9GcT47G6CS-_btLcvZ9sdmgPyNgnn0NZVbUqNoeIKU63eipYMJWg9\" width=\"150\" height=\"150\">\n",
    "        </td>\n",
    "        <td>\n",
    "        <img src=\"https://upload.wikimedia.org/wikipedia/commons/thumb/a/a1/PyCharm_Logo.svg/128px-PyCharm_Logo.svg.png\" width=\"150\" height=\"150\">            \n",
    "        </td>\n",
    "    </tr>    \n",
    "</table>\n",
    "    \n",
    "        \n",
    "\n",
    "\n",
    "\n",
    "\n",
    "\n",
    "\n",
    "\n",
    "\n"
   ]
  },
  {
   "cell_type": "code",
   "execution_count": 4,
   "metadata": {},
   "outputs": [
    {
     "name": "stdout",
     "output_type": "stream",
     "text": [
      "3.6.6 |Anaconda, Inc.| (default, Jun 28 2018, 11:27:44) [MSC v.1900 64 bit (AMD64)]\n",
      "3.6.6\n"
     ]
    }
   ],
   "source": [
    "import sys\n",
    "import platform\n",
    "print(sys.version)\n",
    "print(platform.python_version())"
   ]
  },
  {
   "cell_type": "code",
   "execution_count": 1,
   "metadata": {},
   "outputs": [
    {
     "name": "stdout",
     "output_type": "stream",
     "text": [
      "win32\n",
      "1267650600228229401496703205376\n",
      "Spam!Spam!Spam!Spam!Spam!Spam!Spam!Spam!\n"
     ]
    }
   ],
   "source": [
    "# A first Python script\n",
    "import sys # Load a library module\n",
    "print(sys.platform)\n",
    "print(2 ** 100) # Raise 2 to a power\n",
    "x = 'Spam!'\n",
    "print(x * 8) # String repetition"
   ]
  },
  {
   "cell_type": "markdown",
   "metadata": {},
   "source": [
    "## Variables\n",
    "\n",
    "These are some type of variables that we can use in Python:\n",
    "\n",
    "\n",
    "+ **int or Integer**: it represents the integer numbers, they don't have a fractional part. \n",
    "+ **float**: this type of variable has an integer part and a fractional divided by a dot.\n",
    "+ **str or string**: it is a variable type that represents text (characters).\n",
    "+ **bool or boolean**: these variables are logical. In Python their values must start with capital letter. \n",
    "+ **None or null**: None is the variable's value that represents a null in Python.  \n",
    "\n",
    "\n"
   ]
  },
  {
   "cell_type": "code",
   "execution_count": 1,
   "metadata": {},
   "outputs": [],
   "source": [
    "# In the next code lines we will define some variables, what types are these?\n",
    "number = 100\n",
    "factor = 1.1\n",
    "text =  \"hello world\""
   ]
  },
  {
   "cell_type": "code",
   "execution_count": 4,
   "metadata": {},
   "outputs": [
    {
     "name": "stdout",
     "output_type": "stream",
     "text": [
      "<class 'int'>\n",
      "<class 'float'>\n",
      "<class 'str'>\n"
     ]
    }
   ],
   "source": [
    "print(type(number))\n",
    "print(type(factor))\n",
    "print(type(text))"
   ]
  },
  {
   "cell_type": "markdown",
   "metadata": {},
   "source": [
    "+ **Numbers**,In the same way like other languages, we can find _integers_ that haven't a functional part, _floating-point_ numbers that do, and more exotic types - complex numbers with imaginary parts, _decimals_ width fixed precision, _rationals_ with numerator and denominator, and full-featured _sets_."
   ]
  },
  {
   "cell_type": "code",
   "execution_count": 23,
   "metadata": {},
   "outputs": [
    {
     "name": "stdout",
     "output_type": "stream",
     "text": [
      "<class 'int'>\n",
      "<class 'float'>\n",
      "<class 'complex'>\n"
     ]
    }
   ],
   "source": [
    "print(type(1))\n",
    "print(type(1.5))\n",
    "print(type(1j))"
   ]
  },
  {
   "cell_type": "markdown",
   "metadata": {},
   "source": [
    "An important Python package is _math_ whose has a lot of numeric modules. See the next example in order to see how we can import a package and use a method from it. "
   ]
  },
  {
   "cell_type": "code",
   "execution_count": 24,
   "metadata": {},
   "outputs": [
    {
     "data": {
      "text/plain": [
       "3.141592653589793"
      ]
     },
     "execution_count": 24,
     "metadata": {},
     "output_type": "execute_result"
    }
   ],
   "source": [
    "import math\n",
    "math.pi"
   ]
  },
  {
   "cell_type": "code",
   "execution_count": 25,
   "metadata": {},
   "outputs": [
    {
     "data": {
      "text/plain": [
       "9.219544457292887"
      ]
     },
     "execution_count": 25,
     "metadata": {},
     "output_type": "execute_result"
    }
   ],
   "source": [
    "math.sqrt(85)"
   ]
  },
  {
   "cell_type": "code",
   "execution_count": 26,
   "metadata": {},
   "outputs": [],
   "source": [
    "?math.sqrt"
   ]
  },
  {
   "cell_type": "markdown",
   "metadata": {},
   "source": [
    "Another package is _random_, it performs random-number generation and random selections."
   ]
  },
  {
   "cell_type": "code",
   "execution_count": 27,
   "metadata": {},
   "outputs": [
    {
     "data": {
      "text/plain": [
       "0.289278498891524"
      ]
     },
     "execution_count": 27,
     "metadata": {},
     "output_type": "execute_result"
    }
   ],
   "source": [
    "import random\n",
    "random.random()"
   ]
  },
  {
   "cell_type": "code",
   "execution_count": 28,
   "metadata": {},
   "outputs": [
    {
     "data": {
      "text/plain": [
       "4"
      ]
     },
     "execution_count": 28,
     "metadata": {},
     "output_type": "execute_result"
    }
   ],
   "source": [
    "random.choice([1,4,5])"
   ]
  },
  {
   "cell_type": "markdown",
   "metadata": {},
   "source": [
    "+ **Strings**, Strings are used to record both textual information (your name, for instance) as well\n",
    "as arbitrary collections of bytes (such as an image file’s contents)."
   ]
  },
  {
   "cell_type": "code",
   "execution_count": 3,
   "metadata": {},
   "outputs": [
    {
     "data": {
      "text/plain": [
       "4"
      ]
     },
     "execution_count": 3,
     "metadata": {},
     "output_type": "execute_result"
    }
   ],
   "source": [
    "s = \"Spam\" # Make a 4-character string, and assign it to a name\n",
    "len(s) # Length"
   ]
  },
  {
   "cell_type": "code",
   "execution_count": 5,
   "metadata": {},
   "outputs": [
    {
     "data": {
      "text/plain": [
       "'S'"
      ]
     },
     "execution_count": 5,
     "metadata": {},
     "output_type": "execute_result"
    }
   ],
   "source": [
    "s[0] #The first item in S, indexing by zero-based position"
   ]
  },
  {
   "cell_type": "code",
   "execution_count": 7,
   "metadata": {},
   "outputs": [
    {
     "data": {
      "text/plain": [
       "'m'"
      ]
     },
     "execution_count": 7,
     "metadata": {},
     "output_type": "execute_result"
    }
   ],
   "source": [
    "s[-1] #The last item from the end in S"
   ]
  },
  {
   "cell_type": "code",
   "execution_count": 8,
   "metadata": {},
   "outputs": [
    {
     "data": {
      "text/plain": [
       "'pa'"
      ]
     },
     "execution_count": 8,
     "metadata": {},
     "output_type": "execute_result"
    }
   ],
   "source": [
    "s[1:3] # Slice of S from offsets 1 through 2 (not 3)"
   ]
  },
  {
   "cell_type": "markdown",
   "metadata": {},
   "source": [
    "+ **arrays**, it is an structure that allow us to save objects of the same type in temporal memory. Moreover, this structure has some methods to manage it's information, such as, append, sort and remove.\n"
   ]
  },
  {
   "cell_type": "code",
   "execution_count": 9,
   "metadata": {},
   "outputs": [
    {
     "name": "stdout",
     "output_type": "stream",
     "text": [
      "[1, 3, 4, 30, 21]\n"
     ]
    }
   ],
   "source": [
    "# let's define a list\n",
    "list = [1,3,4,30]\n",
    "# we will append a new number in the list\n",
    "list.append(21)\n",
    "print(list)"
   ]
  },
  {
   "cell_type": "code",
   "execution_count": 10,
   "metadata": {},
   "outputs": [
    {
     "name": "stdout",
     "output_type": "stream",
     "text": [
      "[1, 3, 4, 21, 30]\n"
     ]
    }
   ],
   "source": [
    "# we will sort the information in the last array\n",
    "list.sort()\n",
    "print(list)"
   ]
  },
  {
   "cell_type": "code",
   "execution_count": 11,
   "metadata": {},
   "outputs": [
    {
     "name": "stdout",
     "output_type": "stream",
     "text": [
      "[1, 4, 21, 30]\n"
     ]
    }
   ],
   "source": [
    "# we will remove a number in our array\n",
    "list.remove(3)\n",
    "print(list)"
   ]
  },
  {
   "cell_type": "code",
   "execution_count": 2,
   "metadata": {},
   "outputs": [
    {
     "name": "stdout",
     "output_type": "stream",
     "text": [
      "hello\n",
      "\n",
      "d\n",
      "\n",
      "11\n",
      "\n",
      "ld\n"
     ]
    }
   ],
   "source": [
    "# the next code prints the specific elements in a array of characters\n",
    "print(text[0:5])\n",
    "print()\n",
    "# the last character in our string\n",
    "print(text[-1])\n",
    "print()\n",
    "# the string length\n",
    "print(len(text))\n",
    "print()\n",
    "# characters from the second-last (included) to the end\n",
    "print(text[-2:])"
   ]
  },
  {
   "cell_type": "markdown",
   "metadata": {},
   "source": [
    "+ **Dictionaries**,  they are hash table structures in Python, it allows us to save data associated with a key.\n"
   ]
  },
  {
   "cell_type": "code",
   "execution_count": 18,
   "metadata": {},
   "outputs": [
    {
     "name": "stdout",
     "output_type": "stream",
     "text": [
      "dict_keys(['ftp', 'ssh', 'smtp', 'http'])\n",
      "\n",
      "dict_items([('ftp', 21), ('ssh', 22), ('smtp', 25), ('http', 80)])\n",
      "\n",
      "21\n"
     ]
    }
   ],
   "source": [
    "# the next code line define a dictionary \n",
    "services = {'ftp':21, 'ssh':22, 'smtp':25, 'http':80}\n",
    "# print the keys\n",
    "print(services.keys())\n",
    "print()\n",
    "# print the items\n",
    "print(services.items())\n",
    "print()\n",
    "# print the value associated to a key\n",
    "print(services['ftp'])"
   ]
  },
  {
   "cell_type": "code",
   "execution_count": 2,
   "metadata": {},
   "outputs": [
    {
     "data": {
      "text/plain": [
       "list"
      ]
     },
     "execution_count": 2,
     "metadata": {},
     "output_type": "execute_result"
    }
   ],
   "source": [
    "# List and dictionaries are mutable and immutable objects, in other words, their objects can be modified\n",
    "\n",
    "a_list = ['ssh', 2, [1,4]]\n",
    "type(a_list)"
   ]
  },
  {
   "cell_type": "code",
   "execution_count": 4,
   "metadata": {},
   "outputs": [
    {
     "name": "stdout",
     "output_type": "stream",
     "text": [
      "['ssh', (2, 6), [1, 4]]\n"
     ]
    }
   ],
   "source": [
    "a_list[1] = (2,6)\n",
    "print(a_list)"
   ]
  },
  {
   "cell_type": "markdown",
   "metadata": {},
   "source": [
    "+ **datetime**: Python has a package dedicated to process date variables, some of it's methods are:\n",
    "    + datetime.date                     \n",
    "    + datetime.datetime                 \n",
    "    + datetime.MAXYEAR\n",
    "    + datetime.MINYEAR\n",
    "    + datetime.year\n",
    "    \n",
    "https://docs.python.org/3.7/library/datetime.html"
   ]
  },
  {
   "cell_type": "code",
   "execution_count": 51,
   "metadata": {},
   "outputs": [
    {
     "name": "stdout",
     "output_type": "stream",
     "text": [
      "2018-08-13 14:03:50.439819\n",
      "\n",
      "2018-08-13\n"
     ]
    }
   ],
   "source": [
    "import datetime as dt\n",
    "\n",
    "today_date_time = dt.datetime.today()\n",
    "\n",
    "print(today_date_time)\n",
    "print()\n",
    "today_date = dt.date.today()\n",
    "print(today_date)"
   ]
  },
  {
   "cell_type": "code",
   "execution_count": 3,
   "metadata": {},
   "outputs": [],
   "source": [
    "a = \"foo\""
   ]
  },
  {
   "cell_type": "markdown",
   "metadata": {},
   "source": [
    "As I explained, all in Python is an object, we can access to their propiertes using next to __.__\n",
    "for example: \n",
    "```\n",
    "a.<TAB>\n",
    "```"
   ]
  },
  {
   "cell_type": "code",
   "execution_count": 24,
   "metadata": {},
   "outputs": [],
   "source": [
    "# let's use tab next to the \".\" and see the string propierties\n",
    "a."
   ]
  },
  {
   "cell_type": "markdown",
   "metadata": {},
   "source": [
    "## Introspection\n",
    "\n",
    "Through a question mark (?) before or after a variable we can display information about the object or the method. If we use ?? we can have more information about the source code if it is possible.\n"
   ]
  },
  {
   "cell_type": "code",
   "execution_count": 29,
   "metadata": {},
   "outputs": [],
   "source": [
    "b = [1,2,3]\n",
    "# ?b\n",
    "\n",
    "??len()"
   ]
  },
  {
   "cell_type": "markdown",
   "metadata": {},
   "source": [
    "## Operations\n",
    "\n",
    "+ **Multiplication**, in Python it's representation is *  \n",
    "+ **Sum**, in Python it's representation is +"
   ]
  },
  {
   "cell_type": "code",
   "execution_count": 4,
   "metadata": {},
   "outputs": [
    {
     "name": "stdout",
     "output_type": "stream",
     "text": [
      "110.00000000000001\n",
      "\n",
      "hello worldhello world\n"
     ]
    }
   ],
   "source": [
    "# Multiplication in Python\n",
    "print(number*factor)\n",
    "\n",
    "print()\n",
    "\n",
    "# Sum\n",
    "print(text + text)"
   ]
  },
  {
   "cell_type": "markdown",
   "metadata": {},
   "source": [
    "+ __substract__, a - b\n",
    "+ __divide__, a / b\n",
    "+ __floor divide__, a // b\n",
    "+ __raise__, a ** b\n",
    "+ __AND__, a & b\n",
    "+ __OR__, a | b\n",
    "+ __EQUAL__, a == b\n",
    "+ __Difference__, a != b"
   ]
  },
  {
   "cell_type": "markdown",
   "metadata": {},
   "source": [
    "## Functions\n",
    "\n",
    "Python has a lot of packages an different functions, one important source to get their documentation is at Python's docs (https://docs.python.org/3/library/). In this section we took some functions in order to illustrate how use them in Python.\n",
    "\n",
    "+ type(), it allows us to know the type of the variables\n",
    "+ str(), int(), float() and bool(), these mechanisms allow us to change a variable type to another one. \n",
    "\n",
    "\n",
    "\n",
    "\n"
   ]
  },
  {
   "cell_type": "code",
   "execution_count": 7,
   "metadata": {},
   "outputs": [
    {
     "name": "stdout",
     "output_type": "stream",
     "text": [
      "<class 'int'>\n",
      "<class 'str'>\n"
     ]
    }
   ],
   "source": [
    "# print the type of the number variable \n",
    "print(type(number))\n",
    "\n",
    "# we will change the type of an int variable to a character\n",
    "character_factor = str(number)\n",
    "print(type(character_factor))\n"
   ]
  },
  {
   "cell_type": "markdown",
   "metadata": {},
   "source": [
    "Pay attention that the definition of a function starts with __def__, the parameters are going into the parentereshis (divided by commas), next we have a __:__ whose defines the begining of the code internal in the function. This is a pseudocode of a function.\n",
    "```\n",
    "def append_alement(some_list, element):\n",
    "    some_list.append(element)\n",
    " ```"
   ]
  },
  {
   "cell_type": "code",
   "execution_count": 8,
   "metadata": {},
   "outputs": [
    {
     "name": "stdout",
     "output_type": "stream",
     "text": [
      "5\n",
      "0\n",
      "1\n"
     ]
    }
   ],
   "source": [
    "def suma(en1, en2):\n",
    "    print(en1+en2)\n",
    "    for i in range(en2):\n",
    "        print(i)\n",
    "suma(3,2)\n",
    "      "
   ]
  },
  {
   "cell_type": "code",
   "execution_count": 9,
   "metadata": {},
   "outputs": [],
   "source": [
    "def append_element(some_list, element):\n",
    "    some_list.append(element)"
   ]
  },
  {
   "cell_type": "code",
   "execution_count": 13,
   "metadata": {},
   "outputs": [
    {
     "name": "stdout",
     "output_type": "stream",
     "text": [
      "[1, 3, 5, 20, 10]\n"
     ]
    }
   ],
   "source": [
    "list_data = [1,3,5,20]\n",
    "# we will call the function previously created\n",
    "append_element(list_data,10)\n",
    "print(list_data)"
   ]
  },
  {
   "cell_type": "code",
   "execution_count": 1,
   "metadata": {},
   "outputs": [],
   "source": [
    "# we can return a value or multiple values with our function\n",
    "def k():\n",
    "    a = 1\n",
    "    b = 3\n",
    "    c = 7\n",
    "    return a, b, c"
   ]
  },
  {
   "cell_type": "code",
   "execution_count": 2,
   "metadata": {},
   "outputs": [
    {
     "name": "stdout",
     "output_type": "stream",
     "text": [
      "1\n"
     ]
    }
   ],
   "source": [
    "a, b, c = k()\n",
    "print(a)"
   ]
  },
  {
   "cell_type": "markdown",
   "metadata": {},
   "source": [
    "## Loops\n",
    "\n",
    "One way to implement a loop in Java is through a for sentence, such as:\n",
    "\n",
    "/* Java Code */\n",
    "\n",
    "```\n",
    "int result = 0;\n",
    "for(int i=0; i<100; i++)\n",
    "{\n",
    "    result +=i;\n",
    "}\n",
    "\n",
    "```\n",
    "In the next code lines are define a representation of a loop in Python"
   ]
  },
  {
   "cell_type": "code",
   "execution_count": 30,
   "metadata": {},
   "outputs": [],
   "source": [
    "?range"
   ]
  },
  {
   "cell_type": "code",
   "execution_count": 10,
   "metadata": {},
   "outputs": [
    {
     "name": "stdout",
     "output_type": "stream",
     "text": [
      "4950\n"
     ]
    }
   ],
   "source": [
    "result = 0\n",
    "for i in range(100):\n",
    "    result +=i\n",
    "print(result)"
   ]
  },
  {
   "cell_type": "markdown",
   "metadata": {},
   "source": [
    "## Exceptions\n",
    "\n",
    "In order to manage the exceptions to the problems generated during the execution time of any program Python provides some useful methods to control them. In some cases Python allows us to understand the cause of the error if we didn't control it, such as"
   ]
  },
  {
   "cell_type": "code",
   "execution_count": 1,
   "metadata": {},
   "outputs": [
    {
     "ename": "ZeroDivisionError",
     "evalue": "division by zero",
     "output_type": "error",
     "traceback": [
      "\u001b[1;31m---------------------------------------------------------------------------\u001b[0m",
      "\u001b[1;31mZeroDivisionError\u001b[0m                         Traceback (most recent call last)",
      "\u001b[1;32m<ipython-input-1-f68112c39154>\u001b[0m in \u001b[0;36m<module>\u001b[1;34m()\u001b[0m\n\u001b[1;32m----> 1\u001b[1;33m \u001b[0mprint\u001b[0m\u001b[1;33m(\u001b[0m\u001b[1;36m131\u001b[0m\u001b[1;33m/\u001b[0m\u001b[1;36m0\u001b[0m\u001b[1;33m)\u001b[0m\u001b[1;33m\u001b[0m\u001b[0m\n\u001b[0m",
      "\u001b[1;31mZeroDivisionError\u001b[0m: division by zero"
     ]
    }
   ],
   "source": [
    "print(131/0)"
   ]
  },
  {
   "cell_type": "markdown",
   "metadata": {},
   "source": [
    "Nevertheless, we can use the clauses \"try\" and \"except\" to catch any error in the code. Pay attention to the spaces in the code and use \":\" to declare the code lines to control. "
   ]
  },
  {
   "cell_type": "code",
   "execution_count": 3,
   "metadata": {},
   "outputs": [
    {
     "name": "stdout",
     "output_type": "stream",
     "text": [
      "[-] Error. \n"
     ]
    }
   ],
   "source": [
    "try:\n",
    "    print(\"[+] 1337/0 = \" + str(1337/0))\n",
    "except:\n",
    "    print(\"[-] Error. \")\n",
    "            "
   ]
  },
  {
   "cell_type": "markdown",
   "metadata": {},
   "source": [
    "The last exception control didn't provide information about the error, in order to get it we can catch the error in a variable, for example:\n"
   ]
  },
  {
   "cell_type": "code",
   "execution_count": 4,
   "metadata": {},
   "outputs": [
    {
     "name": "stdout",
     "output_type": "stream",
     "text": [
      "[-] Error = division by zero\n"
     ]
    }
   ],
   "source": [
    "try:\n",
    "    print(\"[+] 1337/0 = \" + str(1337/0))\n",
    "except Exception as e:\n",
    "    print(\"[-] Error = \" + str(e))"
   ]
  },
  {
   "cell_type": "markdown",
   "metadata": {},
   "source": [
    "## Imports"
   ]
  },
  {
   "cell_type": "markdown",
   "metadata": {},
   "source": [
    "How I said, Python has a lot of packages available to use them in our projects and in the same way we can make our own tools to apply in different taks. The next examples allow us to understand how we can call the packages installed in our Python environment. \n",
    "\n",
    "Url to reference https://docs.python.org/3/reference/import.html\n"
   ]
  },
  {
   "cell_type": "code",
   "execution_count": 14,
   "metadata": {},
   "outputs": [
    {
     "name": "stdout",
     "output_type": "stream",
     "text": [
      "0\n",
      "1\n",
      "1\n",
      "2\n",
      "3\n",
      "5\n",
      "8\n",
      "{0: 2.1672199238109044, 1: 0.28885362159434075, 2: -0.7790462083607186, 3: 0.16888695419073477, 4: -1.5879562729763554, 5: -0.4671324065308268, 6: 0.20206893369859877}\n",
      "\n",
      "[3.  1.  0.2]\n",
      "\n",
      "[0.8360188  0.11314284 0.05083836]\n",
      "\n",
      "0\n",
      "1\n",
      "1\n",
      "2\n",
      "3\n",
      "5\n",
      "8\n",
      "None\n"
     ]
    }
   ],
   "source": [
    "# the next code imports a package and declares it in a variable \n",
    "import numpy as np # numpy is a mathematical tool previously installed in our Python environment\n",
    "# we will use a method in another python class\n",
    "from tools import Tools as tl\n",
    "data =  {i: np.random.randn() for i in range(7)}\n",
    "\n",
    "# data dictionary\n",
    "print(data)\n",
    "print()\n",
    "scores = np.array([3.0, 1.0, 0.2])\n",
    "print(scores)\n",
    "print()\n",
    "# softmax's results\n",
    "print(tl.softmax(scores))\n",
    "print()\n",
    "# fibonacci's results\n",
    "print(tl.fibonacci(None))\n"
   ]
  },
  {
   "cell_type": "code",
   "execution_count": null,
   "metadata": {},
   "outputs": [],
   "source": []
  },
  {
   "cell_type": "markdown",
   "metadata": {},
   "source": [
    "We can use the %run command to execute a python file in our IPython session, or we can use %load to get the code from the file."
   ]
  },
  {
   "cell_type": "code",
   "execution_count": 65,
   "metadata": {},
   "outputs": [
    {
     "name": "stdout",
     "output_type": "stream",
     "text": [
      "0\n",
      "1\n",
      "1\n",
      "2\n",
      "3\n",
      "5\n",
      "8\n"
     ]
    }
   ],
   "source": [
    "%run Tools.py \n"
   ]
  },
  {
   "cell_type": "code",
   "execution_count": null,
   "metadata": {},
   "outputs": [],
   "source": [
    "# %load Tools.py\n",
    "from numpy import exp, sum\n",
    "\n",
    "\n",
    "class Tools(object):\n",
    "\n",
    "    def softmax(x):\n",
    "        \"\"\"\n",
    "        Compute the softmax values for x.\n",
    "        Returns\n",
    "        -------\n",
    "        probabilities : the probability representation of x\n",
    "        \"\"\"\n",
    "        \"\"\"\"\"\"\n",
    "        return exp(x) / sum(exp(x), axis=0)\n",
    "\n",
    "    def fibonacci(self=None):\n",
    "        \"\"\"\n",
    "        this method returns the first ten numbers of the Fibonacci\n",
    "        Returns\n",
    "        -------\n",
    "        fibonacci : the ten numbers of the fibonacci method\n",
    "        \"\"\"\n",
    "        \"\"\"\"\"\"\n",
    "        a, b = 0, 1\n",
    "        while a < 10:\n",
    "            print(a)\n",
    "            a, b = b, a + b\n",
    "\n",
    "\n",
    "Tools.fibonacci()"
   ]
  },
  {
   "cell_type": "markdown",
   "metadata": {},
   "source": [
    "## IPython-Magic-Commands"
   ]
  },
  {
   "cell_type": "markdown",
   "metadata": {},
   "source": [
    "IPython has some special commands that are not included in Python, these \"Magic commands\" allows us to interact with the kernel. IPython kernel uses the % syntax element for magics, more information about these commands are in this URL https://ipython.readthedocs.io/en/stable/interactive/magics.html?highlight=commands "
   ]
  },
  {
   "cell_type": "code",
   "execution_count": 23,
   "metadata": {},
   "outputs": [
    {
     "data": {
      "application/json": {
       "cell": {
        "!": "OSMagics",
        "HTML": "Other",
        "SVG": "Other",
        "bash": "Other",
        "capture": "ExecutionMagics",
        "cmd": "Other",
        "debug": "ExecutionMagics",
        "file": "Other",
        "html": "DisplayMagics",
        "javascript": "DisplayMagics",
        "js": "DisplayMagics",
        "latex": "DisplayMagics",
        "markdown": "DisplayMagics",
        "perl": "Other",
        "prun": "ExecutionMagics",
        "pypy": "Other",
        "python": "Other",
        "python2": "Other",
        "python3": "Other",
        "ruby": "Other",
        "script": "ScriptMagics",
        "sh": "Other",
        "svg": "DisplayMagics",
        "sx": "OSMagics",
        "system": "OSMagics",
        "time": "ExecutionMagics",
        "timeit": "ExecutionMagics",
        "writefile": "OSMagics"
       },
       "line": {
        "alias": "OSMagics",
        "alias_magic": "BasicMagics",
        "autocall": "AutoMagics",
        "automagic": "AutoMagics",
        "autosave": "KernelMagics",
        "bookmark": "OSMagics",
        "cd": "OSMagics",
        "clear": "KernelMagics",
        "cls": "KernelMagics",
        "colors": "BasicMagics",
        "config": "ConfigMagics",
        "connect_info": "KernelMagics",
        "copy": "Other",
        "ddir": "Other",
        "debug": "ExecutionMagics",
        "dhist": "OSMagics",
        "dirs": "OSMagics",
        "doctest_mode": "BasicMagics",
        "echo": "Other",
        "ed": "Other",
        "edit": "KernelMagics",
        "env": "OSMagics",
        "gui": "BasicMagics",
        "hist": "Other",
        "history": "HistoryMagics",
        "killbgscripts": "ScriptMagics",
        "ldir": "Other",
        "less": "KernelMagics",
        "load": "CodeMagics",
        "load_ext": "ExtensionMagics",
        "loadpy": "CodeMagics",
        "logoff": "LoggingMagics",
        "logon": "LoggingMagics",
        "logstart": "LoggingMagics",
        "logstate": "LoggingMagics",
        "logstop": "LoggingMagics",
        "ls": "Other",
        "lsmagic": "BasicMagics",
        "macro": "ExecutionMagics",
        "magic": "BasicMagics",
        "matplotlib": "PylabMagics",
        "mkdir": "Other",
        "more": "KernelMagics",
        "notebook": "BasicMagics",
        "page": "BasicMagics",
        "pastebin": "CodeMagics",
        "pdb": "ExecutionMagics",
        "pdef": "NamespaceMagics",
        "pdoc": "NamespaceMagics",
        "pfile": "NamespaceMagics",
        "pinfo": "NamespaceMagics",
        "pinfo2": "NamespaceMagics",
        "pip": "BasicMagics",
        "popd": "OSMagics",
        "pprint": "BasicMagics",
        "precision": "BasicMagics",
        "profile": "BasicMagics",
        "prun": "ExecutionMagics",
        "psearch": "NamespaceMagics",
        "psource": "NamespaceMagics",
        "pushd": "OSMagics",
        "pwd": "OSMagics",
        "pycat": "OSMagics",
        "pylab": "PylabMagics",
        "qtconsole": "KernelMagics",
        "quickref": "BasicMagics",
        "recall": "HistoryMagics",
        "rehashx": "OSMagics",
        "reload_ext": "ExtensionMagics",
        "ren": "Other",
        "rep": "Other",
        "rerun": "HistoryMagics",
        "reset": "NamespaceMagics",
        "reset_selective": "NamespaceMagics",
        "rmdir": "Other",
        "run": "ExecutionMagics",
        "save": "CodeMagics",
        "sc": "OSMagics",
        "set_env": "OSMagics",
        "store": "StoreMagics",
        "sx": "OSMagics",
        "system": "OSMagics",
        "tb": "ExecutionMagics",
        "time": "ExecutionMagics",
        "timeit": "ExecutionMagics",
        "unalias": "OSMagics",
        "unload_ext": "ExtensionMagics",
        "who": "NamespaceMagics",
        "who_ls": "NamespaceMagics",
        "whos": "NamespaceMagics",
        "xdel": "NamespaceMagics",
        "xmode": "BasicMagics"
       }
      },
      "text/plain": [
       "Available line magics:\n",
       "%alias  %alias_magic  %autocall  %automagic  %autosave  %bookmark  %cd  %clear  %cls  %colors  %config  %connect_info  %copy  %ddir  %debug  %dhist  %dirs  %doctest_mode  %echo  %ed  %edit  %env  %gui  %hist  %history  %killbgscripts  %ldir  %less  %load  %load_ext  %loadpy  %logoff  %logon  %logstart  %logstate  %logstop  %ls  %lsmagic  %macro  %magic  %matplotlib  %mkdir  %more  %notebook  %page  %pastebin  %pdb  %pdef  %pdoc  %pfile  %pinfo  %pinfo2  %popd  %pprint  %precision  %profile  %prun  %psearch  %psource  %pushd  %pwd  %pycat  %pylab  %qtconsole  %quickref  %recall  %rehashx  %reload_ext  %ren  %rep  %rerun  %reset  %reset_selective  %rmdir  %run  %save  %sc  %set_env  %store  %sx  %system  %tb  %time  %timeit  %unalias  %unload_ext  %who  %who_ls  %whos  %xdel  %xmode\n",
       "\n",
       "Available cell magics:\n",
       "%%!  %%HTML  %%SVG  %%bash  %%capture  %%cmd  %%debug  %%file  %%html  %%javascript  %%js  %%latex  %%markdown  %%perl  %%prun  %%pypy  %%python  %%python2  %%python3  %%ruby  %%script  %%sh  %%svg  %%sx  %%system  %%time  %%timeit  %%writefile\n",
       "\n",
       "Automagic is ON, % prefix IS NOT needed for line magics."
      ]
     },
     "execution_count": 23,
     "metadata": {},
     "output_type": "execute_result"
    }
   ],
   "source": [
    "%lsmagic"
   ]
  },
  {
   "cell_type": "code",
   "execution_count": 14,
   "metadata": {},
   "outputs": [
    {
     "name": "stdout",
     "output_type": "stream",
     "text": [
      "(100, 100)\n",
      "90 µs ± 13.6 µs per loop (mean ± std. dev. of 7 runs, 1 loop each)\n"
     ]
    }
   ],
   "source": [
    "# the next example allows us to know the execute time used during the multiplication of two matrices\n",
    "import numpy as np\n",
    "a = np.random.randn(100,100)\n",
    "\n",
    "print(a.shape) # matrix of 100 by 100\n",
    "#print(a)\n",
    "\n",
    "%timeit np.dot(a,a)"
   ]
  },
  {
   "cell_type": "code",
   "execution_count": 12,
   "metadata": {},
   "outputs": [
    {
     "data": {
      "text/plain": [
       "'D:\\\\Usuarios\\\\rhaps\\\\Documents\\\\GitHub\\\\Data-Science\\\\Python'"
      ]
     },
     "execution_count": 12,
     "metadata": {},
     "output_type": "execute_result"
    }
   ],
   "source": [
    "%pwd"
   ]
  },
  {
   "cell_type": "code",
   "execution_count": 15,
   "metadata": {},
   "outputs": [
    {
     "data": {
      "application/javascript": [
       "alert(\"hello world from javascript \\n\" +\n",
       "      \"[o]{1}{o} \\n\"+\n",
       "      \"{o}{o}{1} \\n\"+\n",
       "      \"[1][1][1] \\n\"\n",
       "     )"
      ],
      "text/plain": [
       "<IPython.core.display.Javascript object>"
      ]
     },
     "metadata": {},
     "output_type": "display_data"
    }
   ],
   "source": [
    "%%javascript\n",
    "alert(\"hello world from javascript \\n\" +\n",
    "      \"[o]{1}{o} \\n\"+\n",
    "      \"{o}{o}{1} \\n\"+\n",
    "      \"[1][1][1] \\n\"\n",
    "     )"
   ]
  },
  {
   "cell_type": "markdown",
   "metadata": {},
   "source": [
    "**Matplotlib** is a useful data science tool integrated with IPython whose will help us during a data visualization analysis. The way to call Matploit is through a magic function %matplotlib"
   ]
  },
  {
   "cell_type": "code",
   "execution_count": 16,
   "metadata": {},
   "outputs": [
    {
     "name": "stdout",
     "output_type": "stream",
     "text": [
      "Using matplotlib backend: Qt5Agg\n"
     ]
    }
   ],
   "source": [
    "%matplotlib\n"
   ]
  },
  {
   "cell_type": "code",
   "execution_count": 17,
   "metadata": {},
   "outputs": [
    {
     "data": {
      "text/plain": [
       "[<matplotlib.lines.Line2D at 0x1d3f57695c0>]"
      ]
     },
     "execution_count": 17,
     "metadata": {},
     "output_type": "execute_result"
    }
   ],
   "source": [
    "import matplotlib.pyplot as plt\n",
    "import numpy as np\n",
    "\n",
    "plt.plot(np.random.rand(50).cumsum())"
   ]
  },
  {
   "cell_type": "markdown",
   "metadata": {},
   "source": [
    "## Latex-formulas\n",
    "\n",
    "IPython provides a latex tool through the markdown languaje in order to write mathematical formulas with MathJax.\n",
    "\n",
    "$S(k_{i})=\\frac{e^y_{i}}{\\sum_{j}^{} e^y_{i}}$\n",
    "\n",
    "\n",
    "$$ \\bigvee E = \n",
    "\\left(\\begin{array}{aa} \n",
    "\\frac{\\mathrm{dE}}{\\mathrm{dw^{1}_{11}}} & \\frac{\\mathrm{dE}}{\\mathrm{dw^{1}_{12}}} & \\frac{\\mathrm{dE}}{\\mathrm{dw^{2}_{11}}}\\\\\n",
    "\\frac{\\mathrm{dE}}{\\mathrm{dw^{1}_{21}}} & \\frac{\\mathrm{dE}}{\\mathrm{dw^{1}_{22}}} & \\frac{\\mathrm{dE}}{\\mathrm{dw^{2}_{21}}}\\\\\n",
    "\\frac{\\mathrm{dE}}{\\mathrm{dw^{1}_{31}}} & \\frac{\\mathrm{dE}}{\\mathrm{dw^{1}_{32}}} & \\frac{\\mathrm{dE}}{\\mathrm{dw^{2}_{31}}}\\\\\n",
    "\\end{array}\\right)\n",
    "$$"
   ]
  },
  {
   "cell_type": "markdown",
   "metadata": {},
   "source": [
    "## R and Python together\n",
    "\n",
    "R and Python are two of the most important languages in data science and IPython provides us a way to use them together. The next example allows us to know to use them in order to load a matrix with pandas (Python) and make a plot with ggplot in R."
   ]
  },
  {
   "cell_type": "code",
   "execution_count": 3,
   "metadata": {},
   "outputs": [],
   "source": [
    "%load_ext rpy2.ipython"
   ]
  },
  {
   "cell_type": "code",
   "execution_count": 22,
   "metadata": {},
   "outputs": [
    {
     "data": {
      "text/plain": [
       "array([1], dtype=int32)"
      ]
     },
     "execution_count": 22,
     "metadata": {},
     "output_type": "execute_result"
    }
   ],
   "source": [
    "%R require(ggplot2)"
   ]
  },
  {
   "cell_type": "code",
   "execution_count": 23,
   "metadata": {},
   "outputs": [],
   "source": [
    "import pandas as pd"
   ]
  },
  {
   "cell_type": "code",
   "execution_count": 24,
   "metadata": {},
   "outputs": [],
   "source": [
    "# we are going to make a data frame object in Python\n",
    "df = pd.DataFrame({\n",
    "        'Letter': ['a', 'a', 'a', 'b', 'b', 'b', 'c', 'c', 'c'],\n",
    "        'X': [4, 3, 5, 2, 1, 7, 7, 5, 9],\n",
    "        'Y': [0, 4, 3, 6, 7, 10, 11, 9, 13],\n",
    "        'Z': [1, 2, 3, 1, 2, 3, 1, 2, 3]\n",
    "    })"
   ]
  },
  {
   "cell_type": "code",
   "execution_count": 25,
   "metadata": {},
   "outputs": [
    {
     "data": {
      "image/png": "[encoded data removed]"
     },
     "metadata": {},
     "output_type": "display_data"
    }
   ],
   "source": [
    "%%R -i df -w 800 -h 480 -u px\n",
    "library(ggplot2)\n",
    "ggplot(data = df) + geom_point(aes(x = X, y= Y, color = Letter, size = Z))"
   ]
  },
  {
   "cell_type": "markdown",
   "metadata": {},
   "source": [
    "## Read and Write"
   ]
  },
  {
   "cell_type": "markdown",
   "metadata": {},
   "source": [
    "Reading and writing information from data files, be it in text or binary format, is important for scientific computing. "
   ]
  },
  {
   "cell_type": "markdown",
   "metadata": {},
   "source": [
    "### Text files"
   ]
  },
  {
   "cell_type": "code",
   "execution_count": 6,
   "metadata": {},
   "outputs": [
    {
     "name": "stdout",
     "output_type": "stream",
     "text": [
      "['Chapter 1\\n', '\\n', '\\n', 'Happy families are all alike; every unhappy family is unhappy in its own\\n', 'way.\\n']\n"
     ]
    }
   ],
   "source": [
    "# Opening the text file with the 'r' option, wich only allows reading capability\n",
    "f = open('../Machine_learning/Deep Learning/RNN/char-rnn/data/anna.txt', 'r')\n",
    "\n",
    "# Parsing the file and splitting each line which creates a list where each element \n",
    "# of it is one line\n",
    "alist = f.readlines()\n",
    "print(alist[:5])\n",
    "# closing file\n",
    "f.close()"
   ]
  },
  {
   "cell_type": "code",
   "execution_count": 7,
   "metadata": {},
   "outputs": [],
   "source": [
    "# we are going to open a new text file\n",
    "# to write the data with the 'w' option. If there\n",
    "# was data already existing in the file, it will be overwritten.\n",
    "f = open('newtextfile.txt', 'w')\n",
    "# Writing data to file\n",
    "f.writelines(\"hello world\")\n",
    "# Closing file\n",
    "f.close()"
   ]
  },
  {
   "cell_type": "markdown",
   "metadata": {},
   "source": [
    "## References\n",
    "\n",
    "+ McKinney, W. (2012). Python for data analysis: Data wrangling with Pandas, NumPy, and IPython. \" O'Reilly Media, Inc.\".\n",
    "+ Lutz, M. (2013). Learning Python: Powerful Object-Oriented Programming. \" O'Reilly Media, Inc.\".\n",
    "+ O'Connor, T. J. (2012). Violent Python: a cookbook for hackers, forensic analysts, penetration testers and security engineers. Newnes."
   ]
  }
 ],
 "metadata": {
  "kernelspec": {
   "display_name": "Python 3",
   "language": "python",
   "name": "python3"
  },
  "language_info": {
   "codemirror_mode": {
    "name": "ipython",
    "version": 3
   },
   "file_extension": ".py",
   "mimetype": "text/x-python",
   "name": "python",
   "nbconvert_exporter": "python",
   "pygments_lexer": "ipython3",
   "version": "3.6.6"
  }
 },
 "nbformat": 4,
 "nbformat_minor": 2
}
