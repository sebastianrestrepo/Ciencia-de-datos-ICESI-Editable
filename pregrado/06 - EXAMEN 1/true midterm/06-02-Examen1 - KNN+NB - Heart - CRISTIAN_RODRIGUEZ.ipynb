{
 "cells": [
  {
   "cell_type": "markdown",
   "metadata": {},
   "source": [
    "# Analítica de datos\n",
    "# Examen parcial 1\n",
    "# 2019 - 01\n",
    "# <font color='red'> CRISTIAN RODRIGUEZ, A00058176 </font>"
   ]
  },
  {
   "cell_type": "markdown",
   "metadata": {},
   "source": [
    " El dataset que deben analizar contiene registros de pacientes con síntomas de problemas cardíacos.\n",
    " Se tienen los datos provenientes bases de datos de enfermedades del corazón, provenientes de diferentes centros médicos:\n",
    " - Cleveland Clinic Foundation\n",
    " - Hungarian Institute of Cardiology, Budapest\n",
    " - University Hospital, Zurich, & University Hospital, Basel, Switzerland "
   ]
  },
  {
   "cell_type": "markdown",
   "metadata": {},
   "source": [
    " Los campos del dataset son los siguientes:\n",
    " 1. ciudad: ciudad del paciente (Cleveland, Hungria, Suiza)\n",
    " 2. edad: en años\n",
    " 3. sexo: \"1\"=hombre, \"0\"=mujer\n",
    " 4. tipo_dolor: tipo de dolor de pecho (\"1\"=angina típico, \"2\"=angina atípico, \"3\"=dolor no de angina, \"4\"=sin síntoma de dolor)\n",
    " 5. presion: presión de la sangre en reposo (en mm/Hg, en el momento de admisión al hospital)\n",
    " 6. colesterol: en densidad del colesterol (en mg/dl)\n",
    " 7. azucar: indica si el nivel de azucar en la sangre en ayunas es superior a 120 mg/dl (\"1\") o no (\"0\")\n",
    " 8. ecg: resultado el electro cardiograma (\"0\"=normal, \"1\"=anormalidad del nivel de ST, \"2\"=hipertrofía ventricular probable)\n",
    " 9. pulso: frecuencia cardiaca máxima alcanzada\n",
    " 10. angina: si se induce a una angina a través del ejercicio (\"1\") o no (\"0\")\n",
    " 11. st: diferencia relativa entre el nivel de ST inducido por el ejercicio comparado con el nivel del reposo.\n",
    " 12. pendiente: la pendiente de llegada al máximo del nivel ST durante el ejercicio (\"1\"creciente, \"2\"=plana, \"3\"=decreciente)\n",
    " 13. venas: número de venas coloreadas a partir de la fluorescopia (0 a 3)\n",
    " 14. thal: tipo de defecto (valores aceptados 3=normal, 4=defecto arreglado, 7=defecto reversible)\n",
    " 15. target: indica si en efecto el paciente presenta una enfermedad cardiaca (\"1\", \"2\", \"3\", \"4\") o no (\"0\")\n"
   ]
  },
  {
   "cell_type": "markdown",
   "metadata": {},
   "source": [
    " La idea es poder predecir, utilizando dos tipos de modelo de aprendizaje supervisado (KNN y NaiveBayes) y las variables independientes disponibles qué pacientes pueden presentar mayor o menor riesgo de tener una enfermedad cardiaca. Vamos entonces a considerar como categoría positiva los valores \"1\", \"2\", \"3\" y \"4\" de la variable *target*, y como categoría negativa su valor \"0\"."
   ]
  },
  {
   "cell_type": "markdown",
   "metadata": {},
   "source": [
    " # 1. Entendimiento de los datos, limpieza"
   ]
  },
  {
   "cell_type": "markdown",
   "metadata": {},
   "source": [
    " El archivo \"DatosCorazon.csv\" contiene el dataset que tienen que analizar.\n",
    " Se recomienda abrirlo primero en un lector de archivos planos para entender preliminarmente su formato y así poderlo cargar adecuadamente con Python."
   ]
  },
  {
   "cell_type": "markdown",
   "metadata": {},
   "source": [
    " Teniendo en cuenta el tipo de problema en cuestión (clasificación o regresión), realice un análisis exploratorio de los datos estableciendo el baseline, verificando la calidad de los datos (tipos de las variables, valores inválidos, excepciones, valores faltantes, etc.), utilizando gráficos para poder entender las distribuciones de los datos e identificar posibles problemas."
   ]
  },
  {
   "cell_type": "markdown",
   "metadata": {},
   "source": [
    "## Puntos a desarrollar"
   ]
  },
  {
   "cell_type": "markdown",
   "metadata": {},
   "source": [
    " 1. <font color='red'>Carguen el archivo en memoria y exploren los datos. Antes de hacer limpieza identifiquen las proporciones de los datos provenientes de cada centro médico (ciudad), el baseline global (0.3) y los baselines por ciudad (0.3), y el baseline global . No olviden las convenciones de la variable objetiva definidas con respecto a como se define la clase positiva. \n",
    "    ¿Cree que es una buena idea diagnosticar a un paciente de Cleveland utilizando un modelo entrenado con todos los datos disponibles de las 3 ciudades? (0.2).</font>"
   ]
  },
  {
   "cell_type": "markdown",
   "metadata": {},
   "source": [
    " 1. <font color='red'>Identifiquen los problemas e inconsistencias que tienen los datos, teniendo en cuenta el diccionario de datos y el contexto del problema. Limpien los datos, argumentando las razones de cada transformación o eliminación de datos.\n",
    " (1.5)</font>"
   ]
  },
  {
   "cell_type": "markdown",
   "metadata": {},
   "source": [
    " Tenga en cuenta lo siguiente: \n",
    " - para modificar ciertos valores de un dataframe, se utiliza \"df.replace('oldvalue', 'newvalue')\", si se trata de un valor NaN, se utiliza *np.nan* (ya sea el oldvalue o el newvalue)\n",
    " - para cambiar un tipo de dato a numérico en una estructura de pandas, se utiliza su método \".astype('float64')\"\n",
    " - para negar una condición en python se utiliza el símbolo \"~\"\n",
    " - para obtener una tabla de frecuencias de los registros (filas) con respecto al valor de una variable categórica se utiliza \"pd.crosstab(index=df['var'], columns=\"conteo\")\n",
    " - para cambiar los valores de una columna en un dataframe con condiciones, utilizar \"df.loc[condicion, 'columna']=newVal\"\n",
    " - cuando haya atributos con demasiados valores faltantes, pueden eliminar la columna correspondiente.\n",
    " - cuando haya atributos con unos pocos valores faltantes, pueden eliminar los registros correspondientes.\n",
    " - cuando el número de valores faltantes de un atributo no sea tan elevado, pero si sea considerable, pueden reemplazar los valores faltantes:\n",
    "   - Si se trata de una variable categórica, pueden crear un nuevo valor, o reemplazar por la categoría más común\n",
    "   - Si se trata de una variable numérica, pueden reemplazar por el promedio de los valores presentes del atributo"
   ]
  },
  {
   "cell_type": "markdown",
   "metadata": {},
   "source": [
    " # 1.1 Carga y baselines pre-limpieza de datos\n"
   ]
  },
  {
   "cell_type": "code",
   "execution_count": 3,
   "metadata": {},
   "outputs": [],
   "source": [
    "import numpy as np #operaciones matriciales y con vectores\n",
    "import pandas as pd #tratamiento de datos\n",
    "import matplotlib.pyplot as plt #gráficos\n",
    "from sklearn.neighbors import KNeighborsClassifier\n",
    "from sklearn.naive_bayes import BernoulliNB, GaussianNB, MultinomialNB\n",
    "from sklearn.model_selection import train_test_split #metodo de particionamiento de datasets para evaluación\n",
    "from sklearn.model_selection import cross_val_score #protocolo de evaluación\n",
    "from sklearn import neighbors, datasets, metrics\n",
    "from sklearn import preprocessing \n",
    "from sklearn.metrics import cohen_kappa_score, make_scorer\n",
    "import seaborn as sns"
   ]
  },
  {
   "cell_type": "markdown",
   "metadata": {},
   "source": [
    "#### Se colocaron los nombres para las columnas en edición desde un archivo de texto.\n"
   ]
  },
  {
   "cell_type": "code",
   "execution_count": 4,
   "metadata": {},
   "outputs": [
    {
     "data": {
      "text/html": [
       "<div>\n",
       "<style scoped>\n",
       "    .dataframe tbody tr th:only-of-type {\n",
       "        vertical-align: middle;\n",
       "    }\n",
       "\n",
       "    .dataframe tbody tr th {\n",
       "        vertical-align: top;\n",
       "    }\n",
       "\n",
       "    .dataframe thead th {\n",
       "        text-align: right;\n",
       "    }\n",
       "</style>\n",
       "<table border=\"1\" class=\"dataframe\">\n",
       "  <thead>\n",
       "    <tr style=\"text-align: right;\">\n",
       "      <th></th>\n",
       "      <th>ciudad</th>\n",
       "      <th>edad</th>\n",
       "      <th>sexo</th>\n",
       "      <th>tipo_dolor</th>\n",
       "      <th>presion</th>\n",
       "      <th>colesterol</th>\n",
       "      <th>azucar</th>\n",
       "      <th>ecg</th>\n",
       "      <th>pulso</th>\n",
       "      <th>angina</th>\n",
       "      <th>st</th>\n",
       "      <th>pendiente</th>\n",
       "      <th>venas</th>\n",
       "      <th>thal</th>\n",
       "      <th>target</th>\n",
       "    </tr>\n",
       "  </thead>\n",
       "  <tbody>\n",
       "    <tr>\n",
       "      <th>0</th>\n",
       "      <td>Cleveland</td>\n",
       "      <td>63.0</td>\n",
       "      <td>1</td>\n",
       "      <td>1</td>\n",
       "      <td>145.0</td>\n",
       "      <td>233.0</td>\n",
       "      <td>1</td>\n",
       "      <td>2</td>\n",
       "      <td>150.0</td>\n",
       "      <td>0</td>\n",
       "      <td>2.3</td>\n",
       "      <td>3</td>\n",
       "      <td>0</td>\n",
       "      <td>6</td>\n",
       "      <td>0</td>\n",
       "    </tr>\n",
       "    <tr>\n",
       "      <th>1</th>\n",
       "      <td>Cleveland</td>\n",
       "      <td>67.0</td>\n",
       "      <td>1</td>\n",
       "      <td>4</td>\n",
       "      <td>160.0</td>\n",
       "      <td>286.0</td>\n",
       "      <td>0</td>\n",
       "      <td>2</td>\n",
       "      <td>108.0</td>\n",
       "      <td>1</td>\n",
       "      <td>1.5</td>\n",
       "      <td>2</td>\n",
       "      <td>3</td>\n",
       "      <td>3</td>\n",
       "      <td>2</td>\n",
       "    </tr>\n",
       "    <tr>\n",
       "      <th>2</th>\n",
       "      <td>Cleveland</td>\n",
       "      <td>67.0</td>\n",
       "      <td>1</td>\n",
       "      <td>4</td>\n",
       "      <td>120.0</td>\n",
       "      <td>229.0</td>\n",
       "      <td>0</td>\n",
       "      <td>2</td>\n",
       "      <td>129.0</td>\n",
       "      <td>1</td>\n",
       "      <td>2.6</td>\n",
       "      <td>2</td>\n",
       "      <td>2</td>\n",
       "      <td>7</td>\n",
       "      <td>1</td>\n",
       "    </tr>\n",
       "    <tr>\n",
       "      <th>3</th>\n",
       "      <td>Cleveland</td>\n",
       "      <td>37.0</td>\n",
       "      <td>1</td>\n",
       "      <td>3</td>\n",
       "      <td>130.0</td>\n",
       "      <td>250.0</td>\n",
       "      <td>0</td>\n",
       "      <td>0</td>\n",
       "      <td>187.0</td>\n",
       "      <td>0</td>\n",
       "      <td>3.5</td>\n",
       "      <td>3</td>\n",
       "      <td>0</td>\n",
       "      <td>3</td>\n",
       "      <td>0</td>\n",
       "    </tr>\n",
       "    <tr>\n",
       "      <th>4</th>\n",
       "      <td>Cleveland</td>\n",
       "      <td>41.0</td>\n",
       "      <td>0</td>\n",
       "      <td>2</td>\n",
       "      <td>130.0</td>\n",
       "      <td>204.0</td>\n",
       "      <td>0</td>\n",
       "      <td>2</td>\n",
       "      <td>172.0</td>\n",
       "      <td>0</td>\n",
       "      <td>1.4</td>\n",
       "      <td>1</td>\n",
       "      <td>0</td>\n",
       "      <td>3</td>\n",
       "      <td>0</td>\n",
       "    </tr>\n",
       "  </tbody>\n",
       "</table>\n",
       "</div>"
      ],
      "text/plain": [
       "      ciudad  edad  sexo  tipo_dolor presion colesterol azucar ecg  pulso  \\\n",
       "0  Cleveland  63.0     1           1   145.0      233.0      1   2  150.0   \n",
       "1  Cleveland  67.0     1           4   160.0      286.0      0   2  108.0   \n",
       "2  Cleveland  67.0     1           4   120.0      229.0      0   2  129.0   \n",
       "3  Cleveland  37.0     1           3   130.0      250.0      0   0  187.0   \n",
       "4  Cleveland  41.0     0           2   130.0      204.0      0   2  172.0   \n",
       "\n",
       "  angina   st pendiente venas thal  target  \n",
       "0      0  2.3         3     0    6       0  \n",
       "1      1  1.5         2     3    3       2  \n",
       "2      1  2.6         2     2    7       1  \n",
       "3      0  3.5         3     0    3       0  \n",
       "4      0  1.4         1     0    3       0  "
      ]
     },
     "execution_count": 4,
     "metadata": {},
     "output_type": "execute_result"
    }
   ],
   "source": [
    "data = pd.read_csv('DatosCorazon.csv', sep=\";\")\n",
    "data.head()"
   ]
  },
  {
   "cell_type": "code",
   "execution_count": 5,
   "metadata": {},
   "outputs": [
    {
     "name": "stdout",
     "output_type": "stream",
     "text": [
      "<class 'pandas.core.frame.DataFrame'>\n",
      "RangeIndex: 720 entries, 0 to 719\n",
      "Data columns (total 15 columns):\n",
      "ciudad        720 non-null object\n",
      "edad          720 non-null float64\n",
      "sexo          720 non-null int64\n",
      "tipo_dolor    720 non-null int64\n",
      "presion       720 non-null object\n",
      "colesterol    720 non-null object\n",
      "azucar        720 non-null object\n",
      "ecg           720 non-null object\n",
      "pulso         720 non-null object\n",
      "angina        720 non-null object\n",
      "st            720 non-null object\n",
      "pendiente     720 non-null object\n",
      "venas         720 non-null object\n",
      "thal          720 non-null object\n",
      "target        720 non-null int64\n",
      "dtypes: float64(1), int64(3), object(11)\n",
      "memory usage: 84.5+ KB\n"
     ]
    }
   ],
   "source": [
    "data.info()"
   ]
  },
  {
   "cell_type": "code",
   "execution_count": 6,
   "metadata": {},
   "outputs": [
    {
     "data": {
      "text/html": [
       "<div>\n",
       "<style scoped>\n",
       "    .dataframe tbody tr th:only-of-type {\n",
       "        vertical-align: middle;\n",
       "    }\n",
       "\n",
       "    .dataframe tbody tr th {\n",
       "        vertical-align: top;\n",
       "    }\n",
       "\n",
       "    .dataframe thead th {\n",
       "        text-align: right;\n",
       "    }\n",
       "</style>\n",
       "<table border=\"1\" class=\"dataframe\">\n",
       "  <thead>\n",
       "    <tr style=\"text-align: right;\">\n",
       "      <th></th>\n",
       "      <th>ciudad</th>\n",
       "      <th>edad</th>\n",
       "      <th>sexo</th>\n",
       "      <th>tipo_dolor</th>\n",
       "      <th>presion</th>\n",
       "      <th>colesterol</th>\n",
       "      <th>azucar</th>\n",
       "      <th>ecg</th>\n",
       "      <th>pulso</th>\n",
       "      <th>angina</th>\n",
       "      <th>st</th>\n",
       "      <th>pendiente</th>\n",
       "      <th>venas</th>\n",
       "      <th>thal</th>\n",
       "      <th>target</th>\n",
       "    </tr>\n",
       "  </thead>\n",
       "  <tbody>\n",
       "    <tr>\n",
       "      <th>count</th>\n",
       "      <td>720</td>\n",
       "      <td>720.000000</td>\n",
       "      <td>720.000000</td>\n",
       "      <td>720.000000</td>\n",
       "      <td>720</td>\n",
       "      <td>720</td>\n",
       "      <td>720</td>\n",
       "      <td>720</td>\n",
       "      <td>720</td>\n",
       "      <td>720</td>\n",
       "      <td>720</td>\n",
       "      <td>720</td>\n",
       "      <td>720</td>\n",
       "      <td>720</td>\n",
       "      <td>720.000000</td>\n",
       "    </tr>\n",
       "    <tr>\n",
       "      <th>unique</th>\n",
       "      <td>3</td>\n",
       "      <td>NaN</td>\n",
       "      <td>NaN</td>\n",
       "      <td>NaN</td>\n",
       "      <td>86</td>\n",
       "      <td>307</td>\n",
       "      <td>3</td>\n",
       "      <td>4</td>\n",
       "      <td>188</td>\n",
       "      <td>3</td>\n",
       "      <td>61</td>\n",
       "      <td>6</td>\n",
       "      <td>6</td>\n",
       "      <td>6</td>\n",
       "      <td>NaN</td>\n",
       "    </tr>\n",
       "    <tr>\n",
       "      <th>top</th>\n",
       "      <td>Cleveland</td>\n",
       "      <td>NaN</td>\n",
       "      <td>NaN</td>\n",
       "      <td>NaN</td>\n",
       "      <td>120</td>\n",
       "      <td>0</td>\n",
       "      <td>0</td>\n",
       "      <td>0</td>\n",
       "      <td>150</td>\n",
       "      <td>0</td>\n",
       "      <td>0</td>\n",
       "      <td>2</td>\n",
       "      <td>?</td>\n",
       "      <td>?</td>\n",
       "      <td>NaN</td>\n",
       "    </tr>\n",
       "    <tr>\n",
       "      <th>freq</th>\n",
       "      <td>303</td>\n",
       "      <td>NaN</td>\n",
       "      <td>NaN</td>\n",
       "      <td>NaN</td>\n",
       "      <td>78</td>\n",
       "      <td>123</td>\n",
       "      <td>567</td>\n",
       "      <td>471</td>\n",
       "      <td>32</td>\n",
       "      <td>476</td>\n",
       "      <td>330</td>\n",
       "      <td>290</td>\n",
       "      <td>413</td>\n",
       "      <td>320</td>\n",
       "      <td>NaN</td>\n",
       "    </tr>\n",
       "    <tr>\n",
       "      <th>mean</th>\n",
       "      <td>NaN</td>\n",
       "      <td>51.888889</td>\n",
       "      <td>0.738889</td>\n",
       "      <td>3.179167</td>\n",
       "      <td>NaN</td>\n",
       "      <td>NaN</td>\n",
       "      <td>NaN</td>\n",
       "      <td>NaN</td>\n",
       "      <td>NaN</td>\n",
       "      <td>NaN</td>\n",
       "      <td>NaN</td>\n",
       "      <td>NaN</td>\n",
       "      <td>NaN</td>\n",
       "      <td>NaN</td>\n",
       "      <td>0.850000</td>\n",
       "    </tr>\n",
       "    <tr>\n",
       "      <th>std</th>\n",
       "      <td>NaN</td>\n",
       "      <td>9.193720</td>\n",
       "      <td>0.439546</td>\n",
       "      <td>0.953646</td>\n",
       "      <td>NaN</td>\n",
       "      <td>NaN</td>\n",
       "      <td>NaN</td>\n",
       "      <td>NaN</td>\n",
       "      <td>NaN</td>\n",
       "      <td>NaN</td>\n",
       "      <td>NaN</td>\n",
       "      <td>NaN</td>\n",
       "      <td>NaN</td>\n",
       "      <td>NaN</td>\n",
       "      <td>1.076878</td>\n",
       "    </tr>\n",
       "    <tr>\n",
       "      <th>min</th>\n",
       "      <td>NaN</td>\n",
       "      <td>28.000000</td>\n",
       "      <td>0.000000</td>\n",
       "      <td>1.000000</td>\n",
       "      <td>NaN</td>\n",
       "      <td>NaN</td>\n",
       "      <td>NaN</td>\n",
       "      <td>NaN</td>\n",
       "      <td>NaN</td>\n",
       "      <td>NaN</td>\n",
       "      <td>NaN</td>\n",
       "      <td>NaN</td>\n",
       "      <td>NaN</td>\n",
       "      <td>NaN</td>\n",
       "      <td>0.000000</td>\n",
       "    </tr>\n",
       "    <tr>\n",
       "      <th>25%</th>\n",
       "      <td>NaN</td>\n",
       "      <td>45.000000</td>\n",
       "      <td>0.000000</td>\n",
       "      <td>2.000000</td>\n",
       "      <td>NaN</td>\n",
       "      <td>NaN</td>\n",
       "      <td>NaN</td>\n",
       "      <td>NaN</td>\n",
       "      <td>NaN</td>\n",
       "      <td>NaN</td>\n",
       "      <td>NaN</td>\n",
       "      <td>NaN</td>\n",
       "      <td>NaN</td>\n",
       "      <td>NaN</td>\n",
       "      <td>0.000000</td>\n",
       "    </tr>\n",
       "    <tr>\n",
       "      <th>50%</th>\n",
       "      <td>NaN</td>\n",
       "      <td>53.000000</td>\n",
       "      <td>1.000000</td>\n",
       "      <td>4.000000</td>\n",
       "      <td>NaN</td>\n",
       "      <td>NaN</td>\n",
       "      <td>NaN</td>\n",
       "      <td>NaN</td>\n",
       "      <td>NaN</td>\n",
       "      <td>NaN</td>\n",
       "      <td>NaN</td>\n",
       "      <td>NaN</td>\n",
       "      <td>NaN</td>\n",
       "      <td>NaN</td>\n",
       "      <td>0.500000</td>\n",
       "    </tr>\n",
       "    <tr>\n",
       "      <th>75%</th>\n",
       "      <td>NaN</td>\n",
       "      <td>58.000000</td>\n",
       "      <td>1.000000</td>\n",
       "      <td>4.000000</td>\n",
       "      <td>NaN</td>\n",
       "      <td>NaN</td>\n",
       "      <td>NaN</td>\n",
       "      <td>NaN</td>\n",
       "      <td>NaN</td>\n",
       "      <td>NaN</td>\n",
       "      <td>NaN</td>\n",
       "      <td>NaN</td>\n",
       "      <td>NaN</td>\n",
       "      <td>NaN</td>\n",
       "      <td>1.000000</td>\n",
       "    </tr>\n",
       "    <tr>\n",
       "      <th>max</th>\n",
       "      <td>NaN</td>\n",
       "      <td>77.000000</td>\n",
       "      <td>1.000000</td>\n",
       "      <td>4.000000</td>\n",
       "      <td>NaN</td>\n",
       "      <td>NaN</td>\n",
       "      <td>NaN</td>\n",
       "      <td>NaN</td>\n",
       "      <td>NaN</td>\n",
       "      <td>NaN</td>\n",
       "      <td>NaN</td>\n",
       "      <td>NaN</td>\n",
       "      <td>NaN</td>\n",
       "      <td>NaN</td>\n",
       "      <td>4.000000</td>\n",
       "    </tr>\n",
       "  </tbody>\n",
       "</table>\n",
       "</div>"
      ],
      "text/plain": [
       "           ciudad        edad        sexo  tipo_dolor presion colesterol  \\\n",
       "count         720  720.000000  720.000000  720.000000     720        720   \n",
       "unique          3         NaN         NaN         NaN      86        307   \n",
       "top     Cleveland         NaN         NaN         NaN     120          0   \n",
       "freq          303         NaN         NaN         NaN      78        123   \n",
       "mean          NaN   51.888889    0.738889    3.179167     NaN        NaN   \n",
       "std           NaN    9.193720    0.439546    0.953646     NaN        NaN   \n",
       "min           NaN   28.000000    0.000000    1.000000     NaN        NaN   \n",
       "25%           NaN   45.000000    0.000000    2.000000     NaN        NaN   \n",
       "50%           NaN   53.000000    1.000000    4.000000     NaN        NaN   \n",
       "75%           NaN   58.000000    1.000000    4.000000     NaN        NaN   \n",
       "max           NaN   77.000000    1.000000    4.000000     NaN        NaN   \n",
       "\n",
       "       azucar  ecg pulso angina   st pendiente venas thal      target  \n",
       "count     720  720   720    720  720       720   720  720  720.000000  \n",
       "unique      3    4   188      3   61         6     6    6         NaN  \n",
       "top         0    0   150      0    0         2     ?    ?         NaN  \n",
       "freq      567  471    32    476  330       290   413  320         NaN  \n",
       "mean      NaN  NaN   NaN    NaN  NaN       NaN   NaN  NaN    0.850000  \n",
       "std       NaN  NaN   NaN    NaN  NaN       NaN   NaN  NaN    1.076878  \n",
       "min       NaN  NaN   NaN    NaN  NaN       NaN   NaN  NaN    0.000000  \n",
       "25%       NaN  NaN   NaN    NaN  NaN       NaN   NaN  NaN    0.000000  \n",
       "50%       NaN  NaN   NaN    NaN  NaN       NaN   NaN  NaN    0.500000  \n",
       "75%       NaN  NaN   NaN    NaN  NaN       NaN   NaN  NaN    1.000000  \n",
       "max       NaN  NaN   NaN    NaN  NaN       NaN   NaN  NaN    4.000000  "
      ]
     },
     "execution_count": 6,
     "metadata": {},
     "output_type": "execute_result"
    }
   ],
   "source": [
    "data.describe(include='all')\n"
   ]
  },
  {
   "cell_type": "markdown",
   "metadata": {},
   "source": [
    "#### Convierto a string las variables categoricas para poder hacer un conteo en los baselines"
   ]
  },
  {
   "cell_type": "code",
   "execution_count": 7,
   "metadata": {
    "scrolled": true
   },
   "outputs": [
    {
     "data": {
      "text/plain": [
       "ciudad         object\n",
       "edad          float64\n",
       "sexo           object\n",
       "tipo_dolor     object\n",
       "presion        object\n",
       "colesterol     object\n",
       "azucar         object\n",
       "ecg            object\n",
       "pulso          object\n",
       "angina         object\n",
       "st             object\n",
       "pendiente      object\n",
       "venas          object\n",
       "thal           object\n",
       "target         object\n",
       "dtype: object"
      ]
     },
     "execution_count": 7,
     "metadata": {},
     "output_type": "execute_result"
    }
   ],
   "source": [
    "data.sexo = data.sexo.astype(str)\n",
    "data.tipo_dolor = data.tipo_dolor.astype(str)\n",
    "data.target = data.target.astype(str)\n",
    "\n",
    "data.dtypes"
   ]
  },
  {
   "cell_type": "markdown",
   "metadata": {},
   "source": [
    " ## Baseline\n",
    " ### Baseline global\n"
   ]
  },
  {
   "cell_type": "markdown",
   "metadata": {},
   "source": [
    " Aqui realizaremos una visualizacion de datos para observar cuales son las proporciones para el baseline global. Enocntraremos el count de todos los valores mayores a cero y luego lo dividiremos entre el total de los datos. Esto nos dara una probabilidad general y primitiva de que probabilidad existe de que tenga una enfermedad al corazón."
   ]
  },
  {
   "cell_type": "code",
   "execution_count": 8,
   "metadata": {
    "scrolled": true
   },
   "outputs": [
    {
     "data": {
      "image/png": "[encoded data removed]",
      "text/plain": [
       "<Figure size 432x288 with 1 Axes>"
      ]
     },
     "metadata": {
      "needs_background": "light"
     },
     "output_type": "display_data"
    }
   ],
   "source": [
    "ax = sns.countplot(x=\"target\", data=data)"
   ]
  },
  {
   "cell_type": "code",
   "execution_count": 9,
   "metadata": {
    "scrolled": true
   },
   "outputs": [
    {
     "data": {
      "text/plain": [
       "360"
      ]
     },
     "execution_count": 9,
     "metadata": {},
     "output_type": "execute_result"
    }
   ],
   "source": [
    "data.target[data.target>\"0\"].aggregate('count')"
   ]
  },
  {
   "cell_type": "code",
   "execution_count": 10,
   "metadata": {},
   "outputs": [
    {
     "data": {
      "text/plain": [
       "720"
      ]
     },
     "execution_count": 10,
     "metadata": {},
     "output_type": "execute_result"
    }
   ],
   "source": [
    "data.shape[0]"
   ]
  },
  {
   "cell_type": "code",
   "execution_count": 11,
   "metadata": {},
   "outputs": [
    {
     "name": "stdout",
     "output_type": "stream",
     "text": [
      "La probabilidad de que el paciente tenga una enfermedad cardiaca es de:\n",
      "50.0\n"
     ]
    }
   ],
   "source": [
    "baseline_global = data.target[data.target>\"0\"].aggregate('count') / data.shape[0] *100\n",
    "print ('La probabilidad de que el paciente tenga una enfermedad cardiaca es de:' )\n",
    "print (baseline_global)"
   ]
  },
  {
   "cell_type": "markdown",
   "metadata": {},
   "source": [
    " ### Baseline por ciudad"
   ]
  },
  {
   "cell_type": "markdown",
   "metadata": {},
   "source": [
    "Aqui realizaremos una visualizacion de datos para observar cuales son las proporciones para cada uno de los baselines por ciudad. Enocntraremos el count de todos los valores mayores a cero por ciudad y luego lo dividiremos entre el total de los datos por ciudad. Esto nos dara una probabilidad general y primitiva de que probabilidad existe de que tenga una enfermedad al corazón."
   ]
  },
  {
   "cell_type": "code",
   "execution_count": 12,
   "metadata": {
    "scrolled": true
   },
   "outputs": [
    {
     "data": {
      "text/plain": [
       "303"
      ]
     },
     "execution_count": 12,
     "metadata": {},
     "output_type": "execute_result"
    }
   ],
   "source": [
    "len (data[data.ciudad == 'Cleveland'])"
   ]
  },
  {
   "cell_type": "code",
   "execution_count": 13,
   "metadata": {},
   "outputs": [
    {
     "data": {
      "text/plain": [
       "294"
      ]
     },
     "execution_count": 13,
     "metadata": {},
     "output_type": "execute_result"
    }
   ],
   "source": [
    "len (data[data.ciudad == 'Hungria'])"
   ]
  },
  {
   "cell_type": "code",
   "execution_count": 14,
   "metadata": {},
   "outputs": [
    {
     "data": {
      "text/plain": [
       "123"
      ]
     },
     "execution_count": 14,
     "metadata": {},
     "output_type": "execute_result"
    }
   ],
   "source": [
    "len (data[data.ciudad == 'Suiza'])"
   ]
  },
  {
   "cell_type": "code",
   "execution_count": 15,
   "metadata": {},
   "outputs": [
    {
     "data": {
      "image/png": "[encoded data removed]",
      "text/plain": [
       "<Figure size 432x288 with 1 Axes>"
      ]
     },
     "metadata": {
      "needs_background": "light"
     },
     "output_type": "display_data"
    }
   ],
   "source": [
    "# Cleveland\n",
    "axC = sns.countplot(x=\"target\", data=data[data.ciudad == 'Cleveland'])\n",
    "\n",
    "# esta variable nos dice la cantidad de personas que tienen problemas del corazon en Cleveland\n",
    "data[data.ciudad == 'Cleveland'].target[data.target>\"0\"].aggregate('count')\n",
    "\n",
    "baseline_Cleveland = data[data.ciudad == 'Cleveland'].target[data.target>\"0\"].aggregate('count') / 303 *100"
   ]
  },
  {
   "cell_type": "code",
   "execution_count": 16,
   "metadata": {},
   "outputs": [
    {
     "data": {
      "image/png": "[encoded data removed]",
      "text/plain": [
       "<Figure size 432x288 with 1 Axes>"
      ]
     },
     "metadata": {
      "needs_background": "light"
     },
     "output_type": "display_data"
    }
   ],
   "source": [
    "# Hungria\n",
    "axH = sns.countplot(x=\"target\", data=data[data.ciudad == 'Hungria'])\n",
    "\n",
    "# esta variable nos dice la cantidad de personas que tienen problemas del corazon en Cleveland\n",
    "data[data.ciudad == 'Hungria'].target[data.target>\"0\"].aggregate('count')\n",
    "\n",
    "baseline_Hungria = data[data.ciudad == 'Hungria'].target[data.target>\"0\"].aggregate('count') / 292 *100"
   ]
  },
  {
   "cell_type": "code",
   "execution_count": 17,
   "metadata": {},
   "outputs": [
    {
     "data": {
      "image/png": "[encoded data removed]",
      "text/plain": [
       "<Figure size 432x288 with 1 Axes>"
      ]
     },
     "metadata": {
      "needs_background": "light"
     },
     "output_type": "display_data"
    }
   ],
   "source": [
    "# Suiza\n",
    "axS = sns.countplot(x=\"target\", data=data[data.ciudad == 'Suiza'])\n",
    "\n",
    "# esta variable nos dice la cantidad de personas que tienen problemas del corazon en Cleveland\n",
    "data[data.ciudad == 'Suiza'].target[data.target>\"0\"].aggregate('count')\n",
    "\n",
    "baseline_Suiza = data[data.ciudad == 'Suiza'].target[data.target>\"0\"].aggregate('count') / 116 *100"
   ]
  },
  {
   "cell_type": "code",
   "execution_count": 18,
   "metadata": {},
   "outputs": [
    {
     "name": "stdout",
     "output_type": "stream",
     "text": [
      "los baselines por ciudad son:\n",
      "Cleveland\n",
      "45.87458745874587\n",
      "Hungria\n",
      "36.3013698630137\n",
      "Suiza\n",
      "99.13793103448276\n"
     ]
    }
   ],
   "source": [
    "print ('los baselines por ciudad son:')\n",
    "\n",
    "print ('Cleveland') \n",
    "print(baseline_Cleveland)\n",
    "\n",
    "print ('Hungria') \n",
    "print(baseline_Hungria)\n",
    "\n",
    "print ('Suiza') \n",
    "print(baseline_Suiza)\n"
   ]
  },
  {
   "cell_type": "markdown",
   "metadata": {},
   "source": [
    " #### ¿Cree que es una buena idea diagnosticar a un paciente de Cleveland utilizando un modelo entrenado con todos los datos disponibles de las 3 ciudades?\n",
    "\n",
    " No, tanto como se puede ver en los baselines como se puede ver en las visualizaciones, las probabilidades de que una persona esté enferma de una enfermedad al corazon varían mucho dependiendo del lugar donde se haga el estudio. Si se hiciera un análisis de datos, sería necesario hacer uno por cada una de las ciudades"
   ]
  },
  {
   "cell_type": "markdown",
   "metadata": {},
   "source": [
    "## 1.2 Análisis y solución de los problemas de calidad de datos"
   ]
  },
  {
   "cell_type": "code",
   "execution_count": 19,
   "metadata": {},
   "outputs": [
    {
     "data": {
      "text/plain": [
       "ciudad         object\n",
       "edad          float64\n",
       "sexo           object\n",
       "tipo_dolor     object\n",
       "presion        object\n",
       "colesterol     object\n",
       "azucar         object\n",
       "ecg            object\n",
       "pulso          object\n",
       "angina         object\n",
       "st             object\n",
       "pendiente      object\n",
       "venas          object\n",
       "thal           object\n",
       "target         object\n",
       "dtype: object"
      ]
     },
     "execution_count": 19,
     "metadata": {},
     "output_type": "execute_result"
    }
   ],
   "source": [
    "data.dtypes\n",
    "# necesitamos transformar los datos"
   ]
  },
  {
   "cell_type": "markdown",
   "metadata": {},
   "source": [
    "#### Se nota la existencia de un '?' cuando un dato es faltante, lo que presenta inconformidades al momento de intentar transformarlo. Por esto se comenzara a buscar los elementos que tengan este '?' en sus filas y se verá que se hace dependiendo de su representatividad"
   ]
  },
  {
   "cell_type": "code",
   "execution_count": 20,
   "metadata": {
    "scrolled": true
   },
   "outputs": [
    {
     "data": {
      "text/plain": [
       "ciudad          0\n",
       "edad            0\n",
       "sexo            0\n",
       "tipo_dolor      0\n",
       "presion         3\n",
       "colesterol     23\n",
       "azucar         83\n",
       "ecg             2\n",
       "pulso           2\n",
       "angina          2\n",
       "st              6\n",
       "pendiente     207\n",
       "venas         413\n",
       "thal          320\n",
       "target          0\n",
       "dtype: int64"
      ]
     },
     "execution_count": 20,
     "metadata": {},
     "output_type": "execute_result"
    }
   ],
   "source": [
    "data[data == '?'].aggregate('count')"
   ]
  },
  {
   "cell_type": "code",
   "execution_count": 21,
   "metadata": {},
   "outputs": [
    {
     "data": {
      "text/plain": [
       "720"
      ]
     },
     "execution_count": 21,
     "metadata": {},
     "output_type": "execute_result"
    }
   ],
   "source": [
    "data.shape[0]"
   ]
  },
  {
   "cell_type": "markdown",
   "metadata": {},
   "source": [
    "#### Columnas como presion, ecg, pulso, angina y st, tienen numeros pequeños, razón que causa que se eliminen esas filas por su poca representación.\n",
    "\n",
    "#### Por otro lado existen columnas como colesterol y azucar, que pueden ser recuperadas. Para el colesterol, se colocará  un promedio de todos los datos que existen, para esto se van a eliminar los datos con '?', se transformará a una variable numérica, se buscara el 'mean', y se anotará, luego se volvera a correr el código, con esa parte comentada. Para el azucar se buscará el valor más frecuente"
   ]
  },
  {
   "cell_type": "code",
   "execution_count": 22,
   "metadata": {},
   "outputs": [],
   "source": [
    "data = data [data.presion != '?']\n",
    "data = data [data.ecg != '?']\n",
    "data = data [data.pulso != '?']\n",
    "data = data [data.angina != '?']\n",
    "data = data [data.st != '?']"
   ]
  },
  {
   "cell_type": "code",
   "execution_count": 23,
   "metadata": {
    "scrolled": true
   },
   "outputs": [
    {
     "data": {
      "text/plain": [
       "ciudad          0\n",
       "edad            0\n",
       "sexo            0\n",
       "tipo_dolor      0\n",
       "presion         0\n",
       "colesterol     23\n",
       "azucar         78\n",
       "ecg             0\n",
       "pulso           0\n",
       "angina          0\n",
       "st              0\n",
       "pendiente     200\n",
       "venas         404\n",
       "thal          316\n",
       "target          0\n",
       "dtype: int64"
      ]
     },
     "execution_count": 23,
     "metadata": {},
     "output_type": "execute_result"
    }
   ],
   "source": [
    "data[data == '?'].aggregate('count')"
   ]
  },
  {
   "cell_type": "code",
   "execution_count": 24,
   "metadata": {},
   "outputs": [],
   "source": [
    "# data = data [data.colesterol != '?']\n",
    "# data.colesterol = data.colesterol.astype('float64')"
   ]
  },
  {
   "cell_type": "markdown",
   "metadata": {},
   "source": [
    "### El mean de colesterol es : 206.5. Se volverá a correr el código y se comentará esa línea de código."
   ]
  },
  {
   "cell_type": "code",
   "execution_count": 25,
   "metadata": {},
   "outputs": [],
   "source": [
    "data.colesterol[data.colesterol == '?'] = '206.5'"
   ]
  },
  {
   "cell_type": "code",
   "execution_count": 26,
   "metadata": {},
   "outputs": [
    {
     "name": "stdout",
     "output_type": "stream",
     "text": [
      "<class 'pandas.core.frame.DataFrame'>\n",
      "Int64Index: 711 entries, 0 to 719\n",
      "Data columns (total 15 columns):\n",
      "ciudad        711 non-null object\n",
      "edad          711 non-null float64\n",
      "sexo          711 non-null object\n",
      "tipo_dolor    711 non-null object\n",
      "presion       711 non-null object\n",
      "colesterol    711 non-null object\n",
      "azucar        711 non-null object\n",
      "ecg           711 non-null object\n",
      "pulso         711 non-null object\n",
      "angina        711 non-null object\n",
      "st            711 non-null object\n",
      "pendiente     711 non-null object\n",
      "venas         711 non-null object\n",
      "thal          711 non-null object\n",
      "target        711 non-null object\n",
      "dtypes: float64(1), object(14)\n",
      "memory usage: 88.9+ KB\n"
     ]
    }
   ],
   "source": [
    "data.info()"
   ]
  },
  {
   "cell_type": "code",
   "execution_count": 27,
   "metadata": {
    "scrolled": true
   },
   "outputs": [
    {
     "data": {
      "text/html": [
       "<div>\n",
       "<style scoped>\n",
       "    .dataframe tbody tr th:only-of-type {\n",
       "        vertical-align: middle;\n",
       "    }\n",
       "\n",
       "    .dataframe tbody tr th {\n",
       "        vertical-align: top;\n",
       "    }\n",
       "\n",
       "    .dataframe thead th {\n",
       "        text-align: right;\n",
       "    }\n",
       "</style>\n",
       "<table border=\"1\" class=\"dataframe\">\n",
       "  <thead>\n",
       "    <tr style=\"text-align: right;\">\n",
       "      <th></th>\n",
       "      <th>ciudad</th>\n",
       "      <th>edad</th>\n",
       "      <th>sexo</th>\n",
       "      <th>tipo_dolor</th>\n",
       "      <th>presion</th>\n",
       "      <th>colesterol</th>\n",
       "      <th>azucar</th>\n",
       "      <th>ecg</th>\n",
       "      <th>pulso</th>\n",
       "      <th>angina</th>\n",
       "      <th>st</th>\n",
       "      <th>pendiente</th>\n",
       "      <th>venas</th>\n",
       "      <th>thal</th>\n",
       "      <th>target</th>\n",
       "    </tr>\n",
       "  </thead>\n",
       "  <tbody>\n",
       "    <tr>\n",
       "      <th>0</th>\n",
       "      <td>Cleveland</td>\n",
       "      <td>63.0</td>\n",
       "      <td>1</td>\n",
       "      <td>1</td>\n",
       "      <td>145.0</td>\n",
       "      <td>233.0</td>\n",
       "      <td>1</td>\n",
       "      <td>2</td>\n",
       "      <td>150.0</td>\n",
       "      <td>0</td>\n",
       "      <td>2.3</td>\n",
       "      <td>3</td>\n",
       "      <td>0</td>\n",
       "      <td>6</td>\n",
       "      <td>0</td>\n",
       "    </tr>\n",
       "    <tr>\n",
       "      <th>1</th>\n",
       "      <td>Cleveland</td>\n",
       "      <td>67.0</td>\n",
       "      <td>1</td>\n",
       "      <td>4</td>\n",
       "      <td>160.0</td>\n",
       "      <td>286.0</td>\n",
       "      <td>0</td>\n",
       "      <td>2</td>\n",
       "      <td>108.0</td>\n",
       "      <td>1</td>\n",
       "      <td>1.5</td>\n",
       "      <td>2</td>\n",
       "      <td>3</td>\n",
       "      <td>3</td>\n",
       "      <td>2</td>\n",
       "    </tr>\n",
       "    <tr>\n",
       "      <th>2</th>\n",
       "      <td>Cleveland</td>\n",
       "      <td>67.0</td>\n",
       "      <td>1</td>\n",
       "      <td>4</td>\n",
       "      <td>120.0</td>\n",
       "      <td>229.0</td>\n",
       "      <td>0</td>\n",
       "      <td>2</td>\n",
       "      <td>129.0</td>\n",
       "      <td>1</td>\n",
       "      <td>2.6</td>\n",
       "      <td>2</td>\n",
       "      <td>2</td>\n",
       "      <td>7</td>\n",
       "      <td>1</td>\n",
       "    </tr>\n",
       "    <tr>\n",
       "      <th>3</th>\n",
       "      <td>Cleveland</td>\n",
       "      <td>37.0</td>\n",
       "      <td>1</td>\n",
       "      <td>3</td>\n",
       "      <td>130.0</td>\n",
       "      <td>250.0</td>\n",
       "      <td>0</td>\n",
       "      <td>0</td>\n",
       "      <td>187.0</td>\n",
       "      <td>0</td>\n",
       "      <td>3.5</td>\n",
       "      <td>3</td>\n",
       "      <td>0</td>\n",
       "      <td>3</td>\n",
       "      <td>0</td>\n",
       "    </tr>\n",
       "    <tr>\n",
       "      <th>4</th>\n",
       "      <td>Cleveland</td>\n",
       "      <td>41.0</td>\n",
       "      <td>0</td>\n",
       "      <td>2</td>\n",
       "      <td>130.0</td>\n",
       "      <td>204.0</td>\n",
       "      <td>0</td>\n",
       "      <td>2</td>\n",
       "      <td>172.0</td>\n",
       "      <td>0</td>\n",
       "      <td>1.4</td>\n",
       "      <td>1</td>\n",
       "      <td>0</td>\n",
       "      <td>3</td>\n",
       "      <td>0</td>\n",
       "    </tr>\n",
       "  </tbody>\n",
       "</table>\n",
       "</div>"
      ],
      "text/plain": [
       "      ciudad  edad sexo tipo_dolor presion colesterol azucar ecg  pulso  \\\n",
       "0  Cleveland  63.0    1          1   145.0      233.0      1   2  150.0   \n",
       "1  Cleveland  67.0    1          4   160.0      286.0      0   2  108.0   \n",
       "2  Cleveland  67.0    1          4   120.0      229.0      0   2  129.0   \n",
       "3  Cleveland  37.0    1          3   130.0      250.0      0   0  187.0   \n",
       "4  Cleveland  41.0    0          2   130.0      204.0      0   2  172.0   \n",
       "\n",
       "  angina   st pendiente venas thal target  \n",
       "0      0  2.3         3     0    6      0  \n",
       "1      1  1.5         2     3    3      2  \n",
       "2      1  2.6         2     2    7      1  \n",
       "3      0  3.5         3     0    3      0  \n",
       "4      0  1.4         1     0    3      0  "
      ]
     },
     "execution_count": 27,
     "metadata": {},
     "output_type": "execute_result"
    }
   ],
   "source": [
    "data.head()"
   ]
  },
  {
   "cell_type": "markdown",
   "metadata": {},
   "source": [
    "## Se va a comenzar a buscar el valor más frecuente de head"
   ]
  },
  {
   "cell_type": "code",
   "execution_count": 28,
   "metadata": {},
   "outputs": [
    {
     "data": {
      "text/html": [
       "<div>\n",
       "<style scoped>\n",
       "    .dataframe tbody tr th:only-of-type {\n",
       "        vertical-align: middle;\n",
       "    }\n",
       "\n",
       "    .dataframe tbody tr th {\n",
       "        vertical-align: top;\n",
       "    }\n",
       "\n",
       "    .dataframe thead th {\n",
       "        text-align: right;\n",
       "    }\n",
       "</style>\n",
       "<table border=\"1\" class=\"dataframe\">\n",
       "  <thead>\n",
       "    <tr style=\"text-align: right;\">\n",
       "      <th></th>\n",
       "      <th>edad</th>\n",
       "    </tr>\n",
       "  </thead>\n",
       "  <tbody>\n",
       "    <tr>\n",
       "      <th>count</th>\n",
       "      <td>711.000000</td>\n",
       "    </tr>\n",
       "    <tr>\n",
       "      <th>mean</th>\n",
       "      <td>51.897328</td>\n",
       "    </tr>\n",
       "    <tr>\n",
       "      <th>std</th>\n",
       "      <td>9.140030</td>\n",
       "    </tr>\n",
       "    <tr>\n",
       "      <th>min</th>\n",
       "      <td>28.000000</td>\n",
       "    </tr>\n",
       "    <tr>\n",
       "      <th>25%</th>\n",
       "      <td>45.000000</td>\n",
       "    </tr>\n",
       "    <tr>\n",
       "      <th>50%</th>\n",
       "      <td>53.000000</td>\n",
       "    </tr>\n",
       "    <tr>\n",
       "      <th>75%</th>\n",
       "      <td>58.000000</td>\n",
       "    </tr>\n",
       "    <tr>\n",
       "      <th>max</th>\n",
       "      <td>77.000000</td>\n",
       "    </tr>\n",
       "  </tbody>\n",
       "</table>\n",
       "</div>"
      ],
      "text/plain": [
       "             edad\n",
       "count  711.000000\n",
       "mean    51.897328\n",
       "std      9.140030\n",
       "min     28.000000\n",
       "25%     45.000000\n",
       "50%     53.000000\n",
       "75%     58.000000\n",
       "max     77.000000"
      ]
     },
     "execution_count": 28,
     "metadata": {},
     "output_type": "execute_result"
    }
   ],
   "source": [
    "data.describe()"
   ]
  },
  {
   "cell_type": "code",
   "execution_count": 29,
   "metadata": {
    "scrolled": true
   },
   "outputs": [
    {
     "data": {
      "text/plain": [
       "0    0\n",
       "dtype: object"
      ]
     },
     "execution_count": 29,
     "metadata": {},
     "output_type": "execute_result"
    }
   ],
   "source": [
    "# Esto nos da el dato más repetido, lo corroboraremos mediante un countplot\n",
    "data.azucar.mode() "
   ]
  },
  {
   "cell_type": "code",
   "execution_count": 30,
   "metadata": {
    "scrolled": true
   },
   "outputs": [
    {
     "data": {
      "image/png": "[encoded data removed]",
      "text/plain": [
       "<Figure size 432x288 with 1 Axes>"
      ]
     },
     "metadata": {
      "needs_background": "light"
     },
     "output_type": "display_data"
    }
   ],
   "source": [
    "axA = sns.countplot(x=\"azucar\", data=data)"
   ]
  },
  {
   "cell_type": "markdown",
   "metadata": {},
   "source": [
    "## Se confirma que 0 es el más repetido, entonces se sutituirán los '?' por 0."
   ]
  },
  {
   "cell_type": "code",
   "execution_count": 31,
   "metadata": {},
   "outputs": [],
   "source": [
    "data.azucar[data.azucar == '?'] = '0'"
   ]
  },
  {
   "cell_type": "code",
   "execution_count": 32,
   "metadata": {
    "scrolled": true
   },
   "outputs": [
    {
     "data": {
      "image/png": "[encoded data removed]",
      "text/plain": [
       "<Figure size 432x288 with 1 Axes>"
      ]
     },
     "metadata": {
      "needs_background": "light"
     },
     "output_type": "display_data"
    }
   ],
   "source": [
    "# confirmamos con un countplot\n",
    "axA = sns.countplot(x=\"azucar\", data=data)"
   ]
  },
  {
   "cell_type": "code",
   "execution_count": 33,
   "metadata": {
    "scrolled": false
   },
   "outputs": [
    {
     "data": {
      "text/plain": [
       "ciudad          0\n",
       "edad            0\n",
       "sexo            0\n",
       "tipo_dolor      0\n",
       "presion         0\n",
       "colesterol      0\n",
       "azucar          0\n",
       "ecg             0\n",
       "pulso           0\n",
       "angina          0\n",
       "st              0\n",
       "pendiente     200\n",
       "venas         404\n",
       "thal          316\n",
       "target          0\n",
       "dtype: int64"
      ]
     },
     "execution_count": 33,
     "metadata": {},
     "output_type": "execute_result"
    }
   ],
   "source": [
    "data[data == '?'].aggregate('count')"
   ]
  },
  {
   "cell_type": "markdown",
   "metadata": {},
   "source": [
    "#### Quedan pendiente, venas y thal. Se considera que la representatividad de '?' es muy alta, debido a esto, se van a eliminar las columnas. Se eliminan porque a pesar de que su representatividad en Cleveland es más bien baja, en Suiza y Hungría es muy alta, y dejarlo haría la aplicabilidad de los datos para otros modelos casi nula, y habría que hacer otra preparación de los datos."
   ]
  },
  {
   "cell_type": "code",
   "execution_count": 34,
   "metadata": {},
   "outputs": [],
   "source": [
    "data = data.drop([\"pendiente\"], axis=1)\n",
    "data = data.drop([\"venas\"], axis=1)\n",
    "data = data.drop([\"thal\"], axis=1)"
   ]
  },
  {
   "cell_type": "code",
   "execution_count": 35,
   "metadata": {
    "scrolled": false
   },
   "outputs": [
    {
     "name": "stdout",
     "output_type": "stream",
     "text": [
      "<class 'pandas.core.frame.DataFrame'>\n",
      "Int64Index: 711 entries, 0 to 719\n",
      "Data columns (total 12 columns):\n",
      "ciudad        711 non-null object\n",
      "edad          711 non-null float64\n",
      "sexo          711 non-null object\n",
      "tipo_dolor    711 non-null object\n",
      "presion       711 non-null object\n",
      "colesterol    711 non-null object\n",
      "azucar        711 non-null object\n",
      "ecg           711 non-null object\n",
      "pulso         711 non-null object\n",
      "angina        711 non-null object\n",
      "st            711 non-null object\n",
      "target        711 non-null object\n",
      "dtypes: float64(1), object(11)\n",
      "memory usage: 92.2+ KB\n"
     ]
    }
   ],
   "source": [
    "data.info()"
   ]
  },
  {
   "cell_type": "code",
   "execution_count": 36,
   "metadata": {
    "scrolled": true
   },
   "outputs": [
    {
     "name": "stdout",
     "output_type": "stream",
     "text": [
      "<class 'pandas.core.frame.DataFrame'>\n",
      "Int64Index: 711 entries, 0 to 719\n",
      "Data columns (total 12 columns):\n",
      "ciudad        711 non-null object\n",
      "edad          711 non-null float64\n",
      "sexo          711 non-null object\n",
      "tipo_dolor    711 non-null object\n",
      "presion       711 non-null object\n",
      "colesterol    711 non-null object\n",
      "azucar        711 non-null object\n",
      "ecg           711 non-null object\n",
      "pulso         711 non-null object\n",
      "angina        711 non-null object\n",
      "st            711 non-null object\n",
      "target        711 non-null object\n",
      "dtypes: float64(1), object(11)\n",
      "memory usage: 92.2+ KB\n"
     ]
    }
   ],
   "source": [
    "# Se verá cuantos datos se han eliminado y cuantos quedan en el total de datos. Se sacará un porcentaje de la cantidad de datos eliminados\n",
    "\n",
    "data.info()"
   ]
  },
  {
   "cell_type": "code",
   "execution_count": 37,
   "metadata": {
    "scrolled": true
   },
   "outputs": [
    {
     "data": {
      "text/plain": [
       "1.25"
      ]
     },
     "execution_count": 37,
     "metadata": {},
     "output_type": "execute_result"
    }
   ],
   "source": [
    "(720-711) / 720 * 100"
   ]
  },
  {
   "cell_type": "markdown",
   "metadata": {},
   "source": [
    "#### Se han eliminado el 1.25% de todas las filas de datos"
   ]
  },
  {
   "cell_type": "markdown",
   "metadata": {},
   "source": [
    "#### Transformaremos los valores en numéricos"
   ]
  },
  {
   "cell_type": "code",
   "execution_count": 38,
   "metadata": {
    "scrolled": true
   },
   "outputs": [
    {
     "data": {
      "text/plain": [
       "ciudad         object\n",
       "edad          float64\n",
       "sexo           object\n",
       "tipo_dolor     object\n",
       "presion        object\n",
       "colesterol     object\n",
       "azucar         object\n",
       "ecg            object\n",
       "pulso          object\n",
       "angina         object\n",
       "st             object\n",
       "target         object\n",
       "dtype: object"
      ]
     },
     "execution_count": 38,
     "metadata": {},
     "output_type": "execute_result"
    }
   ],
   "source": [
    "data.dtypes"
   ]
  },
  {
   "cell_type": "code",
   "execution_count": 39,
   "metadata": {},
   "outputs": [],
   "source": [
    "data.st = data.st.astype('float64')\n",
    "data.presion = data.presion.astype('float64')\n",
    "data.colesterol = data.colesterol.astype('float64')\n",
    "data.pulso = data.pulso.astype('float64')"
   ]
  },
  {
   "cell_type": "code",
   "execution_count": 40,
   "metadata": {
    "scrolled": false
   },
   "outputs": [
    {
     "data": {
      "text/plain": [
       "ciudad         object\n",
       "edad          float64\n",
       "sexo           object\n",
       "tipo_dolor     object\n",
       "presion       float64\n",
       "colesterol    float64\n",
       "azucar         object\n",
       "ecg            object\n",
       "pulso         float64\n",
       "angina         object\n",
       "st            float64\n",
       "target         object\n",
       "dtype: object"
      ]
     },
     "execution_count": 40,
     "metadata": {},
     "output_type": "execute_result"
    }
   ],
   "source": [
    "data.dtypes"
   ]
  },
  {
   "cell_type": "markdown",
   "metadata": {},
   "source": [
    "Para target no nos interesa saber si es 0, o 1 o 2 etc. Nos interesa saber si tiene peligro o no. Por esto se volverá target una variable categórica binaria."
   ]
  },
  {
   "cell_type": "code",
   "execution_count": 41,
   "metadata": {},
   "outputs": [
    {
     "name": "stderr",
     "output_type": "stream",
     "text": [
      "C:\\Users\\sebas\\Anaconda3\\lib\\site-packages\\ipykernel_launcher.py:1: SettingWithCopyWarning: \n",
      "A value is trying to be set on a copy of a slice from a DataFrame\n",
      "\n",
      "See the caveats in the documentation: http://pandas.pydata.org/pandas-docs/stable/indexing.html#indexing-view-versus-copy\n",
      "  \"\"\"Entry point for launching an IPython kernel.\n"
     ]
    }
   ],
   "source": [
    "data.target[data.target != \"0\"] = \"1\""
   ]
  },
  {
   "cell_type": "code",
   "execution_count": 42,
   "metadata": {
    "scrolled": false
   },
   "outputs": [
    {
     "data": {
      "text/plain": [
       "ciudad         object\n",
       "edad          float64\n",
       "sexo           object\n",
       "tipo_dolor     object\n",
       "presion       float64\n",
       "colesterol    float64\n",
       "azucar         object\n",
       "ecg            object\n",
       "pulso         float64\n",
       "angina         object\n",
       "st            float64\n",
       "target         object\n",
       "dtype: object"
      ]
     },
     "execution_count": 42,
     "metadata": {},
     "output_type": "execute_result"
    }
   ],
   "source": [
    "data.dtypes"
   ]
  },
  {
   "cell_type": "code",
   "execution_count": 43,
   "metadata": {
    "scrolled": true
   },
   "outputs": [
    {
     "data": {
      "text/plain": [
       "<matplotlib.axes._subplots.AxesSubplot at 0x2131fd3df98>"
      ]
     },
     "execution_count": 43,
     "metadata": {},
     "output_type": "execute_result"
    },
    {
     "data": {
      "image/png": "[encoded data removed]",
      "text/plain": [
       "<Figure size 1296x360 with 1 Axes>"
      ]
     },
     "metadata": {
      "needs_background": "light"
     },
     "output_type": "display_data"
    }
   ],
   "source": [
    "plt.figure(figsize=(18,5))\n",
    "sns.boxplot(x=\"target\", y=\"colesterol\", data=data)"
   ]
  },
  {
   "cell_type": "code",
   "execution_count": 44,
   "metadata": {},
   "outputs": [
    {
     "data": {
      "text/plain": [
       "<matplotlib.axes._subplots.AxesSubplot at 0x2131fcd3c50>"
      ]
     },
     "execution_count": 44,
     "metadata": {},
     "output_type": "execute_result"
    },
    {
     "data": {
      "image/png": "[encoded data removed]",
      "text/plain": [
       "<Figure size 432x288 with 1 Axes>"
      ]
     },
     "metadata": {
      "needs_background": "light"
     },
     "output_type": "display_data"
    }
   ],
   "source": [
    "data = data[data.colesterol < 500]\n",
    "sns.boxplot(x=\"target\", y=\"colesterol\", data=data)"
   ]
  },
  {
   "cell_type": "markdown",
   "metadata": {},
   "source": [
    "# 2. Modelamiento con K-NN y Naïve Bayes"
   ]
  },
  {
   "cell_type": "markdown",
   "metadata": {},
   "source": [
    " ## Puntos a desarrollar:\n",
    " \n",
    " <font color='red'>Construya y escoja el mejor modelo de diagnóstico posible (buscando los mejores parámetros) utilizando las técnicas KNN y NaïveBayes para un paciente de Cleveland. Básese en la métrica de evaluación del modelo adecuada, utilizando 10-fold cross validation para encontrar los parámetros ideales del modelo</font>\n",
    " \n",
    " 1. <font color='red'> Construcción del mejor modelo en KNN para Cleveland. Solo considere las variables independientes numéricas. (1.0)</font>\n",
    " \n",
    " \n",
    " 2. <font color='red'> Construcción del mejor modelo en NaiveBayes para Cleveland.</font>\n",
    " \n",
    " 2.1. <font color='red'>Para las variables numéricas utilice un GaussianNB, buscando el mejor valor del parámetro var_smoothing entre 0.1 Y 5. (0.6)</font>\n",
    " \n",
    " 2.2. <font color='red'>Para las variables categóricas utilice un BernouilliNB, buscando el mejor valor del parámetro alpha (suavizador de Lapace) entre 1 y 100. (0.8)</font>\n",
    " \n",
    " 2.3. <font color='red'>Concluya sobre la calidad de los modelos y su escogencia. (0.3)</font>\n",
    " \n",
    " 2.4. <font color='red'>**BONUS!!!!!** Construya un modelo que agrupe los dos clasificadores de Naive Bayes. Utilice las probabilidades de predicción de cada clase que se obtienen con el método \"modelo.predict_proba(X)\" tanto para el modelo de variables numéricas como para el modelo con las variables categóricas y multiplíquelas, prediciendo entonces la clases con mayo verosimilitud (0.5)</font>\n",
    " \n",
    " \n",
    " Tenga en cuenta lo siguiente: \n",
    " - Utilice holdout 70% y 30% para evaluar el modelo final. Particione los datos inicialmente en entrenamiento y test. Utilice un random_state=12345 en el método train_test_split para poder reproducir los resultados.\n",
    " - Utilice 10-fold cross validation para buscar el mejor valor de los parámetros utilizando solo el set de entrenamiento.\n",
    " - Una vez que el valor de los parámetros ideal se ha encontrado, evalúe sobre el test set, calculando las métricas correspondientes"
   ]
  },
  {
   "cell_type": "markdown",
   "metadata": {},
   "source": [
    "## 2.1 Modelo KNN para variables numéricas"
   ]
  },
  {
   "cell_type": "code",
   "execution_count": 45,
   "metadata": {},
   "outputs": [],
   "source": [
    "import warnings\n",
    "warnings.filterwarnings(\"ignore\")"
   ]
  },
  {
   "cell_type": "code",
   "execution_count": 46,
   "metadata": {
    "scrolled": true
   },
   "outputs": [
    {
     "name": "stdout",
     "output_type": "stream",
     "text": [
      "(302, 5)\n"
     ]
    },
    {
     "data": {
      "text/html": [
       "<div>\n",
       "<style scoped>\n",
       "    .dataframe tbody tr th:only-of-type {\n",
       "        vertical-align: middle;\n",
       "    }\n",
       "\n",
       "    .dataframe tbody tr th {\n",
       "        vertical-align: top;\n",
       "    }\n",
       "\n",
       "    .dataframe thead th {\n",
       "        text-align: right;\n",
       "    }\n",
       "</style>\n",
       "<table border=\"1\" class=\"dataframe\">\n",
       "  <thead>\n",
       "    <tr style=\"text-align: right;\">\n",
       "      <th></th>\n",
       "      <th>edad</th>\n",
       "      <th>presion</th>\n",
       "      <th>colesterol</th>\n",
       "      <th>pulso</th>\n",
       "      <th>st</th>\n",
       "    </tr>\n",
       "  </thead>\n",
       "  <tbody>\n",
       "    <tr>\n",
       "      <th>0</th>\n",
       "      <td>63.0</td>\n",
       "      <td>145.0</td>\n",
       "      <td>233.0</td>\n",
       "      <td>150.0</td>\n",
       "      <td>2.3</td>\n",
       "    </tr>\n",
       "    <tr>\n",
       "      <th>1</th>\n",
       "      <td>67.0</td>\n",
       "      <td>160.0</td>\n",
       "      <td>286.0</td>\n",
       "      <td>108.0</td>\n",
       "      <td>1.5</td>\n",
       "    </tr>\n",
       "    <tr>\n",
       "      <th>2</th>\n",
       "      <td>67.0</td>\n",
       "      <td>120.0</td>\n",
       "      <td>229.0</td>\n",
       "      <td>129.0</td>\n",
       "      <td>2.6</td>\n",
       "    </tr>\n",
       "    <tr>\n",
       "      <th>3</th>\n",
       "      <td>37.0</td>\n",
       "      <td>130.0</td>\n",
       "      <td>250.0</td>\n",
       "      <td>187.0</td>\n",
       "      <td>3.5</td>\n",
       "    </tr>\n",
       "    <tr>\n",
       "      <th>4</th>\n",
       "      <td>41.0</td>\n",
       "      <td>130.0</td>\n",
       "      <td>204.0</td>\n",
       "      <td>172.0</td>\n",
       "      <td>1.4</td>\n",
       "    </tr>\n",
       "  </tbody>\n",
       "</table>\n",
       "</div>"
      ],
      "text/plain": [
       "   edad  presion  colesterol  pulso   st\n",
       "0  63.0    145.0       233.0  150.0  2.3\n",
       "1  67.0    160.0       286.0  108.0  1.5\n",
       "2  67.0    120.0       229.0  129.0  2.6\n",
       "3  37.0    130.0       250.0  187.0  3.5\n",
       "4  41.0    130.0       204.0  172.0  1.4"
      ]
     },
     "execution_count": 46,
     "metadata": {},
     "output_type": "execute_result"
    }
   ],
   "source": [
    "X = data[data.ciudad == 'Cleveland'].loc[:,['edad', 'presion', 'colesterol', 'pulso', 'st']]\n",
    "print(X.shape)\n",
    "X.head()"
   ]
  },
  {
   "cell_type": "code",
   "execution_count": 47,
   "metadata": {
    "scrolled": true
   },
   "outputs": [
    {
     "name": "stdout",
     "output_type": "stream",
     "text": [
      "(302, 1)\n"
     ]
    },
    {
     "data": {
      "text/html": [
       "<div>\n",
       "<style scoped>\n",
       "    .dataframe tbody tr th:only-of-type {\n",
       "        vertical-align: middle;\n",
       "    }\n",
       "\n",
       "    .dataframe tbody tr th {\n",
       "        vertical-align: top;\n",
       "    }\n",
       "\n",
       "    .dataframe thead th {\n",
       "        text-align: right;\n",
       "    }\n",
       "</style>\n",
       "<table border=\"1\" class=\"dataframe\">\n",
       "  <thead>\n",
       "    <tr style=\"text-align: right;\">\n",
       "      <th></th>\n",
       "      <th>target</th>\n",
       "    </tr>\n",
       "  </thead>\n",
       "  <tbody>\n",
       "    <tr>\n",
       "      <th>0</th>\n",
       "      <td>0</td>\n",
       "    </tr>\n",
       "    <tr>\n",
       "      <th>1</th>\n",
       "      <td>1</td>\n",
       "    </tr>\n",
       "    <tr>\n",
       "      <th>2</th>\n",
       "      <td>1</td>\n",
       "    </tr>\n",
       "    <tr>\n",
       "      <th>3</th>\n",
       "      <td>0</td>\n",
       "    </tr>\n",
       "    <tr>\n",
       "      <th>4</th>\n",
       "      <td>0</td>\n",
       "    </tr>\n",
       "  </tbody>\n",
       "</table>\n",
       "</div>"
      ],
      "text/plain": [
       "  target\n",
       "0      0\n",
       "1      1\n",
       "2      1\n",
       "3      0\n",
       "4      0"
      ]
     },
     "execution_count": 47,
     "metadata": {},
     "output_type": "execute_result"
    }
   ],
   "source": [
    "y = data[data.ciudad == 'Cleveland'].loc[:,['target']]\n",
    "print(y.shape)\n",
    "y.head()"
   ]
  },
  {
   "cell_type": "code",
   "execution_count": 48,
   "metadata": {
    "scrolled": true
   },
   "outputs": [
    {
     "name": "stdout",
     "output_type": "stream",
     "text": [
      "(302, 1)\n"
     ]
    },
    {
     "data": {
      "text/html": [
       "<div>\n",
       "<style scoped>\n",
       "    .dataframe tbody tr th:only-of-type {\n",
       "        vertical-align: middle;\n",
       "    }\n",
       "\n",
       "    .dataframe tbody tr th {\n",
       "        vertical-align: top;\n",
       "    }\n",
       "\n",
       "    .dataframe thead th {\n",
       "        text-align: right;\n",
       "    }\n",
       "</style>\n",
       "<table border=\"1\" class=\"dataframe\">\n",
       "  <thead>\n",
       "    <tr style=\"text-align: right;\">\n",
       "      <th></th>\n",
       "      <th>target</th>\n",
       "    </tr>\n",
       "  </thead>\n",
       "  <tbody>\n",
       "    <tr>\n",
       "      <th>0</th>\n",
       "      <td>0</td>\n",
       "    </tr>\n",
       "    <tr>\n",
       "      <th>1</th>\n",
       "      <td>1</td>\n",
       "    </tr>\n",
       "    <tr>\n",
       "      <th>2</th>\n",
       "      <td>1</td>\n",
       "    </tr>\n",
       "    <tr>\n",
       "      <th>3</th>\n",
       "      <td>0</td>\n",
       "    </tr>\n",
       "    <tr>\n",
       "      <th>4</th>\n",
       "      <td>0</td>\n",
       "    </tr>\n",
       "  </tbody>\n",
       "</table>\n",
       "</div>"
      ],
      "text/plain": [
       "  target\n",
       "0      0\n",
       "1      1\n",
       "2      1\n",
       "3      0\n",
       "4      0"
      ]
     },
     "execution_count": 48,
     "metadata": {},
     "output_type": "execute_result"
    }
   ],
   "source": [
    "y = data[data.ciudad == 'Cleveland'].loc[:,['target']]\n",
    "print(y.shape)\n",
    "y.head()"
   ]
  },
  {
   "cell_type": "code",
   "execution_count": 49,
   "metadata": {
    "scrolled": true
   },
   "outputs": [
    {
     "name": "stdout",
     "output_type": "stream",
     "text": [
      "(302, 1)\n"
     ]
    },
    {
     "data": {
      "text/html": [
       "<div>\n",
       "<style scoped>\n",
       "    .dataframe tbody tr th:only-of-type {\n",
       "        vertical-align: middle;\n",
       "    }\n",
       "\n",
       "    .dataframe tbody tr th {\n",
       "        vertical-align: top;\n",
       "    }\n",
       "\n",
       "    .dataframe thead th {\n",
       "        text-align: right;\n",
       "    }\n",
       "</style>\n",
       "<table border=\"1\" class=\"dataframe\">\n",
       "  <thead>\n",
       "    <tr style=\"text-align: right;\">\n",
       "      <th></th>\n",
       "      <th>target</th>\n",
       "    </tr>\n",
       "  </thead>\n",
       "  <tbody>\n",
       "    <tr>\n",
       "      <th>0</th>\n",
       "      <td>0</td>\n",
       "    </tr>\n",
       "    <tr>\n",
       "      <th>1</th>\n",
       "      <td>1</td>\n",
       "    </tr>\n",
       "    <tr>\n",
       "      <th>2</th>\n",
       "      <td>1</td>\n",
       "    </tr>\n",
       "    <tr>\n",
       "      <th>3</th>\n",
       "      <td>0</td>\n",
       "    </tr>\n",
       "    <tr>\n",
       "      <th>4</th>\n",
       "      <td>0</td>\n",
       "    </tr>\n",
       "  </tbody>\n",
       "</table>\n",
       "</div>"
      ],
      "text/plain": [
       "  target\n",
       "0      0\n",
       "1      1\n",
       "2      1\n",
       "3      0\n",
       "4      0"
      ]
     },
     "execution_count": 49,
     "metadata": {},
     "output_type": "execute_result"
    }
   ],
   "source": [
    "y = data[data.ciudad == 'Cleveland'].loc[:,['target']]\n",
    "print(y.shape)\n",
    "y.head()"
   ]
  },
  {
   "cell_type": "code",
   "execution_count": 50,
   "metadata": {},
   "outputs": [],
   "source": [
    "X_train, X_test, y_train, y_test = train_test_split(X, y, test_size=0.3, random_state=12345, stratify=y)"
   ]
  },
  {
   "cell_type": "code",
   "execution_count": 51,
   "metadata": {},
   "outputs": [],
   "source": [
    "# Crear un normalizador Min-Max\n",
    "# Necesitamos normalizar los datos para que variables no opaque otras\n",
    "min_max_scaler = preprocessing.MinMaxScaler()\n",
    "\n",
    "# Aprender sus parámetros con el set de entrenamiento y transformar los dos datasets\n",
    "X_train_scaled = min_max_scaler.fit_transform(X_train)\n",
    "X_test_scaled = min_max_scaler.transform(X_test)\n"
   ]
  },
  {
   "cell_type": "code",
   "execution_count": 52,
   "metadata": {},
   "outputs": [],
   "source": [
    "y_train = np.squeeze(y_train)\n",
    "y_test = np.squeeze(y_test)"
   ]
  },
  {
   "cell_type": "code",
   "execution_count": 53,
   "metadata": {
    "scrolled": true
   },
   "outputs": [
    {
     "data": {
      "text/plain": [
       "54     1\n",
       "122    0\n",
       "33     0\n",
       "189    1\n",
       "133    0\n",
       "72     1\n",
       "157    1\n",
       "115    0\n",
       "120    1\n",
       "61     0\n",
       "241    0\n",
       "232    1\n",
       "151    0\n",
       "0      0\n",
       "290    1\n",
       "283    0\n",
       "75     0\n",
       "224    1\n",
       "89     0\n",
       "141    1\n",
       "171    0\n",
       "187    1\n",
       "55     1\n",
       "153    1\n",
       "221    0\n",
       "42     0\n",
       "129    0\n",
       "209    1\n",
       "28     0\n",
       "240    0\n",
       "      ..\n",
       "107    1\n",
       "119    1\n",
       "251    1\n",
       "98     0\n",
       "230    0\n",
       "201    0\n",
       "233    0\n",
       "203    0\n",
       "103    0\n",
       "262    0\n",
       "36     1\n",
       "194    0\n",
       "181    1\n",
       "48     0\n",
       "14     0\n",
       "180    1\n",
       "76     1\n",
       "250    0\n",
       "82     0\n",
       "73     1\n",
       "15     0\n",
       "96     1\n",
       "87     0\n",
       "271    0\n",
       "270    1\n",
       "50     0\n",
       "95     1\n",
       "165    0\n",
       "112    0\n",
       "246    1\n",
       "Name: target, Length: 211, dtype: object"
      ]
     },
     "execution_count": 53,
     "metadata": {},
     "output_type": "execute_result"
    }
   ],
   "source": [
    "y_train"
   ]
  },
  {
   "cell_type": "markdown",
   "metadata": {},
   "source": [
    "### Se utilizará recall en lugar de accuracy, porque no nos importa tanto si una persona que no tiene peligro de enfermedades para el corazón, se les diagnostica. Pero sería imperdonable si, una persona con peligro de enfermedades en el corazón, no se le diagnostica su problema."
   ]
  },
  {
   "cell_type": "code",
   "execution_count": 54,
   "metadata": {},
   "outputs": [],
   "source": [
    "# Crea los vectores para la grafica y para el almacemiento de los resultados del modelo\n",
    "\n",
    "# Define Vectores de Accuracy\n",
    "rec_train_vec=[]\n",
    "rec_test_vec=[]\n",
    "\n",
    "# Define Vectores de Kappa\n",
    "kappa_train_vec=[]\n",
    "kappa_test_vec=[]\n",
    "\n",
    "# Definimos la cantidad de K que van a haber en el Modelo\n",
    "k_vec= np.arange(1,201,2)\n",
    "\n",
    "# Correr el Modelo\n",
    "for k in k_vec:\n",
    "    # Crea Modelo KNN\n",
    "    knn = neighbors.KNeighborsClassifier(n_neighbors=k)\n",
    "    \n",
    "    # Aplica Modelo al conjunto de Entrenamiento\n",
    "    knn.fit(X_train_scaled, y_train)\n",
    "    \n",
    "    # Predecir la variable Y según el modelo en el conjunto de Entramiento\n",
    "    y_pred = knn.predict(X_train_scaled)\n",
    "    \n",
    "    # Agrega los resultados en los vectores de entrenamiento\n",
    "    rec_train_vec.append(metrics.recall_score(y_train, y_pred, average='macro'))\n",
    "    kappa_train_vec.append(metrics.cohen_kappa_score(y_train, y_pred))\n",
    "    \n",
    "    # Predecir la variable Y según el modelo en el conjunto de Test\n",
    "    y_pred = knn.predict(X_test_scaled)\n",
    "    \n",
    "    # Agrega los resultados en los vectores de Test\n",
    "    rec_test_vec.append(metrics.recall_score(y_test, y_pred, average='macro'))\n",
    "    kappa_test_vec.append(metrics.cohen_kappa_score(y_test, y_pred))"
   ]
  },
  {
   "cell_type": "code",
   "execution_count": 55,
   "metadata": {
    "scrolled": true
   },
   "outputs": [
    {
     "data": {
      "text/plain": [
       "<matplotlib.legend.Legend at 0x2131fe6fb38>"
      ]
     },
     "execution_count": 55,
     "metadata": {},
     "output_type": "execute_result"
    },
    {
     "data": {
      "image/png": "[encoded data removed]",
      "text/plain": [
       "<Figure size 1296x360 with 2 Axes>"
      ]
     },
     "metadata": {
      "needs_background": "light"
     },
     "output_type": "display_data"
    }
   ],
   "source": [
    "fig = plt.figure(figsize=(18,5))\n",
    "\n",
    "fig.add_subplot(1, 2, 1)\n",
    "ax = plt.gca() # get current axis\n",
    "plt.plot(k_vec, rec_train_vec)\n",
    "plt.plot(k_vec, rec_test_vec)\n",
    "ax.set_xlim(ax.get_xlim()[::-1])  # reverse axis\n",
    "plt.axis('tight')\n",
    "plt.xlabel('k')\n",
    "plt.ylabel('recall')\n",
    "plt.title('Evolución de la exactitud vs complejidad del modelo k-nn (valor de k más pequeño)')\n",
    "plt.legend(['train', 'test'])\n",
    "\n",
    "fig.add_subplot(1, 2, 2)\n",
    "ax = plt.gca() # get current axis\n",
    "plt.plot(k_vec, kappa_train_vec)\n",
    "plt.plot(k_vec, kappa_test_vec)\n",
    "ax.set_xlim(ax.get_xlim()[::-1])  # reverse axis\n",
    "plt.axis('tight')\n",
    "plt.xlabel('k')\n",
    "plt.ylabel('kappa')\n",
    "plt.title('Evolución del kappa vs complejidad del modelo k-nn (valor de k más pequeño)')\n",
    "plt.legend(['train', 'test'])"
   ]
  },
  {
   "cell_type": "code",
   "execution_count": 56,
   "metadata": {
    "scrolled": true
   },
   "outputs": [
    {
     "name": "stdout",
     "output_type": "stream",
     "text": [
      "El óptimo se obtiene con K=101, que produce un 80.27% de exactitud\n",
      "El óptimo se obtiene con K=101, que produce un 80.27% de kappa\n"
     ]
    }
   ],
   "source": [
    "k_optimo = k_vec[np.argmax(rec_test_vec)]\n",
    "acc_optima= max(rec_test_vec)\n",
    "print(\"El óptimo se obtiene con K=%d, que produce un %.2f%% de exactitud\" %(k_optimo, 100*acc_optima))\n",
    "\n",
    "k_optimo = k_vec[np.argmax(kappa_test_vec)]\n",
    "kappa_optima= max(rec_test_vec)\n",
    "print(\"El óptimo se obtiene con K=%d, que produce un %.2f%% de kappa\" %(k_optimo, 100*kappa_optima))"
   ]
  },
  {
   "cell_type": "code",
   "execution_count": 57,
   "metadata": {},
   "outputs": [],
   "source": [
    "knn = neighbors.KNeighborsClassifier(n_neighbors=k_optimo)\n",
    "knn.fit(X_train_scaled, y_train)\n",
    "y_pred = knn.predict(X_test_scaled)\n",
    "rec_test_vec.append(metrics.recall_score(y_test, y_pred, average='macro'))"
   ]
  },
  {
   "cell_type": "code",
   "execution_count": 58,
   "metadata": {
    "scrolled": true
   },
   "outputs": [
    {
     "name": "stdout",
     "output_type": "stream",
     "text": [
      "Exactitud :  0.8131868131868132\n",
      "Kappa     :  0.6169844020797227\n",
      "Precisión :  0.8349462365591398\n",
      "Recall    :  0.8027210884353742\n"
     ]
    }
   ],
   "source": [
    "print(\"Exactitud : \", metrics.accuracy_score(y_test, y_pred))\n",
    "print(\"Kappa     : \", metrics.cohen_kappa_score(y_test, y_pred))\n",
    "print(\"Precisión : \", metrics.precision_score(y_test, y_pred, average='macro'))\n",
    "print(\"Recall    : \", metrics.recall_score(y_test, y_pred, average='macro'))"
   ]
  },
  {
   "cell_type": "markdown",
   "metadata": {},
   "source": [
    "## 2.2 Modelo Naïve Bayes para variables numéricas"
   ]
  },
  {
   "cell_type": "markdown",
   "metadata": {},
   "source": [
    "### Modelo para variables numéricas"
   ]
  },
  {
   "cell_type": "code",
   "execution_count": 55,
   "metadata": {},
   "outputs": [
    {
     "name": "stdout",
     "output_type": "stream",
     "text": [
      "(303, 5)\n"
     ]
    },
    {
     "data": {
      "text/html": [
       "<div>\n",
       "<style scoped>\n",
       "    .dataframe tbody tr th:only-of-type {\n",
       "        vertical-align: middle;\n",
       "    }\n",
       "\n",
       "    .dataframe tbody tr th {\n",
       "        vertical-align: top;\n",
       "    }\n",
       "\n",
       "    .dataframe thead th {\n",
       "        text-align: right;\n",
       "    }\n",
       "</style>\n",
       "<table border=\"1\" class=\"dataframe\">\n",
       "  <thead>\n",
       "    <tr style=\"text-align: right;\">\n",
       "      <th></th>\n",
       "      <th>edad</th>\n",
       "      <th>presion</th>\n",
       "      <th>colesterol</th>\n",
       "      <th>pulso</th>\n",
       "      <th>st</th>\n",
       "    </tr>\n",
       "  </thead>\n",
       "  <tbody>\n",
       "    <tr>\n",
       "      <th>0</th>\n",
       "      <td>63.0</td>\n",
       "      <td>145.0</td>\n",
       "      <td>233.0</td>\n",
       "      <td>150.0</td>\n",
       "      <td>2.3</td>\n",
       "    </tr>\n",
       "    <tr>\n",
       "      <th>1</th>\n",
       "      <td>67.0</td>\n",
       "      <td>160.0</td>\n",
       "      <td>286.0</td>\n",
       "      <td>108.0</td>\n",
       "      <td>1.5</td>\n",
       "    </tr>\n",
       "    <tr>\n",
       "      <th>2</th>\n",
       "      <td>67.0</td>\n",
       "      <td>120.0</td>\n",
       "      <td>229.0</td>\n",
       "      <td>129.0</td>\n",
       "      <td>2.6</td>\n",
       "    </tr>\n",
       "    <tr>\n",
       "      <th>3</th>\n",
       "      <td>37.0</td>\n",
       "      <td>130.0</td>\n",
       "      <td>250.0</td>\n",
       "      <td>187.0</td>\n",
       "      <td>3.5</td>\n",
       "    </tr>\n",
       "    <tr>\n",
       "      <th>4</th>\n",
       "      <td>41.0</td>\n",
       "      <td>130.0</td>\n",
       "      <td>204.0</td>\n",
       "      <td>172.0</td>\n",
       "      <td>1.4</td>\n",
       "    </tr>\n",
       "  </tbody>\n",
       "</table>\n",
       "</div>"
      ],
      "text/plain": [
       "   edad  presion  colesterol  pulso   st\n",
       "0  63.0    145.0       233.0  150.0  2.3\n",
       "1  67.0    160.0       286.0  108.0  1.5\n",
       "2  67.0    120.0       229.0  129.0  2.6\n",
       "3  37.0    130.0       250.0  187.0  3.5\n",
       "4  41.0    130.0       204.0  172.0  1.4"
      ]
     },
     "execution_count": 55,
     "metadata": {},
     "output_type": "execute_result"
    }
   ],
   "source": [
    "X = data[data.ciudad == 'Cleveland'].loc[:,['edad', 'presion', 'colesterol', 'pulso', 'st']]\n",
    "print(X.shape)\n",
    "X.head()"
   ]
  },
  {
   "cell_type": "code",
   "execution_count": 56,
   "metadata": {
    "scrolled": true
   },
   "outputs": [
    {
     "name": "stdout",
     "output_type": "stream",
     "text": [
      "(303, 1)\n"
     ]
    },
    {
     "data": {
      "text/html": [
       "<div>\n",
       "<style scoped>\n",
       "    .dataframe tbody tr th:only-of-type {\n",
       "        vertical-align: middle;\n",
       "    }\n",
       "\n",
       "    .dataframe tbody tr th {\n",
       "        vertical-align: top;\n",
       "    }\n",
       "\n",
       "    .dataframe thead th {\n",
       "        text-align: right;\n",
       "    }\n",
       "</style>\n",
       "<table border=\"1\" class=\"dataframe\">\n",
       "  <thead>\n",
       "    <tr style=\"text-align: right;\">\n",
       "      <th></th>\n",
       "      <th>target</th>\n",
       "    </tr>\n",
       "  </thead>\n",
       "  <tbody>\n",
       "    <tr>\n",
       "      <th>0</th>\n",
       "      <td>0</td>\n",
       "    </tr>\n",
       "    <tr>\n",
       "      <th>1</th>\n",
       "      <td>1</td>\n",
       "    </tr>\n",
       "    <tr>\n",
       "      <th>2</th>\n",
       "      <td>1</td>\n",
       "    </tr>\n",
       "    <tr>\n",
       "      <th>3</th>\n",
       "      <td>0</td>\n",
       "    </tr>\n",
       "    <tr>\n",
       "      <th>4</th>\n",
       "      <td>0</td>\n",
       "    </tr>\n",
       "  </tbody>\n",
       "</table>\n",
       "</div>"
      ],
      "text/plain": [
       "  target\n",
       "0      0\n",
       "1      1\n",
       "2      1\n",
       "3      0\n",
       "4      0"
      ]
     },
     "execution_count": 56,
     "metadata": {},
     "output_type": "execute_result"
    }
   ],
   "source": [
    "y = data[data.ciudad == 'Cleveland'].loc[:,['target']]\n",
    "print(y.shape)\n",
    "y.head()"
   ]
  },
  {
   "cell_type": "code",
   "execution_count": 57,
   "metadata": {},
   "outputs": [],
   "source": [
    "X_train, X_test, y_train, y_test = train_test_split(X, y, test_size=0.3, random_state=12345, stratify=y)"
   ]
  },
  {
   "cell_type": "markdown",
   "metadata": {},
   "source": [
    "### Se intenta hacer la cross-validation con recall, y con kappa, pero ofrece estos errores \n",
    " Target is multiclass but average='binary'. Please choose another average setting.\n",
    " 'kappa' is not a valid scoring value. Use sorted(sklearn.metrics.SCORERS.keys()) to get valid options.\n",
    " \n",
    "### Por esta razón no se encontrará el smooth ideal y el alpha con holdout\n",
    " "
   ]
  },
  {
   "cell_type": "code",
   "execution_count": 58,
   "metadata": {},
   "outputs": [],
   "source": [
    "#min_max_scaler = preprocessing.MinMaxScaler()\n",
    "\n",
    "# Aprender sus parámetros con el set de entrenamiento y transformar los dos datasets\n",
    "#X_train_scaled = min_max_scaler.fit_transform(X_train)\n",
    "#X_test_scaled = min_max_scaler.transform(X_test)\n",
    "\n",
    "#rec_mean_vec=[]\n",
    "#smooth_vec= np.arange(0,5.2,0.1)\n",
    "\n",
    "#for smooth in smooth_vec:\n",
    "#    naiveb = GaussianNB(var_smoothing=smooth)\n",
    "#    naiveb.fit(X_train_scaled, y_train)\n",
    "#    \n",
    "#    rec_vec_fold = cross_val_score(naiveb, X_train_scaled, np.squeeze(y_train), cv=10, scoring='kappa')\n",
    "#    rec_mean_vec.append(rec_vec_fold.mean())"
   ]
  },
  {
   "cell_type": "code",
   "execution_count": 59,
   "metadata": {},
   "outputs": [],
   "source": [
    "min_max_scaler = preprocessing.MinMaxScaler()\n",
    "\n",
    "# Aprender sus parámetros con el set de entrenamiento y transformar los dos datasets\n",
    "X_train_scaled = min_max_scaler.fit_transform(X_train)\n",
    "X_test_scaled = min_max_scaler.transform(X_test)\n",
    "\n",
    "rec_test_vec=[]\n",
    "smooth_vec= np.arange(0,5.2,0.1)\n",
    "\n",
    "for smooth in smooth_vec:\n",
    "    naiveb = GaussianNB(var_smoothing=smooth)\n",
    "    naiveb.fit(X_train_scaled, y_train)\n",
    "    \n",
    "    y_pred = naiveb.predict(X_test_scaled)\n",
    "    rec_test_vec.append(metrics.recall_score(y_test, y_pred, average='macro'))\n"
   ]
  },
  {
   "cell_type": "code",
   "execution_count": 60,
   "metadata": {
    "scrolled": true
   },
   "outputs": [
    {
     "data": {
      "text/plain": [
       "Text(0.5, 1.0, 'Evolución de le recall vs smooth')"
      ]
     },
     "execution_count": 60,
     "metadata": {},
     "output_type": "execute_result"
    },
    {
     "data": {
      "image/png": "[encoded data removed]",
      "text/plain": [
       "<Figure size 720x360 with 1 Axes>"
      ]
     },
     "metadata": {
      "needs_background": "light"
     },
     "output_type": "display_data"
    }
   ],
   "source": [
    "plt.figure(figsize=(10,5))\n",
    "ax = plt.gca() # get current axis\n",
    "plt.plot(smooth_vec, rec_test_vec)\n",
    "ax.set_xlim(ax.get_xlim()[::-1])  # reverse axis\n",
    "plt.axis('tight')\n",
    "plt.xlabel('smooth')\n",
    "plt.ylabel('Recall')\n",
    "plt.title('Evolución de le recall vs smooth')"
   ]
  },
  {
   "cell_type": "code",
   "execution_count": 61,
   "metadata": {
    "scrolled": false
   },
   "outputs": [
    {
     "name": "stdout",
     "output_type": "stream",
     "text": [
      "El óptimo se obtiene con smooth=0.100000, que produce un 77.721% de recall\n"
     ]
    }
   ],
   "source": [
    "smooth_optimo = smooth_vec[np.argmax(rec_test_vec)]\n",
    "rec_optima= max(rec_test_vec)\n",
    "print(\"El óptimo se obtiene con smooth=%f, que produce un %.3f%% de recall\" %(smooth_optimo, 100*rec_optima))"
   ]
  },
  {
   "cell_type": "code",
   "execution_count": 62,
   "metadata": {
    "scrolled": true
   },
   "outputs": [
    {
     "data": {
      "text/html": [
       "<div>\n",
       "<style scoped>\n",
       "    .dataframe tbody tr th:only-of-type {\n",
       "        vertical-align: middle;\n",
       "    }\n",
       "\n",
       "    .dataframe tbody tr th {\n",
       "        vertical-align: top;\n",
       "    }\n",
       "\n",
       "    .dataframe thead th {\n",
       "        text-align: right;\n",
       "    }\n",
       "</style>\n",
       "<table border=\"1\" class=\"dataframe\">\n",
       "  <thead>\n",
       "    <tr style=\"text-align: right;\">\n",
       "      <th></th>\n",
       "      <th>smooth</th>\n",
       "      <th>recall</th>\n",
       "    </tr>\n",
       "  </thead>\n",
       "  <tbody>\n",
       "    <tr>\n",
       "      <th>0</th>\n",
       "      <td>0.0</td>\n",
       "      <td>0.765306</td>\n",
       "    </tr>\n",
       "    <tr>\n",
       "      <th>1</th>\n",
       "      <td>0.1</td>\n",
       "      <td>0.777211</td>\n",
       "    </tr>\n",
       "    <tr>\n",
       "      <th>2</th>\n",
       "      <td>0.2</td>\n",
       "      <td>0.775510</td>\n",
       "    </tr>\n",
       "    <tr>\n",
       "      <th>3</th>\n",
       "      <td>0.3</td>\n",
       "      <td>0.763605</td>\n",
       "    </tr>\n",
       "    <tr>\n",
       "      <th>4</th>\n",
       "      <td>0.4</td>\n",
       "      <td>0.773810</td>\n",
       "    </tr>\n",
       "    <tr>\n",
       "      <th>5</th>\n",
       "      <td>0.5</td>\n",
       "      <td>0.761905</td>\n",
       "    </tr>\n",
       "    <tr>\n",
       "      <th>6</th>\n",
       "      <td>0.6</td>\n",
       "      <td>0.761905</td>\n",
       "    </tr>\n",
       "    <tr>\n",
       "      <th>7</th>\n",
       "      <td>0.7</td>\n",
       "      <td>0.738095</td>\n",
       "    </tr>\n",
       "    <tr>\n",
       "      <th>8</th>\n",
       "      <td>0.8</td>\n",
       "      <td>0.758503</td>\n",
       "    </tr>\n",
       "    <tr>\n",
       "      <th>9</th>\n",
       "      <td>0.9</td>\n",
       "      <td>0.758503</td>\n",
       "    </tr>\n",
       "    <tr>\n",
       "      <th>10</th>\n",
       "      <td>1.0</td>\n",
       "      <td>0.758503</td>\n",
       "    </tr>\n",
       "    <tr>\n",
       "      <th>11</th>\n",
       "      <td>1.1</td>\n",
       "      <td>0.758503</td>\n",
       "    </tr>\n",
       "    <tr>\n",
       "      <th>12</th>\n",
       "      <td>1.2</td>\n",
       "      <td>0.758503</td>\n",
       "    </tr>\n",
       "    <tr>\n",
       "      <th>13</th>\n",
       "      <td>1.3</td>\n",
       "      <td>0.758503</td>\n",
       "    </tr>\n",
       "    <tr>\n",
       "      <th>14</th>\n",
       "      <td>1.4</td>\n",
       "      <td>0.768707</td>\n",
       "    </tr>\n",
       "    <tr>\n",
       "      <th>15</th>\n",
       "      <td>1.5</td>\n",
       "      <td>0.756803</td>\n",
       "    </tr>\n",
       "    <tr>\n",
       "      <th>16</th>\n",
       "      <td>1.6</td>\n",
       "      <td>0.756803</td>\n",
       "    </tr>\n",
       "    <tr>\n",
       "      <th>17</th>\n",
       "      <td>1.7</td>\n",
       "      <td>0.744898</td>\n",
       "    </tr>\n",
       "    <tr>\n",
       "      <th>18</th>\n",
       "      <td>1.8</td>\n",
       "      <td>0.744898</td>\n",
       "    </tr>\n",
       "    <tr>\n",
       "      <th>19</th>\n",
       "      <td>1.9</td>\n",
       "      <td>0.744898</td>\n",
       "    </tr>\n",
       "    <tr>\n",
       "      <th>20</th>\n",
       "      <td>2.0</td>\n",
       "      <td>0.732993</td>\n",
       "    </tr>\n",
       "    <tr>\n",
       "      <th>21</th>\n",
       "      <td>2.1</td>\n",
       "      <td>0.721088</td>\n",
       "    </tr>\n",
       "    <tr>\n",
       "      <th>22</th>\n",
       "      <td>2.2</td>\n",
       "      <td>0.709184</td>\n",
       "    </tr>\n",
       "    <tr>\n",
       "      <th>23</th>\n",
       "      <td>2.3</td>\n",
       "      <td>0.709184</td>\n",
       "    </tr>\n",
       "    <tr>\n",
       "      <th>24</th>\n",
       "      <td>2.4</td>\n",
       "      <td>0.709184</td>\n",
       "    </tr>\n",
       "    <tr>\n",
       "      <th>25</th>\n",
       "      <td>2.5</td>\n",
       "      <td>0.709184</td>\n",
       "    </tr>\n",
       "    <tr>\n",
       "      <th>26</th>\n",
       "      <td>2.6</td>\n",
       "      <td>0.709184</td>\n",
       "    </tr>\n",
       "    <tr>\n",
       "      <th>27</th>\n",
       "      <td>2.7</td>\n",
       "      <td>0.709184</td>\n",
       "    </tr>\n",
       "    <tr>\n",
       "      <th>28</th>\n",
       "      <td>2.8</td>\n",
       "      <td>0.709184</td>\n",
       "    </tr>\n",
       "    <tr>\n",
       "      <th>29</th>\n",
       "      <td>2.9</td>\n",
       "      <td>0.709184</td>\n",
       "    </tr>\n",
       "    <tr>\n",
       "      <th>30</th>\n",
       "      <td>3.0</td>\n",
       "      <td>0.719388</td>\n",
       "    </tr>\n",
       "    <tr>\n",
       "      <th>31</th>\n",
       "      <td>3.1</td>\n",
       "      <td>0.719388</td>\n",
       "    </tr>\n",
       "    <tr>\n",
       "      <th>32</th>\n",
       "      <td>3.2</td>\n",
       "      <td>0.719388</td>\n",
       "    </tr>\n",
       "    <tr>\n",
       "      <th>33</th>\n",
       "      <td>3.3</td>\n",
       "      <td>0.719388</td>\n",
       "    </tr>\n",
       "    <tr>\n",
       "      <th>34</th>\n",
       "      <td>3.4</td>\n",
       "      <td>0.719388</td>\n",
       "    </tr>\n",
       "    <tr>\n",
       "      <th>35</th>\n",
       "      <td>3.5</td>\n",
       "      <td>0.729592</td>\n",
       "    </tr>\n",
       "    <tr>\n",
       "      <th>36</th>\n",
       "      <td>3.6</td>\n",
       "      <td>0.729592</td>\n",
       "    </tr>\n",
       "    <tr>\n",
       "      <th>37</th>\n",
       "      <td>3.7</td>\n",
       "      <td>0.717687</td>\n",
       "    </tr>\n",
       "    <tr>\n",
       "      <th>38</th>\n",
       "      <td>3.8</td>\n",
       "      <td>0.717687</td>\n",
       "    </tr>\n",
       "    <tr>\n",
       "      <th>39</th>\n",
       "      <td>3.9</td>\n",
       "      <td>0.717687</td>\n",
       "    </tr>\n",
       "    <tr>\n",
       "      <th>40</th>\n",
       "      <td>4.0</td>\n",
       "      <td>0.717687</td>\n",
       "    </tr>\n",
       "    <tr>\n",
       "      <th>41</th>\n",
       "      <td>4.1</td>\n",
       "      <td>0.727891</td>\n",
       "    </tr>\n",
       "    <tr>\n",
       "      <th>42</th>\n",
       "      <td>4.2</td>\n",
       "      <td>0.727891</td>\n",
       "    </tr>\n",
       "    <tr>\n",
       "      <th>43</th>\n",
       "      <td>4.3</td>\n",
       "      <td>0.715986</td>\n",
       "    </tr>\n",
       "    <tr>\n",
       "      <th>44</th>\n",
       "      <td>4.4</td>\n",
       "      <td>0.692177</td>\n",
       "    </tr>\n",
       "    <tr>\n",
       "      <th>45</th>\n",
       "      <td>4.5</td>\n",
       "      <td>0.692177</td>\n",
       "    </tr>\n",
       "    <tr>\n",
       "      <th>46</th>\n",
       "      <td>4.6</td>\n",
       "      <td>0.668367</td>\n",
       "    </tr>\n",
       "    <tr>\n",
       "      <th>47</th>\n",
       "      <td>4.7</td>\n",
       "      <td>0.668367</td>\n",
       "    </tr>\n",
       "    <tr>\n",
       "      <th>48</th>\n",
       "      <td>4.8</td>\n",
       "      <td>0.668367</td>\n",
       "    </tr>\n",
       "    <tr>\n",
       "      <th>49</th>\n",
       "      <td>4.9</td>\n",
       "      <td>0.668367</td>\n",
       "    </tr>\n",
       "    <tr>\n",
       "      <th>50</th>\n",
       "      <td>5.0</td>\n",
       "      <td>0.668367</td>\n",
       "    </tr>\n",
       "    <tr>\n",
       "      <th>51</th>\n",
       "      <td>5.1</td>\n",
       "      <td>0.668367</td>\n",
       "    </tr>\n",
       "  </tbody>\n",
       "</table>\n",
       "</div>"
      ],
      "text/plain": [
       "    smooth    recall\n",
       "0      0.0  0.765306\n",
       "1      0.1  0.777211\n",
       "2      0.2  0.775510\n",
       "3      0.3  0.763605\n",
       "4      0.4  0.773810\n",
       "5      0.5  0.761905\n",
       "6      0.6  0.761905\n",
       "7      0.7  0.738095\n",
       "8      0.8  0.758503\n",
       "9      0.9  0.758503\n",
       "10     1.0  0.758503\n",
       "11     1.1  0.758503\n",
       "12     1.2  0.758503\n",
       "13     1.3  0.758503\n",
       "14     1.4  0.768707\n",
       "15     1.5  0.756803\n",
       "16     1.6  0.756803\n",
       "17     1.7  0.744898\n",
       "18     1.8  0.744898\n",
       "19     1.9  0.744898\n",
       "20     2.0  0.732993\n",
       "21     2.1  0.721088\n",
       "22     2.2  0.709184\n",
       "23     2.3  0.709184\n",
       "24     2.4  0.709184\n",
       "25     2.5  0.709184\n",
       "26     2.6  0.709184\n",
       "27     2.7  0.709184\n",
       "28     2.8  0.709184\n",
       "29     2.9  0.709184\n",
       "30     3.0  0.719388\n",
       "31     3.1  0.719388\n",
       "32     3.2  0.719388\n",
       "33     3.3  0.719388\n",
       "34     3.4  0.719388\n",
       "35     3.5  0.729592\n",
       "36     3.6  0.729592\n",
       "37     3.7  0.717687\n",
       "38     3.8  0.717687\n",
       "39     3.9  0.717687\n",
       "40     4.0  0.717687\n",
       "41     4.1  0.727891\n",
       "42     4.2  0.727891\n",
       "43     4.3  0.715986\n",
       "44     4.4  0.692177\n",
       "45     4.5  0.692177\n",
       "46     4.6  0.668367\n",
       "47     4.7  0.668367\n",
       "48     4.8  0.668367\n",
       "49     4.9  0.668367\n",
       "50     5.0  0.668367\n",
       "51     5.1  0.668367"
      ]
     },
     "execution_count": 62,
     "metadata": {},
     "output_type": "execute_result"
    }
   ],
   "source": [
    "smooths = pd.DataFrame({\"smooth\": smooth_vec, \"recall\": rec_test_vec})\n",
    "smooths"
   ]
  },
  {
   "cell_type": "markdown",
   "metadata": {
    "scrolled": true
   },
   "source": [
    "Se seleccionara el smooth de: 0.1, que se encuentra entre 0.0 y 0.3. Para seleccionar un promedio "
   ]
  },
  {
   "cell_type": "markdown",
   "metadata": {},
   "source": [
    "### Se evaluará el modelo con un var_smoothing de 0.1"
   ]
  },
  {
   "cell_type": "code",
   "execution_count": 63,
   "metadata": {},
   "outputs": [],
   "source": [
    "naiveb = GaussianNB(var_smoothing=0.1)\n",
    "naiveb.fit(X_test_scaled, y_test)\n",
    "y_pred = naiveb.predict(X_test_scaled)"
   ]
  },
  {
   "cell_type": "code",
   "execution_count": 64,
   "metadata": {},
   "outputs": [
    {
     "name": "stdout",
     "output_type": "stream",
     "text": [
      "Exactitud :  0.8021978021978022\n",
      "Kappa     :  0.6006825938566553\n",
      "Precisión :  0.8019607843137255\n",
      "Recall    :  0.7993197278911565\n"
     ]
    }
   ],
   "source": [
    "print(\"Exactitud : \", metrics.accuracy_score(y_test, y_pred))\n",
    "print(\"Kappa     : \", metrics.cohen_kappa_score(y_test, y_pred))\n",
    "print(\"Precisión : \", metrics.precision_score(y_test, y_pred, average='macro'))\n",
    "print(\"Recall    : \", metrics.recall_score(y_test, y_pred, average='macro'))"
   ]
  },
  {
   "cell_type": "markdown",
   "metadata": {},
   "source": [
    "### Modelo para variables categóricas"
   ]
  },
  {
   "cell_type": "code",
   "execution_count": 65,
   "metadata": {},
   "outputs": [
    {
     "name": "stdout",
     "output_type": "stream",
     "text": [
      "(303, 5)\n"
     ]
    },
    {
     "data": {
      "text/html": [
       "<div>\n",
       "<style scoped>\n",
       "    .dataframe tbody tr th:only-of-type {\n",
       "        vertical-align: middle;\n",
       "    }\n",
       "\n",
       "    .dataframe tbody tr th {\n",
       "        vertical-align: top;\n",
       "    }\n",
       "\n",
       "    .dataframe thead th {\n",
       "        text-align: right;\n",
       "    }\n",
       "</style>\n",
       "<table border=\"1\" class=\"dataframe\">\n",
       "  <thead>\n",
       "    <tr style=\"text-align: right;\">\n",
       "      <th></th>\n",
       "      <th>sexo</th>\n",
       "      <th>tipo_dolor</th>\n",
       "      <th>azucar</th>\n",
       "      <th>ecg</th>\n",
       "      <th>angina</th>\n",
       "    </tr>\n",
       "  </thead>\n",
       "  <tbody>\n",
       "    <tr>\n",
       "      <th>0</th>\n",
       "      <td>1</td>\n",
       "      <td>1</td>\n",
       "      <td>1</td>\n",
       "      <td>2</td>\n",
       "      <td>0</td>\n",
       "    </tr>\n",
       "    <tr>\n",
       "      <th>1</th>\n",
       "      <td>1</td>\n",
       "      <td>4</td>\n",
       "      <td>0</td>\n",
       "      <td>2</td>\n",
       "      <td>1</td>\n",
       "    </tr>\n",
       "    <tr>\n",
       "      <th>2</th>\n",
       "      <td>1</td>\n",
       "      <td>4</td>\n",
       "      <td>0</td>\n",
       "      <td>2</td>\n",
       "      <td>1</td>\n",
       "    </tr>\n",
       "    <tr>\n",
       "      <th>3</th>\n",
       "      <td>1</td>\n",
       "      <td>3</td>\n",
       "      <td>0</td>\n",
       "      <td>0</td>\n",
       "      <td>0</td>\n",
       "    </tr>\n",
       "    <tr>\n",
       "      <th>4</th>\n",
       "      <td>0</td>\n",
       "      <td>2</td>\n",
       "      <td>0</td>\n",
       "      <td>2</td>\n",
       "      <td>0</td>\n",
       "    </tr>\n",
       "  </tbody>\n",
       "</table>\n",
       "</div>"
      ],
      "text/plain": [
       "  sexo tipo_dolor azucar ecg angina\n",
       "0    1          1      1   2      0\n",
       "1    1          4      0   2      1\n",
       "2    1          4      0   2      1\n",
       "3    1          3      0   0      0\n",
       "4    0          2      0   2      0"
      ]
     },
     "execution_count": 65,
     "metadata": {},
     "output_type": "execute_result"
    }
   ],
   "source": [
    "X = data[data.ciudad == 'Cleveland'].loc[:,['sexo', 'tipo_dolor', 'azucar', 'ecg', 'angina']]\n",
    "print(X.shape)\n",
    "X.head()"
   ]
  },
  {
   "cell_type": "code",
   "execution_count": 66,
   "metadata": {},
   "outputs": [
    {
     "name": "stdout",
     "output_type": "stream",
     "text": [
      "(303, 1)\n"
     ]
    },
    {
     "data": {
      "text/html": [
       "<div>\n",
       "<style scoped>\n",
       "    .dataframe tbody tr th:only-of-type {\n",
       "        vertical-align: middle;\n",
       "    }\n",
       "\n",
       "    .dataframe tbody tr th {\n",
       "        vertical-align: top;\n",
       "    }\n",
       "\n",
       "    .dataframe thead th {\n",
       "        text-align: right;\n",
       "    }\n",
       "</style>\n",
       "<table border=\"1\" class=\"dataframe\">\n",
       "  <thead>\n",
       "    <tr style=\"text-align: right;\">\n",
       "      <th></th>\n",
       "      <th>target</th>\n",
       "    </tr>\n",
       "  </thead>\n",
       "  <tbody>\n",
       "    <tr>\n",
       "      <th>0</th>\n",
       "      <td>0</td>\n",
       "    </tr>\n",
       "    <tr>\n",
       "      <th>1</th>\n",
       "      <td>1</td>\n",
       "    </tr>\n",
       "    <tr>\n",
       "      <th>2</th>\n",
       "      <td>1</td>\n",
       "    </tr>\n",
       "    <tr>\n",
       "      <th>3</th>\n",
       "      <td>0</td>\n",
       "    </tr>\n",
       "    <tr>\n",
       "      <th>4</th>\n",
       "      <td>0</td>\n",
       "    </tr>\n",
       "  </tbody>\n",
       "</table>\n",
       "</div>"
      ],
      "text/plain": [
       "  target\n",
       "0      0\n",
       "1      1\n",
       "2      1\n",
       "3      0\n",
       "4      0"
      ]
     },
     "execution_count": 66,
     "metadata": {},
     "output_type": "execute_result"
    }
   ],
   "source": [
    "y = data[data.ciudad == 'Cleveland'].loc[:,['target']]\n",
    "print(y.shape)\n",
    "y.head()"
   ]
  },
  {
   "cell_type": "code",
   "execution_count": 67,
   "metadata": {},
   "outputs": [],
   "source": [
    "X_train, X_test, y_train, y_test = train_test_split(X, y, test_size=0.3, random_state=12345, stratify=y)"
   ]
  },
  {
   "cell_type": "code",
   "execution_count": 68,
   "metadata": {},
   "outputs": [],
   "source": [
    "rec_test_vec=[]\n",
    "alpha_vec= np.arange(0,100,1)\n",
    "\n",
    "for alpha in alpha_vec:\n",
    "    naiveb = BernoulliNB(alpha=alpha)\n",
    "    naiveb.fit(X_train, y_train)\n",
    "    \n",
    "    y_pred = naiveb.predict(X_test)\n",
    "    rec_test_vec.append(metrics.recall_score(y_test, y_pred, average='macro'))\n"
   ]
  },
  {
   "cell_type": "code",
   "execution_count": 69,
   "metadata": {
    "scrolled": true
   },
   "outputs": [
    {
     "data": {
      "text/plain": [
       "Text(0.5, 1.0, 'Evolución de le recall vs alpha')"
      ]
     },
     "execution_count": 69,
     "metadata": {},
     "output_type": "execute_result"
    },
    {
     "data": {
      "image/png": "[encoded data removed]",
      "text/plain": [
       "<Figure size 720x360 with 1 Axes>"
      ]
     },
     "metadata": {
      "needs_background": "light"
     },
     "output_type": "display_data"
    }
   ],
   "source": [
    "plt.figure(figsize=(10,5))\n",
    "ax = plt.gca() # get current axis\n",
    "plt.plot(alpha_vec, rec_test_vec)\n",
    "ax.set_xlim(ax.get_xlim()[::-1])  # reverse axis\n",
    "plt.axis('tight')\n",
    "plt.xlabel('alpha')\n",
    "plt.ylabel('Recall')\n",
    "plt.title('Evolución de le recall vs alpha')"
   ]
  },
  {
   "cell_type": "code",
   "execution_count": 70,
   "metadata": {},
   "outputs": [
    {
     "name": "stdout",
     "output_type": "stream",
     "text": [
      "El óptimo se obtiene con smooth=0.000000, que produce un 68.537% de alpha\n"
     ]
    }
   ],
   "source": [
    "alpha_optimo = alpha_vec[np.argmax(rec_test_vec)]\n",
    "rec_optima= max(rec_test_vec)\n",
    "print(\"El óptimo se obtiene con smooth=%f, que produce un %.3f%% de alpha\" %(alpha_optimo, 100*rec_optima))"
   ]
  },
  {
   "cell_type": "code",
   "execution_count": 71,
   "metadata": {
    "scrolled": true
   },
   "outputs": [
    {
     "data": {
      "text/html": [
       "<div>\n",
       "<style scoped>\n",
       "    .dataframe tbody tr th:only-of-type {\n",
       "        vertical-align: middle;\n",
       "    }\n",
       "\n",
       "    .dataframe tbody tr th {\n",
       "        vertical-align: top;\n",
       "    }\n",
       "\n",
       "    .dataframe thead th {\n",
       "        text-align: right;\n",
       "    }\n",
       "</style>\n",
       "<table border=\"1\" class=\"dataframe\">\n",
       "  <thead>\n",
       "    <tr style=\"text-align: right;\">\n",
       "      <th></th>\n",
       "      <th>alpha</th>\n",
       "      <th>recall</th>\n",
       "    </tr>\n",
       "  </thead>\n",
       "  <tbody>\n",
       "    <tr>\n",
       "      <th>0</th>\n",
       "      <td>0</td>\n",
       "      <td>0.685374</td>\n",
       "    </tr>\n",
       "    <tr>\n",
       "      <th>1</th>\n",
       "      <td>1</td>\n",
       "      <td>0.685374</td>\n",
       "    </tr>\n",
       "    <tr>\n",
       "      <th>2</th>\n",
       "      <td>2</td>\n",
       "      <td>0.685374</td>\n",
       "    </tr>\n",
       "    <tr>\n",
       "      <th>3</th>\n",
       "      <td>3</td>\n",
       "      <td>0.685374</td>\n",
       "    </tr>\n",
       "    <tr>\n",
       "      <th>4</th>\n",
       "      <td>4</td>\n",
       "      <td>0.673469</td>\n",
       "    </tr>\n",
       "    <tr>\n",
       "      <th>5</th>\n",
       "      <td>5</td>\n",
       "      <td>0.673469</td>\n",
       "    </tr>\n",
       "    <tr>\n",
       "      <th>6</th>\n",
       "      <td>6</td>\n",
       "      <td>0.673469</td>\n",
       "    </tr>\n",
       "    <tr>\n",
       "      <th>7</th>\n",
       "      <td>7</td>\n",
       "      <td>0.673469</td>\n",
       "    </tr>\n",
       "    <tr>\n",
       "      <th>8</th>\n",
       "      <td>8</td>\n",
       "      <td>0.673469</td>\n",
       "    </tr>\n",
       "    <tr>\n",
       "      <th>9</th>\n",
       "      <td>9</td>\n",
       "      <td>0.673469</td>\n",
       "    </tr>\n",
       "    <tr>\n",
       "      <th>10</th>\n",
       "      <td>10</td>\n",
       "      <td>0.673469</td>\n",
       "    </tr>\n",
       "    <tr>\n",
       "      <th>11</th>\n",
       "      <td>11</td>\n",
       "      <td>0.673469</td>\n",
       "    </tr>\n",
       "    <tr>\n",
       "      <th>12</th>\n",
       "      <td>12</td>\n",
       "      <td>0.673469</td>\n",
       "    </tr>\n",
       "    <tr>\n",
       "      <th>13</th>\n",
       "      <td>13</td>\n",
       "      <td>0.673469</td>\n",
       "    </tr>\n",
       "    <tr>\n",
       "      <th>14</th>\n",
       "      <td>14</td>\n",
       "      <td>0.673469</td>\n",
       "    </tr>\n",
       "    <tr>\n",
       "      <th>15</th>\n",
       "      <td>15</td>\n",
       "      <td>0.673469</td>\n",
       "    </tr>\n",
       "    <tr>\n",
       "      <th>16</th>\n",
       "      <td>16</td>\n",
       "      <td>0.673469</td>\n",
       "    </tr>\n",
       "    <tr>\n",
       "      <th>17</th>\n",
       "      <td>17</td>\n",
       "      <td>0.673469</td>\n",
       "    </tr>\n",
       "    <tr>\n",
       "      <th>18</th>\n",
       "      <td>18</td>\n",
       "      <td>0.673469</td>\n",
       "    </tr>\n",
       "    <tr>\n",
       "      <th>19</th>\n",
       "      <td>19</td>\n",
       "      <td>0.673469</td>\n",
       "    </tr>\n",
       "    <tr>\n",
       "      <th>20</th>\n",
       "      <td>20</td>\n",
       "      <td>0.681973</td>\n",
       "    </tr>\n",
       "    <tr>\n",
       "      <th>21</th>\n",
       "      <td>21</td>\n",
       "      <td>0.681973</td>\n",
       "    </tr>\n",
       "    <tr>\n",
       "      <th>22</th>\n",
       "      <td>22</td>\n",
       "      <td>0.681973</td>\n",
       "    </tr>\n",
       "    <tr>\n",
       "      <th>23</th>\n",
       "      <td>23</td>\n",
       "      <td>0.681973</td>\n",
       "    </tr>\n",
       "    <tr>\n",
       "      <th>24</th>\n",
       "      <td>24</td>\n",
       "      <td>0.681973</td>\n",
       "    </tr>\n",
       "    <tr>\n",
       "      <th>25</th>\n",
       "      <td>25</td>\n",
       "      <td>0.681973</td>\n",
       "    </tr>\n",
       "    <tr>\n",
       "      <th>26</th>\n",
       "      <td>26</td>\n",
       "      <td>0.681973</td>\n",
       "    </tr>\n",
       "    <tr>\n",
       "      <th>27</th>\n",
       "      <td>27</td>\n",
       "      <td>0.681973</td>\n",
       "    </tr>\n",
       "    <tr>\n",
       "      <th>28</th>\n",
       "      <td>28</td>\n",
       "      <td>0.681973</td>\n",
       "    </tr>\n",
       "    <tr>\n",
       "      <th>29</th>\n",
       "      <td>29</td>\n",
       "      <td>0.681973</td>\n",
       "    </tr>\n",
       "    <tr>\n",
       "      <th>...</th>\n",
       "      <td>...</td>\n",
       "      <td>...</td>\n",
       "    </tr>\n",
       "    <tr>\n",
       "      <th>70</th>\n",
       "      <td>70</td>\n",
       "      <td>0.681973</td>\n",
       "    </tr>\n",
       "    <tr>\n",
       "      <th>71</th>\n",
       "      <td>71</td>\n",
       "      <td>0.681973</td>\n",
       "    </tr>\n",
       "    <tr>\n",
       "      <th>72</th>\n",
       "      <td>72</td>\n",
       "      <td>0.681973</td>\n",
       "    </tr>\n",
       "    <tr>\n",
       "      <th>73</th>\n",
       "      <td>73</td>\n",
       "      <td>0.681973</td>\n",
       "    </tr>\n",
       "    <tr>\n",
       "      <th>74</th>\n",
       "      <td>74</td>\n",
       "      <td>0.681973</td>\n",
       "    </tr>\n",
       "    <tr>\n",
       "      <th>75</th>\n",
       "      <td>75</td>\n",
       "      <td>0.681973</td>\n",
       "    </tr>\n",
       "    <tr>\n",
       "      <th>76</th>\n",
       "      <td>76</td>\n",
       "      <td>0.681973</td>\n",
       "    </tr>\n",
       "    <tr>\n",
       "      <th>77</th>\n",
       "      <td>77</td>\n",
       "      <td>0.681973</td>\n",
       "    </tr>\n",
       "    <tr>\n",
       "      <th>78</th>\n",
       "      <td>78</td>\n",
       "      <td>0.681973</td>\n",
       "    </tr>\n",
       "    <tr>\n",
       "      <th>79</th>\n",
       "      <td>79</td>\n",
       "      <td>0.681973</td>\n",
       "    </tr>\n",
       "    <tr>\n",
       "      <th>80</th>\n",
       "      <td>80</td>\n",
       "      <td>0.681973</td>\n",
       "    </tr>\n",
       "    <tr>\n",
       "      <th>81</th>\n",
       "      <td>81</td>\n",
       "      <td>0.681973</td>\n",
       "    </tr>\n",
       "    <tr>\n",
       "      <th>82</th>\n",
       "      <td>82</td>\n",
       "      <td>0.681973</td>\n",
       "    </tr>\n",
       "    <tr>\n",
       "      <th>83</th>\n",
       "      <td>83</td>\n",
       "      <td>0.681973</td>\n",
       "    </tr>\n",
       "    <tr>\n",
       "      <th>84</th>\n",
       "      <td>84</td>\n",
       "      <td>0.681973</td>\n",
       "    </tr>\n",
       "    <tr>\n",
       "      <th>85</th>\n",
       "      <td>85</td>\n",
       "      <td>0.681973</td>\n",
       "    </tr>\n",
       "    <tr>\n",
       "      <th>86</th>\n",
       "      <td>86</td>\n",
       "      <td>0.681973</td>\n",
       "    </tr>\n",
       "    <tr>\n",
       "      <th>87</th>\n",
       "      <td>87</td>\n",
       "      <td>0.681973</td>\n",
       "    </tr>\n",
       "    <tr>\n",
       "      <th>88</th>\n",
       "      <td>88</td>\n",
       "      <td>0.681973</td>\n",
       "    </tr>\n",
       "    <tr>\n",
       "      <th>89</th>\n",
       "      <td>89</td>\n",
       "      <td>0.681973</td>\n",
       "    </tr>\n",
       "    <tr>\n",
       "      <th>90</th>\n",
       "      <td>90</td>\n",
       "      <td>0.681973</td>\n",
       "    </tr>\n",
       "    <tr>\n",
       "      <th>91</th>\n",
       "      <td>91</td>\n",
       "      <td>0.681973</td>\n",
       "    </tr>\n",
       "    <tr>\n",
       "      <th>92</th>\n",
       "      <td>92</td>\n",
       "      <td>0.681973</td>\n",
       "    </tr>\n",
       "    <tr>\n",
       "      <th>93</th>\n",
       "      <td>93</td>\n",
       "      <td>0.681973</td>\n",
       "    </tr>\n",
       "    <tr>\n",
       "      <th>94</th>\n",
       "      <td>94</td>\n",
       "      <td>0.681973</td>\n",
       "    </tr>\n",
       "    <tr>\n",
       "      <th>95</th>\n",
       "      <td>95</td>\n",
       "      <td>0.681973</td>\n",
       "    </tr>\n",
       "    <tr>\n",
       "      <th>96</th>\n",
       "      <td>96</td>\n",
       "      <td>0.681973</td>\n",
       "    </tr>\n",
       "    <tr>\n",
       "      <th>97</th>\n",
       "      <td>97</td>\n",
       "      <td>0.681973</td>\n",
       "    </tr>\n",
       "    <tr>\n",
       "      <th>98</th>\n",
       "      <td>98</td>\n",
       "      <td>0.681973</td>\n",
       "    </tr>\n",
       "    <tr>\n",
       "      <th>99</th>\n",
       "      <td>99</td>\n",
       "      <td>0.681973</td>\n",
       "    </tr>\n",
       "  </tbody>\n",
       "</table>\n",
       "<p>100 rows × 2 columns</p>\n",
       "</div>"
      ],
      "text/plain": [
       "    alpha    recall\n",
       "0       0  0.685374\n",
       "1       1  0.685374\n",
       "2       2  0.685374\n",
       "3       3  0.685374\n",
       "4       4  0.673469\n",
       "5       5  0.673469\n",
       "6       6  0.673469\n",
       "7       7  0.673469\n",
       "8       8  0.673469\n",
       "9       9  0.673469\n",
       "10     10  0.673469\n",
       "11     11  0.673469\n",
       "12     12  0.673469\n",
       "13     13  0.673469\n",
       "14     14  0.673469\n",
       "15     15  0.673469\n",
       "16     16  0.673469\n",
       "17     17  0.673469\n",
       "18     18  0.673469\n",
       "19     19  0.673469\n",
       "20     20  0.681973\n",
       "21     21  0.681973\n",
       "22     22  0.681973\n",
       "23     23  0.681973\n",
       "24     24  0.681973\n",
       "25     25  0.681973\n",
       "26     26  0.681973\n",
       "27     27  0.681973\n",
       "28     28  0.681973\n",
       "29     29  0.681973\n",
       "..    ...       ...\n",
       "70     70  0.681973\n",
       "71     71  0.681973\n",
       "72     72  0.681973\n",
       "73     73  0.681973\n",
       "74     74  0.681973\n",
       "75     75  0.681973\n",
       "76     76  0.681973\n",
       "77     77  0.681973\n",
       "78     78  0.681973\n",
       "79     79  0.681973\n",
       "80     80  0.681973\n",
       "81     81  0.681973\n",
       "82     82  0.681973\n",
       "83     83  0.681973\n",
       "84     84  0.681973\n",
       "85     85  0.681973\n",
       "86     86  0.681973\n",
       "87     87  0.681973\n",
       "88     88  0.681973\n",
       "89     89  0.681973\n",
       "90     90  0.681973\n",
       "91     91  0.681973\n",
       "92     92  0.681973\n",
       "93     93  0.681973\n",
       "94     94  0.681973\n",
       "95     95  0.681973\n",
       "96     96  0.681973\n",
       "97     97  0.681973\n",
       "98     98  0.681973\n",
       "99     99  0.681973\n",
       "\n",
       "[100 rows x 2 columns]"
      ]
     },
     "execution_count": 71,
     "metadata": {},
     "output_type": "execute_result"
    }
   ],
   "source": [
    "alphas = pd.DataFrame({\"alpha\": alpha_vec, \"recall\": rec_test_vec})\n",
    "alphas"
   ]
  },
  {
   "cell_type": "markdown",
   "metadata": {
    "scrolled": true
   },
   "source": [
    "Se seleccionara el smooth de: 2, que se encuentra entre 0 y 4. Para seleccionar un promedio "
   ]
  },
  {
   "cell_type": "markdown",
   "metadata": {},
   "source": [
    "### Se evaluará el modelo con un alpha de 2"
   ]
  },
  {
   "cell_type": "code",
   "execution_count": 72,
   "metadata": {},
   "outputs": [],
   "source": [
    "naiveb = BernoulliNB(alpha=2)\n",
    "naiveb.fit(X_test, y_test)\n",
    "y_pred = naiveb.predict(X_test)"
   ]
  },
  {
   "cell_type": "code",
   "execution_count": 73,
   "metadata": {},
   "outputs": [
    {
     "name": "stdout",
     "output_type": "stream",
     "text": [
      "Exactitud :  0.7032967032967034\n",
      "Kappa     :  0.4040747028862479\n",
      "Precisión :  0.7017926356589147\n",
      "Recall    :  0.7023809523809523\n"
     ]
    }
   ],
   "source": [
    "print(\"Exactitud : \", metrics.accuracy_score(y_test, y_pred))\n",
    "print(\"Kappa     : \", metrics.cohen_kappa_score(y_test, y_pred))\n",
    "print(\"Precisión : \", metrics.precision_score(y_test, y_pred, average='macro'))\n",
    "print(\"Recall    : \", metrics.recall_score(y_test, y_pred, average='macro'))"
   ]
  },
  {
   "cell_type": "markdown",
   "metadata": {},
   "source": [
    "### Conclusiones"
   ]
  },
  {
   "cell_type": "raw",
   "metadata": {},
   "source": [
    "Se determina que de escoger un modelo se eligiría el modelo de NaiveBayes para las variables numéricas, pues ofrece un mejor Kappa y una mejor métrica de recall. Además, de ser así, el modelo desarrollado ofrece un 79% de efectividad para identificar realmente a las personas que tienen riesgo de padecer enfermedades cardiacas."
   ]
  }
 ],
 "metadata": {
  "kernelspec": {
   "display_name": "Python 3",
   "language": "python",
   "name": "python3"
  },
  "language_info": {
   "codemirror_mode": {
    "name": "ipython",
    "version": 3
   },
   "file_extension": ".py",
   "mimetype": "text/x-python",
   "name": "python",
   "nbconvert_exporter": "python",
   "pygments_lexer": "ipython3",
   "version": "3.7.1"
  }
 },
 "nbformat": 4,
 "nbformat_minor": 2
}
